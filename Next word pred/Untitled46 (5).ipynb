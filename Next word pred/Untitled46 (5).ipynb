{
  "nbformat": 4,
  "nbformat_minor": 0,
  "metadata": {
    "colab": {
      "provenance": []
    },
    "kernelspec": {
      "name": "python3",
      "display_name": "Python 3"
    },
    "language_info": {
      "name": "python"
    },
    "widgets": {
      "application/vnd.jupyter.widget-state+json": {
        "e33bdf5916ce4509b2659cb0f30cbd58": {
          "model_module": "@jupyter-widgets/controls",
          "model_name": "HBoxModel",
          "model_module_version": "1.5.0",
          "state": {
            "_dom_classes": [],
            "_model_module": "@jupyter-widgets/controls",
            "_model_module_version": "1.5.0",
            "_model_name": "HBoxModel",
            "_view_count": null,
            "_view_module": "@jupyter-widgets/controls",
            "_view_module_version": "1.5.0",
            "_view_name": "HBoxView",
            "box_style": "",
            "children": [
              "IPY_MODEL_4969b933d98d42cb9eda5e8dd4e0bede",
              "IPY_MODEL_786a9368db424abf99f106c36342c6e6",
              "IPY_MODEL_6caa51999bda4edc85488e9c8715370c"
            ],
            "layout": "IPY_MODEL_1f9073ade19f4081a00efef52826ffda"
          }
        },
        "4969b933d98d42cb9eda5e8dd4e0bede": {
          "model_module": "@jupyter-widgets/controls",
          "model_name": "HTMLModel",
          "model_module_version": "1.5.0",
          "state": {
            "_dom_classes": [],
            "_model_module": "@jupyter-widgets/controls",
            "_model_module_version": "1.5.0",
            "_model_name": "HTMLModel",
            "_view_count": null,
            "_view_module": "@jupyter-widgets/controls",
            "_view_module_version": "1.5.0",
            "_view_name": "HTMLView",
            "description": "",
            "description_tooltip": null,
            "layout": "IPY_MODEL_ce028480db014673a7d4e5d21fdb9a55",
            "placeholder": "​",
            "style": "IPY_MODEL_1105c9f373f64b0db9d89e2f9bd488cf",
            "value": "Downloading (…)okenizer_config.json: 100%"
          }
        },
        "786a9368db424abf99f106c36342c6e6": {
          "model_module": "@jupyter-widgets/controls",
          "model_name": "FloatProgressModel",
          "model_module_version": "1.5.0",
          "state": {
            "_dom_classes": [],
            "_model_module": "@jupyter-widgets/controls",
            "_model_module_version": "1.5.0",
            "_model_name": "FloatProgressModel",
            "_view_count": null,
            "_view_module": "@jupyter-widgets/controls",
            "_view_module_version": "1.5.0",
            "_view_name": "ProgressView",
            "bar_style": "success",
            "description": "",
            "description_tooltip": null,
            "layout": "IPY_MODEL_dd2261cb99c148628bd54c2efe01fff7",
            "max": 222,
            "min": 0,
            "orientation": "horizontal",
            "style": "IPY_MODEL_0247f991ae70472abfb12643a5c63db0",
            "value": 222
          }
        },
        "6caa51999bda4edc85488e9c8715370c": {
          "model_module": "@jupyter-widgets/controls",
          "model_name": "HTMLModel",
          "model_module_version": "1.5.0",
          "state": {
            "_dom_classes": [],
            "_model_module": "@jupyter-widgets/controls",
            "_model_module_version": "1.5.0",
            "_model_name": "HTMLModel",
            "_view_count": null,
            "_view_module": "@jupyter-widgets/controls",
            "_view_module_version": "1.5.0",
            "_view_name": "HTMLView",
            "description": "",
            "description_tooltip": null,
            "layout": "IPY_MODEL_2cf8f96d6e7c4b3a86abdf69294c666a",
            "placeholder": "​",
            "style": "IPY_MODEL_f8654a773e3f4676944cf3197b7c5e80",
            "value": " 222/222 [00:00&lt;00:00, 7.58kB/s]"
          }
        },
        "1f9073ade19f4081a00efef52826ffda": {
          "model_module": "@jupyter-widgets/base",
          "model_name": "LayoutModel",
          "model_module_version": "1.2.0",
          "state": {
            "_model_module": "@jupyter-widgets/base",
            "_model_module_version": "1.2.0",
            "_model_name": "LayoutModel",
            "_view_count": null,
            "_view_module": "@jupyter-widgets/base",
            "_view_module_version": "1.2.0",
            "_view_name": "LayoutView",
            "align_content": null,
            "align_items": null,
            "align_self": null,
            "border": null,
            "bottom": null,
            "display": null,
            "flex": null,
            "flex_flow": null,
            "grid_area": null,
            "grid_auto_columns": null,
            "grid_auto_flow": null,
            "grid_auto_rows": null,
            "grid_column": null,
            "grid_gap": null,
            "grid_row": null,
            "grid_template_areas": null,
            "grid_template_columns": null,
            "grid_template_rows": null,
            "height": null,
            "justify_content": null,
            "justify_items": null,
            "left": null,
            "margin": null,
            "max_height": null,
            "max_width": null,
            "min_height": null,
            "min_width": null,
            "object_fit": null,
            "object_position": null,
            "order": null,
            "overflow": null,
            "overflow_x": null,
            "overflow_y": null,
            "padding": null,
            "right": null,
            "top": null,
            "visibility": null,
            "width": null
          }
        },
        "ce028480db014673a7d4e5d21fdb9a55": {
          "model_module": "@jupyter-widgets/base",
          "model_name": "LayoutModel",
          "model_module_version": "1.2.0",
          "state": {
            "_model_module": "@jupyter-widgets/base",
            "_model_module_version": "1.2.0",
            "_model_name": "LayoutModel",
            "_view_count": null,
            "_view_module": "@jupyter-widgets/base",
            "_view_module_version": "1.2.0",
            "_view_name": "LayoutView",
            "align_content": null,
            "align_items": null,
            "align_self": null,
            "border": null,
            "bottom": null,
            "display": null,
            "flex": null,
            "flex_flow": null,
            "grid_area": null,
            "grid_auto_columns": null,
            "grid_auto_flow": null,
            "grid_auto_rows": null,
            "grid_column": null,
            "grid_gap": null,
            "grid_row": null,
            "grid_template_areas": null,
            "grid_template_columns": null,
            "grid_template_rows": null,
            "height": null,
            "justify_content": null,
            "justify_items": null,
            "left": null,
            "margin": null,
            "max_height": null,
            "max_width": null,
            "min_height": null,
            "min_width": null,
            "object_fit": null,
            "object_position": null,
            "order": null,
            "overflow": null,
            "overflow_x": null,
            "overflow_y": null,
            "padding": null,
            "right": null,
            "top": null,
            "visibility": null,
            "width": null
          }
        },
        "1105c9f373f64b0db9d89e2f9bd488cf": {
          "model_module": "@jupyter-widgets/controls",
          "model_name": "DescriptionStyleModel",
          "model_module_version": "1.5.0",
          "state": {
            "_model_module": "@jupyter-widgets/controls",
            "_model_module_version": "1.5.0",
            "_model_name": "DescriptionStyleModel",
            "_view_count": null,
            "_view_module": "@jupyter-widgets/base",
            "_view_module_version": "1.2.0",
            "_view_name": "StyleView",
            "description_width": ""
          }
        },
        "dd2261cb99c148628bd54c2efe01fff7": {
          "model_module": "@jupyter-widgets/base",
          "model_name": "LayoutModel",
          "model_module_version": "1.2.0",
          "state": {
            "_model_module": "@jupyter-widgets/base",
            "_model_module_version": "1.2.0",
            "_model_name": "LayoutModel",
            "_view_count": null,
            "_view_module": "@jupyter-widgets/base",
            "_view_module_version": "1.2.0",
            "_view_name": "LayoutView",
            "align_content": null,
            "align_items": null,
            "align_self": null,
            "border": null,
            "bottom": null,
            "display": null,
            "flex": null,
            "flex_flow": null,
            "grid_area": null,
            "grid_auto_columns": null,
            "grid_auto_flow": null,
            "grid_auto_rows": null,
            "grid_column": null,
            "grid_gap": null,
            "grid_row": null,
            "grid_template_areas": null,
            "grid_template_columns": null,
            "grid_template_rows": null,
            "height": null,
            "justify_content": null,
            "justify_items": null,
            "left": null,
            "margin": null,
            "max_height": null,
            "max_width": null,
            "min_height": null,
            "min_width": null,
            "object_fit": null,
            "object_position": null,
            "order": null,
            "overflow": null,
            "overflow_x": null,
            "overflow_y": null,
            "padding": null,
            "right": null,
            "top": null,
            "visibility": null,
            "width": null
          }
        },
        "0247f991ae70472abfb12643a5c63db0": {
          "model_module": "@jupyter-widgets/controls",
          "model_name": "ProgressStyleModel",
          "model_module_version": "1.5.0",
          "state": {
            "_model_module": "@jupyter-widgets/controls",
            "_model_module_version": "1.5.0",
            "_model_name": "ProgressStyleModel",
            "_view_count": null,
            "_view_module": "@jupyter-widgets/base",
            "_view_module_version": "1.2.0",
            "_view_name": "StyleView",
            "bar_color": null,
            "description_width": ""
          }
        },
        "2cf8f96d6e7c4b3a86abdf69294c666a": {
          "model_module": "@jupyter-widgets/base",
          "model_name": "LayoutModel",
          "model_module_version": "1.2.0",
          "state": {
            "_model_module": "@jupyter-widgets/base",
            "_model_module_version": "1.2.0",
            "_model_name": "LayoutModel",
            "_view_count": null,
            "_view_module": "@jupyter-widgets/base",
            "_view_module_version": "1.2.0",
            "_view_name": "LayoutView",
            "align_content": null,
            "align_items": null,
            "align_self": null,
            "border": null,
            "bottom": null,
            "display": null,
            "flex": null,
            "flex_flow": null,
            "grid_area": null,
            "grid_auto_columns": null,
            "grid_auto_flow": null,
            "grid_auto_rows": null,
            "grid_column": null,
            "grid_gap": null,
            "grid_row": null,
            "grid_template_areas": null,
            "grid_template_columns": null,
            "grid_template_rows": null,
            "height": null,
            "justify_content": null,
            "justify_items": null,
            "left": null,
            "margin": null,
            "max_height": null,
            "max_width": null,
            "min_height": null,
            "min_width": null,
            "object_fit": null,
            "object_position": null,
            "order": null,
            "overflow": null,
            "overflow_x": null,
            "overflow_y": null,
            "padding": null,
            "right": null,
            "top": null,
            "visibility": null,
            "width": null
          }
        },
        "f8654a773e3f4676944cf3197b7c5e80": {
          "model_module": "@jupyter-widgets/controls",
          "model_name": "DescriptionStyleModel",
          "model_module_version": "1.5.0",
          "state": {
            "_model_module": "@jupyter-widgets/controls",
            "_model_module_version": "1.5.0",
            "_model_name": "DescriptionStyleModel",
            "_view_count": null,
            "_view_module": "@jupyter-widgets/base",
            "_view_module_version": "1.2.0",
            "_view_name": "StyleView",
            "description_width": ""
          }
        },
        "131750e9b96641f982f31f00a4ac76b3": {
          "model_module": "@jupyter-widgets/controls",
          "model_name": "HBoxModel",
          "model_module_version": "1.5.0",
          "state": {
            "_dom_classes": [],
            "_model_module": "@jupyter-widgets/controls",
            "_model_module_version": "1.5.0",
            "_model_name": "HBoxModel",
            "_view_count": null,
            "_view_module": "@jupyter-widgets/controls",
            "_view_module_version": "1.5.0",
            "_view_name": "HBoxView",
            "box_style": "",
            "children": [
              "IPY_MODEL_36c2256b3e844151a57f1a587615b856",
              "IPY_MODEL_e05b11960b5248aeb731a08531c7def2",
              "IPY_MODEL_b994716f4980479197223358b8eb8313"
            ],
            "layout": "IPY_MODEL_89934f6337f84165b8dcfc8cdfc2ee91"
          }
        },
        "36c2256b3e844151a57f1a587615b856": {
          "model_module": "@jupyter-widgets/controls",
          "model_name": "HTMLModel",
          "model_module_version": "1.5.0",
          "state": {
            "_dom_classes": [],
            "_model_module": "@jupyter-widgets/controls",
            "_model_module_version": "1.5.0",
            "_model_name": "HTMLModel",
            "_view_count": null,
            "_view_module": "@jupyter-widgets/controls",
            "_view_module_version": "1.5.0",
            "_view_name": "HTMLView",
            "description": "",
            "description_tooltip": null,
            "layout": "IPY_MODEL_af6580e781684d788577b348920d9282",
            "placeholder": "​",
            "style": "IPY_MODEL_3f659d76251346d083d723d0f9b393d4",
            "value": "Downloading tokenizer.json: 100%"
          }
        },
        "e05b11960b5248aeb731a08531c7def2": {
          "model_module": "@jupyter-widgets/controls",
          "model_name": "FloatProgressModel",
          "model_module_version": "1.5.0",
          "state": {
            "_dom_classes": [],
            "_model_module": "@jupyter-widgets/controls",
            "_model_module_version": "1.5.0",
            "_model_name": "FloatProgressModel",
            "_view_count": null,
            "_view_module": "@jupyter-widgets/controls",
            "_view_module_version": "1.5.0",
            "_view_name": "ProgressView",
            "bar_style": "success",
            "description": "",
            "description_tooltip": null,
            "layout": "IPY_MODEL_bda5e5dfe4db45cfbd55aee7e4daf922",
            "max": 14500438,
            "min": 0,
            "orientation": "horizontal",
            "style": "IPY_MODEL_9f82d7ff5fb2438d993580ec1d016476",
            "value": 14500438
          }
        },
        "b994716f4980479197223358b8eb8313": {
          "model_module": "@jupyter-widgets/controls",
          "model_name": "HTMLModel",
          "model_module_version": "1.5.0",
          "state": {
            "_dom_classes": [],
            "_model_module": "@jupyter-widgets/controls",
            "_model_module_version": "1.5.0",
            "_model_name": "HTMLModel",
            "_view_count": null,
            "_view_module": "@jupyter-widgets/controls",
            "_view_module_version": "1.5.0",
            "_view_name": "HTMLView",
            "description": "",
            "description_tooltip": null,
            "layout": "IPY_MODEL_1cedb497947b4fa78da3f9386e090b9e",
            "placeholder": "​",
            "style": "IPY_MODEL_e391f35e1184445dbb5c65b576b757de",
            "value": " 14.5M/14.5M [00:00&lt;00:00, 61.9MB/s]"
          }
        },
        "89934f6337f84165b8dcfc8cdfc2ee91": {
          "model_module": "@jupyter-widgets/base",
          "model_name": "LayoutModel",
          "model_module_version": "1.2.0",
          "state": {
            "_model_module": "@jupyter-widgets/base",
            "_model_module_version": "1.2.0",
            "_model_name": "LayoutModel",
            "_view_count": null,
            "_view_module": "@jupyter-widgets/base",
            "_view_module_version": "1.2.0",
            "_view_name": "LayoutView",
            "align_content": null,
            "align_items": null,
            "align_self": null,
            "border": null,
            "bottom": null,
            "display": null,
            "flex": null,
            "flex_flow": null,
            "grid_area": null,
            "grid_auto_columns": null,
            "grid_auto_flow": null,
            "grid_auto_rows": null,
            "grid_column": null,
            "grid_gap": null,
            "grid_row": null,
            "grid_template_areas": null,
            "grid_template_columns": null,
            "grid_template_rows": null,
            "height": null,
            "justify_content": null,
            "justify_items": null,
            "left": null,
            "margin": null,
            "max_height": null,
            "max_width": null,
            "min_height": null,
            "min_width": null,
            "object_fit": null,
            "object_position": null,
            "order": null,
            "overflow": null,
            "overflow_x": null,
            "overflow_y": null,
            "padding": null,
            "right": null,
            "top": null,
            "visibility": null,
            "width": null
          }
        },
        "af6580e781684d788577b348920d9282": {
          "model_module": "@jupyter-widgets/base",
          "model_name": "LayoutModel",
          "model_module_version": "1.2.0",
          "state": {
            "_model_module": "@jupyter-widgets/base",
            "_model_module_version": "1.2.0",
            "_model_name": "LayoutModel",
            "_view_count": null,
            "_view_module": "@jupyter-widgets/base",
            "_view_module_version": "1.2.0",
            "_view_name": "LayoutView",
            "align_content": null,
            "align_items": null,
            "align_self": null,
            "border": null,
            "bottom": null,
            "display": null,
            "flex": null,
            "flex_flow": null,
            "grid_area": null,
            "grid_auto_columns": null,
            "grid_auto_flow": null,
            "grid_auto_rows": null,
            "grid_column": null,
            "grid_gap": null,
            "grid_row": null,
            "grid_template_areas": null,
            "grid_template_columns": null,
            "grid_template_rows": null,
            "height": null,
            "justify_content": null,
            "justify_items": null,
            "left": null,
            "margin": null,
            "max_height": null,
            "max_width": null,
            "min_height": null,
            "min_width": null,
            "object_fit": null,
            "object_position": null,
            "order": null,
            "overflow": null,
            "overflow_x": null,
            "overflow_y": null,
            "padding": null,
            "right": null,
            "top": null,
            "visibility": null,
            "width": null
          }
        },
        "3f659d76251346d083d723d0f9b393d4": {
          "model_module": "@jupyter-widgets/controls",
          "model_name": "DescriptionStyleModel",
          "model_module_version": "1.5.0",
          "state": {
            "_model_module": "@jupyter-widgets/controls",
            "_model_module_version": "1.5.0",
            "_model_name": "DescriptionStyleModel",
            "_view_count": null,
            "_view_module": "@jupyter-widgets/base",
            "_view_module_version": "1.2.0",
            "_view_name": "StyleView",
            "description_width": ""
          }
        },
        "bda5e5dfe4db45cfbd55aee7e4daf922": {
          "model_module": "@jupyter-widgets/base",
          "model_name": "LayoutModel",
          "model_module_version": "1.2.0",
          "state": {
            "_model_module": "@jupyter-widgets/base",
            "_model_module_version": "1.2.0",
            "_model_name": "LayoutModel",
            "_view_count": null,
            "_view_module": "@jupyter-widgets/base",
            "_view_module_version": "1.2.0",
            "_view_name": "LayoutView",
            "align_content": null,
            "align_items": null,
            "align_self": null,
            "border": null,
            "bottom": null,
            "display": null,
            "flex": null,
            "flex_flow": null,
            "grid_area": null,
            "grid_auto_columns": null,
            "grid_auto_flow": null,
            "grid_auto_rows": null,
            "grid_column": null,
            "grid_gap": null,
            "grid_row": null,
            "grid_template_areas": null,
            "grid_template_columns": null,
            "grid_template_rows": null,
            "height": null,
            "justify_content": null,
            "justify_items": null,
            "left": null,
            "margin": null,
            "max_height": null,
            "max_width": null,
            "min_height": null,
            "min_width": null,
            "object_fit": null,
            "object_position": null,
            "order": null,
            "overflow": null,
            "overflow_x": null,
            "overflow_y": null,
            "padding": null,
            "right": null,
            "top": null,
            "visibility": null,
            "width": null
          }
        },
        "9f82d7ff5fb2438d993580ec1d016476": {
          "model_module": "@jupyter-widgets/controls",
          "model_name": "ProgressStyleModel",
          "model_module_version": "1.5.0",
          "state": {
            "_model_module": "@jupyter-widgets/controls",
            "_model_module_version": "1.5.0",
            "_model_name": "ProgressStyleModel",
            "_view_count": null,
            "_view_module": "@jupyter-widgets/base",
            "_view_module_version": "1.2.0",
            "_view_name": "StyleView",
            "bar_color": null,
            "description_width": ""
          }
        },
        "1cedb497947b4fa78da3f9386e090b9e": {
          "model_module": "@jupyter-widgets/base",
          "model_name": "LayoutModel",
          "model_module_version": "1.2.0",
          "state": {
            "_model_module": "@jupyter-widgets/base",
            "_model_module_version": "1.2.0",
            "_model_name": "LayoutModel",
            "_view_count": null,
            "_view_module": "@jupyter-widgets/base",
            "_view_module_version": "1.2.0",
            "_view_name": "LayoutView",
            "align_content": null,
            "align_items": null,
            "align_self": null,
            "border": null,
            "bottom": null,
            "display": null,
            "flex": null,
            "flex_flow": null,
            "grid_area": null,
            "grid_auto_columns": null,
            "grid_auto_flow": null,
            "grid_auto_rows": null,
            "grid_column": null,
            "grid_gap": null,
            "grid_row": null,
            "grid_template_areas": null,
            "grid_template_columns": null,
            "grid_template_rows": null,
            "height": null,
            "justify_content": null,
            "justify_items": null,
            "left": null,
            "margin": null,
            "max_height": null,
            "max_width": null,
            "min_height": null,
            "min_width": null,
            "object_fit": null,
            "object_position": null,
            "order": null,
            "overflow": null,
            "overflow_x": null,
            "overflow_y": null,
            "padding": null,
            "right": null,
            "top": null,
            "visibility": null,
            "width": null
          }
        },
        "e391f35e1184445dbb5c65b576b757de": {
          "model_module": "@jupyter-widgets/controls",
          "model_name": "DescriptionStyleModel",
          "model_module_version": "1.5.0",
          "state": {
            "_model_module": "@jupyter-widgets/controls",
            "_model_module_version": "1.5.0",
            "_model_name": "DescriptionStyleModel",
            "_view_count": null,
            "_view_module": "@jupyter-widgets/base",
            "_view_module_version": "1.2.0",
            "_view_name": "StyleView",
            "description_width": ""
          }
        },
        "62960e7702584c2da9aadc8aede21581": {
          "model_module": "@jupyter-widgets/controls",
          "model_name": "HBoxModel",
          "model_module_version": "1.5.0",
          "state": {
            "_dom_classes": [],
            "_model_module": "@jupyter-widgets/controls",
            "_model_module_version": "1.5.0",
            "_model_name": "HBoxModel",
            "_view_count": null,
            "_view_module": "@jupyter-widgets/controls",
            "_view_module_version": "1.5.0",
            "_view_name": "HBoxView",
            "box_style": "",
            "children": [
              "IPY_MODEL_12810181ea8249d2ac3496a2f30f7d90",
              "IPY_MODEL_2e4c0ba767db43e3a0765ae72141cc96",
              "IPY_MODEL_43b802b8b4294a8baa339b12bc2dfa4a"
            ],
            "layout": "IPY_MODEL_08d0414ab0e4497e93d4c711612dce17"
          }
        },
        "12810181ea8249d2ac3496a2f30f7d90": {
          "model_module": "@jupyter-widgets/controls",
          "model_name": "HTMLModel",
          "model_module_version": "1.5.0",
          "state": {
            "_dom_classes": [],
            "_model_module": "@jupyter-widgets/controls",
            "_model_module_version": "1.5.0",
            "_model_name": "HTMLModel",
            "_view_count": null,
            "_view_module": "@jupyter-widgets/controls",
            "_view_module_version": "1.5.0",
            "_view_name": "HTMLView",
            "description": "",
            "description_tooltip": null,
            "layout": "IPY_MODEL_8336815c23144c16b61aee02ca50f9d7",
            "placeholder": "​",
            "style": "IPY_MODEL_179fee1726114bae997efd4c1c964f32",
            "value": "Downloading (…)cial_tokens_map.json: 100%"
          }
        },
        "2e4c0ba767db43e3a0765ae72141cc96": {
          "model_module": "@jupyter-widgets/controls",
          "model_name": "FloatProgressModel",
          "model_module_version": "1.5.0",
          "state": {
            "_dom_classes": [],
            "_model_module": "@jupyter-widgets/controls",
            "_model_module_version": "1.5.0",
            "_model_name": "FloatProgressModel",
            "_view_count": null,
            "_view_module": "@jupyter-widgets/controls",
            "_view_module_version": "1.5.0",
            "_view_name": "ProgressView",
            "bar_style": "success",
            "description": "",
            "description_tooltip": null,
            "layout": "IPY_MODEL_621874281e084df3b0ccbdd1696a0a27",
            "max": 85,
            "min": 0,
            "orientation": "horizontal",
            "style": "IPY_MODEL_3f4e3235d5274c2f82bc82bca927808e",
            "value": 85
          }
        },
        "43b802b8b4294a8baa339b12bc2dfa4a": {
          "model_module": "@jupyter-widgets/controls",
          "model_name": "HTMLModel",
          "model_module_version": "1.5.0",
          "state": {
            "_dom_classes": [],
            "_model_module": "@jupyter-widgets/controls",
            "_model_module_version": "1.5.0",
            "_model_name": "HTMLModel",
            "_view_count": null,
            "_view_module": "@jupyter-widgets/controls",
            "_view_module_version": "1.5.0",
            "_view_name": "HTMLView",
            "description": "",
            "description_tooltip": null,
            "layout": "IPY_MODEL_97fc00dbee5e4cddb91fd5138b6d5f32",
            "placeholder": "​",
            "style": "IPY_MODEL_6c63e8fb50b4457287ee8af24016d7f5",
            "value": " 85.0/85.0 [00:00&lt;00:00, 3.43kB/s]"
          }
        },
        "08d0414ab0e4497e93d4c711612dce17": {
          "model_module": "@jupyter-widgets/base",
          "model_name": "LayoutModel",
          "model_module_version": "1.2.0",
          "state": {
            "_model_module": "@jupyter-widgets/base",
            "_model_module_version": "1.2.0",
            "_model_name": "LayoutModel",
            "_view_count": null,
            "_view_module": "@jupyter-widgets/base",
            "_view_module_version": "1.2.0",
            "_view_name": "LayoutView",
            "align_content": null,
            "align_items": null,
            "align_self": null,
            "border": null,
            "bottom": null,
            "display": null,
            "flex": null,
            "flex_flow": null,
            "grid_area": null,
            "grid_auto_columns": null,
            "grid_auto_flow": null,
            "grid_auto_rows": null,
            "grid_column": null,
            "grid_gap": null,
            "grid_row": null,
            "grid_template_areas": null,
            "grid_template_columns": null,
            "grid_template_rows": null,
            "height": null,
            "justify_content": null,
            "justify_items": null,
            "left": null,
            "margin": null,
            "max_height": null,
            "max_width": null,
            "min_height": null,
            "min_width": null,
            "object_fit": null,
            "object_position": null,
            "order": null,
            "overflow": null,
            "overflow_x": null,
            "overflow_y": null,
            "padding": null,
            "right": null,
            "top": null,
            "visibility": null,
            "width": null
          }
        },
        "8336815c23144c16b61aee02ca50f9d7": {
          "model_module": "@jupyter-widgets/base",
          "model_name": "LayoutModel",
          "model_module_version": "1.2.0",
          "state": {
            "_model_module": "@jupyter-widgets/base",
            "_model_module_version": "1.2.0",
            "_model_name": "LayoutModel",
            "_view_count": null,
            "_view_module": "@jupyter-widgets/base",
            "_view_module_version": "1.2.0",
            "_view_name": "LayoutView",
            "align_content": null,
            "align_items": null,
            "align_self": null,
            "border": null,
            "bottom": null,
            "display": null,
            "flex": null,
            "flex_flow": null,
            "grid_area": null,
            "grid_auto_columns": null,
            "grid_auto_flow": null,
            "grid_auto_rows": null,
            "grid_column": null,
            "grid_gap": null,
            "grid_row": null,
            "grid_template_areas": null,
            "grid_template_columns": null,
            "grid_template_rows": null,
            "height": null,
            "justify_content": null,
            "justify_items": null,
            "left": null,
            "margin": null,
            "max_height": null,
            "max_width": null,
            "min_height": null,
            "min_width": null,
            "object_fit": null,
            "object_position": null,
            "order": null,
            "overflow": null,
            "overflow_x": null,
            "overflow_y": null,
            "padding": null,
            "right": null,
            "top": null,
            "visibility": null,
            "width": null
          }
        },
        "179fee1726114bae997efd4c1c964f32": {
          "model_module": "@jupyter-widgets/controls",
          "model_name": "DescriptionStyleModel",
          "model_module_version": "1.5.0",
          "state": {
            "_model_module": "@jupyter-widgets/controls",
            "_model_module_version": "1.5.0",
            "_model_name": "DescriptionStyleModel",
            "_view_count": null,
            "_view_module": "@jupyter-widgets/base",
            "_view_module_version": "1.2.0",
            "_view_name": "StyleView",
            "description_width": ""
          }
        },
        "621874281e084df3b0ccbdd1696a0a27": {
          "model_module": "@jupyter-widgets/base",
          "model_name": "LayoutModel",
          "model_module_version": "1.2.0",
          "state": {
            "_model_module": "@jupyter-widgets/base",
            "_model_module_version": "1.2.0",
            "_model_name": "LayoutModel",
            "_view_count": null,
            "_view_module": "@jupyter-widgets/base",
            "_view_module_version": "1.2.0",
            "_view_name": "LayoutView",
            "align_content": null,
            "align_items": null,
            "align_self": null,
            "border": null,
            "bottom": null,
            "display": null,
            "flex": null,
            "flex_flow": null,
            "grid_area": null,
            "grid_auto_columns": null,
            "grid_auto_flow": null,
            "grid_auto_rows": null,
            "grid_column": null,
            "grid_gap": null,
            "grid_row": null,
            "grid_template_areas": null,
            "grid_template_columns": null,
            "grid_template_rows": null,
            "height": null,
            "justify_content": null,
            "justify_items": null,
            "left": null,
            "margin": null,
            "max_height": null,
            "max_width": null,
            "min_height": null,
            "min_width": null,
            "object_fit": null,
            "object_position": null,
            "order": null,
            "overflow": null,
            "overflow_x": null,
            "overflow_y": null,
            "padding": null,
            "right": null,
            "top": null,
            "visibility": null,
            "width": null
          }
        },
        "3f4e3235d5274c2f82bc82bca927808e": {
          "model_module": "@jupyter-widgets/controls",
          "model_name": "ProgressStyleModel",
          "model_module_version": "1.5.0",
          "state": {
            "_model_module": "@jupyter-widgets/controls",
            "_model_module_version": "1.5.0",
            "_model_name": "ProgressStyleModel",
            "_view_count": null,
            "_view_module": "@jupyter-widgets/base",
            "_view_module_version": "1.2.0",
            "_view_name": "StyleView",
            "bar_color": null,
            "description_width": ""
          }
        },
        "97fc00dbee5e4cddb91fd5138b6d5f32": {
          "model_module": "@jupyter-widgets/base",
          "model_name": "LayoutModel",
          "model_module_version": "1.2.0",
          "state": {
            "_model_module": "@jupyter-widgets/base",
            "_model_module_version": "1.2.0",
            "_model_name": "LayoutModel",
            "_view_count": null,
            "_view_module": "@jupyter-widgets/base",
            "_view_module_version": "1.2.0",
            "_view_name": "LayoutView",
            "align_content": null,
            "align_items": null,
            "align_self": null,
            "border": null,
            "bottom": null,
            "display": null,
            "flex": null,
            "flex_flow": null,
            "grid_area": null,
            "grid_auto_columns": null,
            "grid_auto_flow": null,
            "grid_auto_rows": null,
            "grid_column": null,
            "grid_gap": null,
            "grid_row": null,
            "grid_template_areas": null,
            "grid_template_columns": null,
            "grid_template_rows": null,
            "height": null,
            "justify_content": null,
            "justify_items": null,
            "left": null,
            "margin": null,
            "max_height": null,
            "max_width": null,
            "min_height": null,
            "min_width": null,
            "object_fit": null,
            "object_position": null,
            "order": null,
            "overflow": null,
            "overflow_x": null,
            "overflow_y": null,
            "padding": null,
            "right": null,
            "top": null,
            "visibility": null,
            "width": null
          }
        },
        "6c63e8fb50b4457287ee8af24016d7f5": {
          "model_module": "@jupyter-widgets/controls",
          "model_name": "DescriptionStyleModel",
          "model_module_version": "1.5.0",
          "state": {
            "_model_module": "@jupyter-widgets/controls",
            "_model_module_version": "1.5.0",
            "_model_name": "DescriptionStyleModel",
            "_view_count": null,
            "_view_module": "@jupyter-widgets/base",
            "_view_module_version": "1.2.0",
            "_view_name": "StyleView",
            "description_width": ""
          }
        },
        "312311f3a42e47c88a124029a9ad98f7": {
          "model_module": "@jupyter-widgets/controls",
          "model_name": "HBoxModel",
          "model_module_version": "1.5.0",
          "state": {
            "_dom_classes": [],
            "_model_module": "@jupyter-widgets/controls",
            "_model_module_version": "1.5.0",
            "_model_name": "HBoxModel",
            "_view_count": null,
            "_view_module": "@jupyter-widgets/controls",
            "_view_module_version": "1.5.0",
            "_view_name": "HBoxView",
            "box_style": "",
            "children": [
              "IPY_MODEL_232c74411a3c4f8b97ff832f28a63111",
              "IPY_MODEL_a44bede3d9494440a85c6a221ed5ffe2",
              "IPY_MODEL_08479e6371b44b93ad4aa9da14c1867a"
            ],
            "layout": "IPY_MODEL_b3e4eebb4b2640339e0bf06a82e3eae3"
          }
        },
        "232c74411a3c4f8b97ff832f28a63111": {
          "model_module": "@jupyter-widgets/controls",
          "model_name": "HTMLModel",
          "model_module_version": "1.5.0",
          "state": {
            "_dom_classes": [],
            "_model_module": "@jupyter-widgets/controls",
            "_model_module_version": "1.5.0",
            "_model_name": "HTMLModel",
            "_view_count": null,
            "_view_module": "@jupyter-widgets/controls",
            "_view_module_version": "1.5.0",
            "_view_name": "HTMLView",
            "description": "",
            "description_tooltip": null,
            "layout": "IPY_MODEL_17226c057d11419db0dd515c7a75c973",
            "placeholder": "​",
            "style": "IPY_MODEL_923af9ef9d23488e926f68e27237cdb1",
            "value": "Downloading (…)olve/main/vocab.json: 100%"
          }
        },
        "a44bede3d9494440a85c6a221ed5ffe2": {
          "model_module": "@jupyter-widgets/controls",
          "model_name": "FloatProgressModel",
          "model_module_version": "1.5.0",
          "state": {
            "_dom_classes": [],
            "_model_module": "@jupyter-widgets/controls",
            "_model_module_version": "1.5.0",
            "_model_name": "FloatProgressModel",
            "_view_count": null,
            "_view_module": "@jupyter-widgets/controls",
            "_view_module_version": "1.5.0",
            "_view_name": "ProgressView",
            "bar_style": "success",
            "description": "",
            "description_tooltip": null,
            "layout": "IPY_MODEL_7add01cb4e4b4cce8df6bf030d28cab4",
            "max": 1893129,
            "min": 0,
            "orientation": "horizontal",
            "style": "IPY_MODEL_946d22ebc25c4a9e9b2375bfed7e5046",
            "value": 1893129
          }
        },
        "08479e6371b44b93ad4aa9da14c1867a": {
          "model_module": "@jupyter-widgets/controls",
          "model_name": "HTMLModel",
          "model_module_version": "1.5.0",
          "state": {
            "_dom_classes": [],
            "_model_module": "@jupyter-widgets/controls",
            "_model_module_version": "1.5.0",
            "_model_name": "HTMLModel",
            "_view_count": null,
            "_view_module": "@jupyter-widgets/controls",
            "_view_module_version": "1.5.0",
            "_view_name": "HTMLView",
            "description": "",
            "description_tooltip": null,
            "layout": "IPY_MODEL_dbec0081d88d4db1becb620e4eeadb2b",
            "placeholder": "​",
            "style": "IPY_MODEL_d8a0cedce70b4668bfc63a161dc5c88a",
            "value": " 1.89M/1.89M [00:00&lt;00:00, 16.6MB/s]"
          }
        },
        "b3e4eebb4b2640339e0bf06a82e3eae3": {
          "model_module": "@jupyter-widgets/base",
          "model_name": "LayoutModel",
          "model_module_version": "1.2.0",
          "state": {
            "_model_module": "@jupyter-widgets/base",
            "_model_module_version": "1.2.0",
            "_model_name": "LayoutModel",
            "_view_count": null,
            "_view_module": "@jupyter-widgets/base",
            "_view_module_version": "1.2.0",
            "_view_name": "LayoutView",
            "align_content": null,
            "align_items": null,
            "align_self": null,
            "border": null,
            "bottom": null,
            "display": null,
            "flex": null,
            "flex_flow": null,
            "grid_area": null,
            "grid_auto_columns": null,
            "grid_auto_flow": null,
            "grid_auto_rows": null,
            "grid_column": null,
            "grid_gap": null,
            "grid_row": null,
            "grid_template_areas": null,
            "grid_template_columns": null,
            "grid_template_rows": null,
            "height": null,
            "justify_content": null,
            "justify_items": null,
            "left": null,
            "margin": null,
            "max_height": null,
            "max_width": null,
            "min_height": null,
            "min_width": null,
            "object_fit": null,
            "object_position": null,
            "order": null,
            "overflow": null,
            "overflow_x": null,
            "overflow_y": null,
            "padding": null,
            "right": null,
            "top": null,
            "visibility": null,
            "width": null
          }
        },
        "17226c057d11419db0dd515c7a75c973": {
          "model_module": "@jupyter-widgets/base",
          "model_name": "LayoutModel",
          "model_module_version": "1.2.0",
          "state": {
            "_model_module": "@jupyter-widgets/base",
            "_model_module_version": "1.2.0",
            "_model_name": "LayoutModel",
            "_view_count": null,
            "_view_module": "@jupyter-widgets/base",
            "_view_module_version": "1.2.0",
            "_view_name": "LayoutView",
            "align_content": null,
            "align_items": null,
            "align_self": null,
            "border": null,
            "bottom": null,
            "display": null,
            "flex": null,
            "flex_flow": null,
            "grid_area": null,
            "grid_auto_columns": null,
            "grid_auto_flow": null,
            "grid_auto_rows": null,
            "grid_column": null,
            "grid_gap": null,
            "grid_row": null,
            "grid_template_areas": null,
            "grid_template_columns": null,
            "grid_template_rows": null,
            "height": null,
            "justify_content": null,
            "justify_items": null,
            "left": null,
            "margin": null,
            "max_height": null,
            "max_width": null,
            "min_height": null,
            "min_width": null,
            "object_fit": null,
            "object_position": null,
            "order": null,
            "overflow": null,
            "overflow_x": null,
            "overflow_y": null,
            "padding": null,
            "right": null,
            "top": null,
            "visibility": null,
            "width": null
          }
        },
        "923af9ef9d23488e926f68e27237cdb1": {
          "model_module": "@jupyter-widgets/controls",
          "model_name": "DescriptionStyleModel",
          "model_module_version": "1.5.0",
          "state": {
            "_model_module": "@jupyter-widgets/controls",
            "_model_module_version": "1.5.0",
            "_model_name": "DescriptionStyleModel",
            "_view_count": null,
            "_view_module": "@jupyter-widgets/base",
            "_view_module_version": "1.2.0",
            "_view_name": "StyleView",
            "description_width": ""
          }
        },
        "7add01cb4e4b4cce8df6bf030d28cab4": {
          "model_module": "@jupyter-widgets/base",
          "model_name": "LayoutModel",
          "model_module_version": "1.2.0",
          "state": {
            "_model_module": "@jupyter-widgets/base",
            "_model_module_version": "1.2.0",
            "_model_name": "LayoutModel",
            "_view_count": null,
            "_view_module": "@jupyter-widgets/base",
            "_view_module_version": "1.2.0",
            "_view_name": "LayoutView",
            "align_content": null,
            "align_items": null,
            "align_self": null,
            "border": null,
            "bottom": null,
            "display": null,
            "flex": null,
            "flex_flow": null,
            "grid_area": null,
            "grid_auto_columns": null,
            "grid_auto_flow": null,
            "grid_auto_rows": null,
            "grid_column": null,
            "grid_gap": null,
            "grid_row": null,
            "grid_template_areas": null,
            "grid_template_columns": null,
            "grid_template_rows": null,
            "height": null,
            "justify_content": null,
            "justify_items": null,
            "left": null,
            "margin": null,
            "max_height": null,
            "max_width": null,
            "min_height": null,
            "min_width": null,
            "object_fit": null,
            "object_position": null,
            "order": null,
            "overflow": null,
            "overflow_x": null,
            "overflow_y": null,
            "padding": null,
            "right": null,
            "top": null,
            "visibility": null,
            "width": null
          }
        },
        "946d22ebc25c4a9e9b2375bfed7e5046": {
          "model_module": "@jupyter-widgets/controls",
          "model_name": "ProgressStyleModel",
          "model_module_version": "1.5.0",
          "state": {
            "_model_module": "@jupyter-widgets/controls",
            "_model_module_version": "1.5.0",
            "_model_name": "ProgressStyleModel",
            "_view_count": null,
            "_view_module": "@jupyter-widgets/base",
            "_view_module_version": "1.2.0",
            "_view_name": "StyleView",
            "bar_color": null,
            "description_width": ""
          }
        },
        "dbec0081d88d4db1becb620e4eeadb2b": {
          "model_module": "@jupyter-widgets/base",
          "model_name": "LayoutModel",
          "model_module_version": "1.2.0",
          "state": {
            "_model_module": "@jupyter-widgets/base",
            "_model_module_version": "1.2.0",
            "_model_name": "LayoutModel",
            "_view_count": null,
            "_view_module": "@jupyter-widgets/base",
            "_view_module_version": "1.2.0",
            "_view_name": "LayoutView",
            "align_content": null,
            "align_items": null,
            "align_self": null,
            "border": null,
            "bottom": null,
            "display": null,
            "flex": null,
            "flex_flow": null,
            "grid_area": null,
            "grid_auto_columns": null,
            "grid_auto_flow": null,
            "grid_auto_rows": null,
            "grid_column": null,
            "grid_gap": null,
            "grid_row": null,
            "grid_template_areas": null,
            "grid_template_columns": null,
            "grid_template_rows": null,
            "height": null,
            "justify_content": null,
            "justify_items": null,
            "left": null,
            "margin": null,
            "max_height": null,
            "max_width": null,
            "min_height": null,
            "min_width": null,
            "object_fit": null,
            "object_position": null,
            "order": null,
            "overflow": null,
            "overflow_x": null,
            "overflow_y": null,
            "padding": null,
            "right": null,
            "top": null,
            "visibility": null,
            "width": null
          }
        },
        "d8a0cedce70b4668bfc63a161dc5c88a": {
          "model_module": "@jupyter-widgets/controls",
          "model_name": "DescriptionStyleModel",
          "model_module_version": "1.5.0",
          "state": {
            "_model_module": "@jupyter-widgets/controls",
            "_model_module_version": "1.5.0",
            "_model_name": "DescriptionStyleModel",
            "_view_count": null,
            "_view_module": "@jupyter-widgets/base",
            "_view_module_version": "1.2.0",
            "_view_name": "StyleView",
            "description_width": ""
          }
        },
        "fc622188f0e54e54839de187f78f1ca7": {
          "model_module": "@jupyter-widgets/controls",
          "model_name": "HBoxModel",
          "model_module_version": "1.5.0",
          "state": {
            "_dom_classes": [],
            "_model_module": "@jupyter-widgets/controls",
            "_model_module_version": "1.5.0",
            "_model_name": "HBoxModel",
            "_view_count": null,
            "_view_module": "@jupyter-widgets/controls",
            "_view_module_version": "1.5.0",
            "_view_name": "HBoxView",
            "box_style": "",
            "children": [
              "IPY_MODEL_7284b7d8608a4ac391dd3cbbe5aa8176",
              "IPY_MODEL_f37e59e58e1b423cae5b51c9e945818d",
              "IPY_MODEL_c562f3fcd56a454a9f5399fef119e342"
            ],
            "layout": "IPY_MODEL_29574e2fd20c4011a8325c543abb8774"
          }
        },
        "7284b7d8608a4ac391dd3cbbe5aa8176": {
          "model_module": "@jupyter-widgets/controls",
          "model_name": "HTMLModel",
          "model_module_version": "1.5.0",
          "state": {
            "_dom_classes": [],
            "_model_module": "@jupyter-widgets/controls",
            "_model_module_version": "1.5.0",
            "_model_name": "HTMLModel",
            "_view_count": null,
            "_view_module": "@jupyter-widgets/controls",
            "_view_module_version": "1.5.0",
            "_view_name": "HTMLView",
            "description": "",
            "description_tooltip": null,
            "layout": "IPY_MODEL_678cf1f6f9984d5384bd037d6e4d602c",
            "placeholder": "​",
            "style": "IPY_MODEL_624012df34b74c01839c906c8d0ecc28",
            "value": "Downloading (…)olve/main/merges.txt: 100%"
          }
        },
        "f37e59e58e1b423cae5b51c9e945818d": {
          "model_module": "@jupyter-widgets/controls",
          "model_name": "FloatProgressModel",
          "model_module_version": "1.5.0",
          "state": {
            "_dom_classes": [],
            "_model_module": "@jupyter-widgets/controls",
            "_model_module_version": "1.5.0",
            "_model_name": "FloatProgressModel",
            "_view_count": null,
            "_view_module": "@jupyter-widgets/controls",
            "_view_module_version": "1.5.0",
            "_view_name": "ProgressView",
            "bar_style": "success",
            "description": "",
            "description_tooltip": null,
            "layout": "IPY_MODEL_aa53a8613336415dba1d732cf3c32ab4",
            "max": 1203201,
            "min": 0,
            "orientation": "horizontal",
            "style": "IPY_MODEL_fd646a8e09114bf4b26aa9ecc986537c",
            "value": 1203201
          }
        },
        "c562f3fcd56a454a9f5399fef119e342": {
          "model_module": "@jupyter-widgets/controls",
          "model_name": "HTMLModel",
          "model_module_version": "1.5.0",
          "state": {
            "_dom_classes": [],
            "_model_module": "@jupyter-widgets/controls",
            "_model_module_version": "1.5.0",
            "_model_name": "HTMLModel",
            "_view_count": null,
            "_view_module": "@jupyter-widgets/controls",
            "_view_module_version": "1.5.0",
            "_view_name": "HTMLView",
            "description": "",
            "description_tooltip": null,
            "layout": "IPY_MODEL_c4aa703f528a494080f5b35d2630f34c",
            "placeholder": "​",
            "style": "IPY_MODEL_84aa6173dde446988e9d9f2fbd67a4d8",
            "value": " 1.20M/1.20M [00:00&lt;00:00, 11.1MB/s]"
          }
        },
        "29574e2fd20c4011a8325c543abb8774": {
          "model_module": "@jupyter-widgets/base",
          "model_name": "LayoutModel",
          "model_module_version": "1.2.0",
          "state": {
            "_model_module": "@jupyter-widgets/base",
            "_model_module_version": "1.2.0",
            "_model_name": "LayoutModel",
            "_view_count": null,
            "_view_module": "@jupyter-widgets/base",
            "_view_module_version": "1.2.0",
            "_view_name": "LayoutView",
            "align_content": null,
            "align_items": null,
            "align_self": null,
            "border": null,
            "bottom": null,
            "display": null,
            "flex": null,
            "flex_flow": null,
            "grid_area": null,
            "grid_auto_columns": null,
            "grid_auto_flow": null,
            "grid_auto_rows": null,
            "grid_column": null,
            "grid_gap": null,
            "grid_row": null,
            "grid_template_areas": null,
            "grid_template_columns": null,
            "grid_template_rows": null,
            "height": null,
            "justify_content": null,
            "justify_items": null,
            "left": null,
            "margin": null,
            "max_height": null,
            "max_width": null,
            "min_height": null,
            "min_width": null,
            "object_fit": null,
            "object_position": null,
            "order": null,
            "overflow": null,
            "overflow_x": null,
            "overflow_y": null,
            "padding": null,
            "right": null,
            "top": null,
            "visibility": null,
            "width": null
          }
        },
        "678cf1f6f9984d5384bd037d6e4d602c": {
          "model_module": "@jupyter-widgets/base",
          "model_name": "LayoutModel",
          "model_module_version": "1.2.0",
          "state": {
            "_model_module": "@jupyter-widgets/base",
            "_model_module_version": "1.2.0",
            "_model_name": "LayoutModel",
            "_view_count": null,
            "_view_module": "@jupyter-widgets/base",
            "_view_module_version": "1.2.0",
            "_view_name": "LayoutView",
            "align_content": null,
            "align_items": null,
            "align_self": null,
            "border": null,
            "bottom": null,
            "display": null,
            "flex": null,
            "flex_flow": null,
            "grid_area": null,
            "grid_auto_columns": null,
            "grid_auto_flow": null,
            "grid_auto_rows": null,
            "grid_column": null,
            "grid_gap": null,
            "grid_row": null,
            "grid_template_areas": null,
            "grid_template_columns": null,
            "grid_template_rows": null,
            "height": null,
            "justify_content": null,
            "justify_items": null,
            "left": null,
            "margin": null,
            "max_height": null,
            "max_width": null,
            "min_height": null,
            "min_width": null,
            "object_fit": null,
            "object_position": null,
            "order": null,
            "overflow": null,
            "overflow_x": null,
            "overflow_y": null,
            "padding": null,
            "right": null,
            "top": null,
            "visibility": null,
            "width": null
          }
        },
        "624012df34b74c01839c906c8d0ecc28": {
          "model_module": "@jupyter-widgets/controls",
          "model_name": "DescriptionStyleModel",
          "model_module_version": "1.5.0",
          "state": {
            "_model_module": "@jupyter-widgets/controls",
            "_model_module_version": "1.5.0",
            "_model_name": "DescriptionStyleModel",
            "_view_count": null,
            "_view_module": "@jupyter-widgets/base",
            "_view_module_version": "1.2.0",
            "_view_name": "StyleView",
            "description_width": ""
          }
        },
        "aa53a8613336415dba1d732cf3c32ab4": {
          "model_module": "@jupyter-widgets/base",
          "model_name": "LayoutModel",
          "model_module_version": "1.2.0",
          "state": {
            "_model_module": "@jupyter-widgets/base",
            "_model_module_version": "1.2.0",
            "_model_name": "LayoutModel",
            "_view_count": null,
            "_view_module": "@jupyter-widgets/base",
            "_view_module_version": "1.2.0",
            "_view_name": "LayoutView",
            "align_content": null,
            "align_items": null,
            "align_self": null,
            "border": null,
            "bottom": null,
            "display": null,
            "flex": null,
            "flex_flow": null,
            "grid_area": null,
            "grid_auto_columns": null,
            "grid_auto_flow": null,
            "grid_auto_rows": null,
            "grid_column": null,
            "grid_gap": null,
            "grid_row": null,
            "grid_template_areas": null,
            "grid_template_columns": null,
            "grid_template_rows": null,
            "height": null,
            "justify_content": null,
            "justify_items": null,
            "left": null,
            "margin": null,
            "max_height": null,
            "max_width": null,
            "min_height": null,
            "min_width": null,
            "object_fit": null,
            "object_position": null,
            "order": null,
            "overflow": null,
            "overflow_x": null,
            "overflow_y": null,
            "padding": null,
            "right": null,
            "top": null,
            "visibility": null,
            "width": null
          }
        },
        "fd646a8e09114bf4b26aa9ecc986537c": {
          "model_module": "@jupyter-widgets/controls",
          "model_name": "ProgressStyleModel",
          "model_module_version": "1.5.0",
          "state": {
            "_model_module": "@jupyter-widgets/controls",
            "_model_module_version": "1.5.0",
            "_model_name": "ProgressStyleModel",
            "_view_count": null,
            "_view_module": "@jupyter-widgets/base",
            "_view_module_version": "1.2.0",
            "_view_name": "StyleView",
            "bar_color": null,
            "description_width": ""
          }
        },
        "c4aa703f528a494080f5b35d2630f34c": {
          "model_module": "@jupyter-widgets/base",
          "model_name": "LayoutModel",
          "model_module_version": "1.2.0",
          "state": {
            "_model_module": "@jupyter-widgets/base",
            "_model_module_version": "1.2.0",
            "_model_name": "LayoutModel",
            "_view_count": null,
            "_view_module": "@jupyter-widgets/base",
            "_view_module_version": "1.2.0",
            "_view_name": "LayoutView",
            "align_content": null,
            "align_items": null,
            "align_self": null,
            "border": null,
            "bottom": null,
            "display": null,
            "flex": null,
            "flex_flow": null,
            "grid_area": null,
            "grid_auto_columns": null,
            "grid_auto_flow": null,
            "grid_auto_rows": null,
            "grid_column": null,
            "grid_gap": null,
            "grid_row": null,
            "grid_template_areas": null,
            "grid_template_columns": null,
            "grid_template_rows": null,
            "height": null,
            "justify_content": null,
            "justify_items": null,
            "left": null,
            "margin": null,
            "max_height": null,
            "max_width": null,
            "min_height": null,
            "min_width": null,
            "object_fit": null,
            "object_position": null,
            "order": null,
            "overflow": null,
            "overflow_x": null,
            "overflow_y": null,
            "padding": null,
            "right": null,
            "top": null,
            "visibility": null,
            "width": null
          }
        },
        "84aa6173dde446988e9d9f2fbd67a4d8": {
          "model_module": "@jupyter-widgets/controls",
          "model_name": "DescriptionStyleModel",
          "model_module_version": "1.5.0",
          "state": {
            "_model_module": "@jupyter-widgets/controls",
            "_model_module_version": "1.5.0",
            "_model_name": "DescriptionStyleModel",
            "_view_count": null,
            "_view_module": "@jupyter-widgets/base",
            "_view_module_version": "1.2.0",
            "_view_name": "StyleView",
            "description_width": ""
          }
        },
        "fc50bca6b9dc406faadf2accb3be4c37": {
          "model_module": "@jupyter-widgets/controls",
          "model_name": "HBoxModel",
          "model_module_version": "1.5.0",
          "state": {
            "_dom_classes": [],
            "_model_module": "@jupyter-widgets/controls",
            "_model_module_version": "1.5.0",
            "_model_name": "HBoxModel",
            "_view_count": null,
            "_view_module": "@jupyter-widgets/controls",
            "_view_module_version": "1.5.0",
            "_view_name": "HBoxView",
            "box_style": "",
            "children": [
              "IPY_MODEL_910b09e0e5b24421a522f28bcbcbc755",
              "IPY_MODEL_85fa66b6fd934c1cb2441297eb321078",
              "IPY_MODEL_90b52c7bc1594784b968385235776aed"
            ],
            "layout": "IPY_MODEL_f954562afd1c406b94d44e65140ee783"
          }
        },
        "910b09e0e5b24421a522f28bcbcbc755": {
          "model_module": "@jupyter-widgets/controls",
          "model_name": "HTMLModel",
          "model_module_version": "1.5.0",
          "state": {
            "_dom_classes": [],
            "_model_module": "@jupyter-widgets/controls",
            "_model_module_version": "1.5.0",
            "_model_name": "HTMLModel",
            "_view_count": null,
            "_view_module": "@jupyter-widgets/controls",
            "_view_module_version": "1.5.0",
            "_view_name": "HTMLView",
            "description": "",
            "description_tooltip": null,
            "layout": "IPY_MODEL_acb52836535d446da57b4c2603b421f2",
            "placeholder": "​",
            "style": "IPY_MODEL_063e5153104e46db962a9d733556fb83",
            "value": "Downloading (…)lve/main/config.json: 100%"
          }
        },
        "85fa66b6fd934c1cb2441297eb321078": {
          "model_module": "@jupyter-widgets/controls",
          "model_name": "FloatProgressModel",
          "model_module_version": "1.5.0",
          "state": {
            "_dom_classes": [],
            "_model_module": "@jupyter-widgets/controls",
            "_model_module_version": "1.5.0",
            "_model_name": "FloatProgressModel",
            "_view_count": null,
            "_view_module": "@jupyter-widgets/controls",
            "_view_module_version": "1.5.0",
            "_view_name": "ProgressView",
            "bar_style": "success",
            "description": "",
            "description_tooltip": null,
            "layout": "IPY_MODEL_99e281ca5e68432cb2bd31f34b9dc656",
            "max": 1347,
            "min": 0,
            "orientation": "horizontal",
            "style": "IPY_MODEL_f0760aad875b4506ae94d6eb93e83545",
            "value": 1347
          }
        },
        "90b52c7bc1594784b968385235776aed": {
          "model_module": "@jupyter-widgets/controls",
          "model_name": "HTMLModel",
          "model_module_version": "1.5.0",
          "state": {
            "_dom_classes": [],
            "_model_module": "@jupyter-widgets/controls",
            "_model_module_version": "1.5.0",
            "_model_name": "HTMLModel",
            "_view_count": null,
            "_view_module": "@jupyter-widgets/controls",
            "_view_module_version": "1.5.0",
            "_view_name": "HTMLView",
            "description": "",
            "description_tooltip": null,
            "layout": "IPY_MODEL_f9959406b12146058b58456e694d219c",
            "placeholder": "​",
            "style": "IPY_MODEL_22c10e3e6e924729861083d5de5b263c",
            "value": " 1.35k/1.35k [00:00&lt;00:00, 16.6kB/s]"
          }
        },
        "f954562afd1c406b94d44e65140ee783": {
          "model_module": "@jupyter-widgets/base",
          "model_name": "LayoutModel",
          "model_module_version": "1.2.0",
          "state": {
            "_model_module": "@jupyter-widgets/base",
            "_model_module_version": "1.2.0",
            "_model_name": "LayoutModel",
            "_view_count": null,
            "_view_module": "@jupyter-widgets/base",
            "_view_module_version": "1.2.0",
            "_view_name": "LayoutView",
            "align_content": null,
            "align_items": null,
            "align_self": null,
            "border": null,
            "bottom": null,
            "display": null,
            "flex": null,
            "flex_flow": null,
            "grid_area": null,
            "grid_auto_columns": null,
            "grid_auto_flow": null,
            "grid_auto_rows": null,
            "grid_column": null,
            "grid_gap": null,
            "grid_row": null,
            "grid_template_areas": null,
            "grid_template_columns": null,
            "grid_template_rows": null,
            "height": null,
            "justify_content": null,
            "justify_items": null,
            "left": null,
            "margin": null,
            "max_height": null,
            "max_width": null,
            "min_height": null,
            "min_width": null,
            "object_fit": null,
            "object_position": null,
            "order": null,
            "overflow": null,
            "overflow_x": null,
            "overflow_y": null,
            "padding": null,
            "right": null,
            "top": null,
            "visibility": null,
            "width": null
          }
        },
        "acb52836535d446da57b4c2603b421f2": {
          "model_module": "@jupyter-widgets/base",
          "model_name": "LayoutModel",
          "model_module_version": "1.2.0",
          "state": {
            "_model_module": "@jupyter-widgets/base",
            "_model_module_version": "1.2.0",
            "_model_name": "LayoutModel",
            "_view_count": null,
            "_view_module": "@jupyter-widgets/base",
            "_view_module_version": "1.2.0",
            "_view_name": "LayoutView",
            "align_content": null,
            "align_items": null,
            "align_self": null,
            "border": null,
            "bottom": null,
            "display": null,
            "flex": null,
            "flex_flow": null,
            "grid_area": null,
            "grid_auto_columns": null,
            "grid_auto_flow": null,
            "grid_auto_rows": null,
            "grid_column": null,
            "grid_gap": null,
            "grid_row": null,
            "grid_template_areas": null,
            "grid_template_columns": null,
            "grid_template_rows": null,
            "height": null,
            "justify_content": null,
            "justify_items": null,
            "left": null,
            "margin": null,
            "max_height": null,
            "max_width": null,
            "min_height": null,
            "min_width": null,
            "object_fit": null,
            "object_position": null,
            "order": null,
            "overflow": null,
            "overflow_x": null,
            "overflow_y": null,
            "padding": null,
            "right": null,
            "top": null,
            "visibility": null,
            "width": null
          }
        },
        "063e5153104e46db962a9d733556fb83": {
          "model_module": "@jupyter-widgets/controls",
          "model_name": "DescriptionStyleModel",
          "model_module_version": "1.5.0",
          "state": {
            "_model_module": "@jupyter-widgets/controls",
            "_model_module_version": "1.5.0",
            "_model_name": "DescriptionStyleModel",
            "_view_count": null,
            "_view_module": "@jupyter-widgets/base",
            "_view_module_version": "1.2.0",
            "_view_name": "StyleView",
            "description_width": ""
          }
        },
        "99e281ca5e68432cb2bd31f34b9dc656": {
          "model_module": "@jupyter-widgets/base",
          "model_name": "LayoutModel",
          "model_module_version": "1.2.0",
          "state": {
            "_model_module": "@jupyter-widgets/base",
            "_model_module_version": "1.2.0",
            "_model_name": "LayoutModel",
            "_view_count": null,
            "_view_module": "@jupyter-widgets/base",
            "_view_module_version": "1.2.0",
            "_view_name": "LayoutView",
            "align_content": null,
            "align_items": null,
            "align_self": null,
            "border": null,
            "bottom": null,
            "display": null,
            "flex": null,
            "flex_flow": null,
            "grid_area": null,
            "grid_auto_columns": null,
            "grid_auto_flow": null,
            "grid_auto_rows": null,
            "grid_column": null,
            "grid_gap": null,
            "grid_row": null,
            "grid_template_areas": null,
            "grid_template_columns": null,
            "grid_template_rows": null,
            "height": null,
            "justify_content": null,
            "justify_items": null,
            "left": null,
            "margin": null,
            "max_height": null,
            "max_width": null,
            "min_height": null,
            "min_width": null,
            "object_fit": null,
            "object_position": null,
            "order": null,
            "overflow": null,
            "overflow_x": null,
            "overflow_y": null,
            "padding": null,
            "right": null,
            "top": null,
            "visibility": null,
            "width": null
          }
        },
        "f0760aad875b4506ae94d6eb93e83545": {
          "model_module": "@jupyter-widgets/controls",
          "model_name": "ProgressStyleModel",
          "model_module_version": "1.5.0",
          "state": {
            "_model_module": "@jupyter-widgets/controls",
            "_model_module_version": "1.5.0",
            "_model_name": "ProgressStyleModel",
            "_view_count": null,
            "_view_module": "@jupyter-widgets/base",
            "_view_module_version": "1.2.0",
            "_view_name": "StyleView",
            "bar_color": null,
            "description_width": ""
          }
        },
        "f9959406b12146058b58456e694d219c": {
          "model_module": "@jupyter-widgets/base",
          "model_name": "LayoutModel",
          "model_module_version": "1.2.0",
          "state": {
            "_model_module": "@jupyter-widgets/base",
            "_model_module_version": "1.2.0",
            "_model_name": "LayoutModel",
            "_view_count": null,
            "_view_module": "@jupyter-widgets/base",
            "_view_module_version": "1.2.0",
            "_view_name": "LayoutView",
            "align_content": null,
            "align_items": null,
            "align_self": null,
            "border": null,
            "bottom": null,
            "display": null,
            "flex": null,
            "flex_flow": null,
            "grid_area": null,
            "grid_auto_columns": null,
            "grid_auto_flow": null,
            "grid_auto_rows": null,
            "grid_column": null,
            "grid_gap": null,
            "grid_row": null,
            "grid_template_areas": null,
            "grid_template_columns": null,
            "grid_template_rows": null,
            "height": null,
            "justify_content": null,
            "justify_items": null,
            "left": null,
            "margin": null,
            "max_height": null,
            "max_width": null,
            "min_height": null,
            "min_width": null,
            "object_fit": null,
            "object_position": null,
            "order": null,
            "overflow": null,
            "overflow_x": null,
            "overflow_y": null,
            "padding": null,
            "right": null,
            "top": null,
            "visibility": null,
            "width": null
          }
        },
        "22c10e3e6e924729861083d5de5b263c": {
          "model_module": "@jupyter-widgets/controls",
          "model_name": "DescriptionStyleModel",
          "model_module_version": "1.5.0",
          "state": {
            "_model_module": "@jupyter-widgets/controls",
            "_model_module_version": "1.5.0",
            "_model_name": "DescriptionStyleModel",
            "_view_count": null,
            "_view_module": "@jupyter-widgets/base",
            "_view_module_version": "1.2.0",
            "_view_name": "StyleView",
            "description_width": ""
          }
        },
        "c1e89bae2435460486ab2439f14cfc87": {
          "model_module": "@jupyter-widgets/controls",
          "model_name": "HBoxModel",
          "model_module_version": "1.5.0",
          "state": {
            "_dom_classes": [],
            "_model_module": "@jupyter-widgets/controls",
            "_model_module_version": "1.5.0",
            "_model_name": "HBoxModel",
            "_view_count": null,
            "_view_module": "@jupyter-widgets/controls",
            "_view_module_version": "1.5.0",
            "_view_name": "HBoxView",
            "box_style": "",
            "children": [
              "IPY_MODEL_d82aadad0c76459ebd8d5a0850f85e3f",
              "IPY_MODEL_2f71d0bb95cf4c67bbb5b3a662f9e37b",
              "IPY_MODEL_7fa1b2fb132a494f8376567f735d28b0"
            ],
            "layout": "IPY_MODEL_0acd3ae8749b4c249acc5ae55a75d1c7"
          }
        },
        "d82aadad0c76459ebd8d5a0850f85e3f": {
          "model_module": "@jupyter-widgets/controls",
          "model_name": "HTMLModel",
          "model_module_version": "1.5.0",
          "state": {
            "_dom_classes": [],
            "_model_module": "@jupyter-widgets/controls",
            "_model_module_version": "1.5.0",
            "_model_name": "HTMLModel",
            "_view_count": null,
            "_view_module": "@jupyter-widgets/controls",
            "_view_module_version": "1.5.0",
            "_view_name": "HTMLView",
            "description": "",
            "description_tooltip": null,
            "layout": "IPY_MODEL_5b5cdf338e7342b880c6fb3bce14da75",
            "placeholder": "​",
            "style": "IPY_MODEL_7fd7649774c8418d842f6881e30cfe3a",
            "value": "Downloading pytorch_model.bin: 100%"
          }
        },
        "2f71d0bb95cf4c67bbb5b3a662f9e37b": {
          "model_module": "@jupyter-widgets/controls",
          "model_name": "FloatProgressModel",
          "model_module_version": "1.5.0",
          "state": {
            "_dom_classes": [],
            "_model_module": "@jupyter-widgets/controls",
            "_model_module_version": "1.5.0",
            "_model_name": "FloatProgressModel",
            "_view_count": null,
            "_view_module": "@jupyter-widgets/controls",
            "_view_module_version": "1.5.0",
            "_view_name": "ProgressView",
            "bar_style": "success",
            "description": "",
            "description_tooltip": null,
            "layout": "IPY_MODEL_e6e067c650dc4e479b52f5cf32b7e4b8",
            "max": 5312753599,
            "min": 0,
            "orientation": "horizontal",
            "style": "IPY_MODEL_a380da6be4214a9b81c34d313b51957f",
            "value": 5312753599
          }
        },
        "7fa1b2fb132a494f8376567f735d28b0": {
          "model_module": "@jupyter-widgets/controls",
          "model_name": "HTMLModel",
          "model_module_version": "1.5.0",
          "state": {
            "_dom_classes": [],
            "_model_module": "@jupyter-widgets/controls",
            "_model_module_version": "1.5.0",
            "_model_name": "HTMLModel",
            "_view_count": null,
            "_view_module": "@jupyter-widgets/controls",
            "_view_module_version": "1.5.0",
            "_view_name": "HTMLView",
            "description": "",
            "description_tooltip": null,
            "layout": "IPY_MODEL_b411bf9c37ed46e19a8ee0c418a59518",
            "placeholder": "​",
            "style": "IPY_MODEL_8af6c76ba9354eb19e917392dcf56233",
            "value": " 5.31G/5.31G [01:06&lt;00:00, 110MB/s]"
          }
        },
        "0acd3ae8749b4c249acc5ae55a75d1c7": {
          "model_module": "@jupyter-widgets/base",
          "model_name": "LayoutModel",
          "model_module_version": "1.2.0",
          "state": {
            "_model_module": "@jupyter-widgets/base",
            "_model_module_version": "1.2.0",
            "_model_name": "LayoutModel",
            "_view_count": null,
            "_view_module": "@jupyter-widgets/base",
            "_view_module_version": "1.2.0",
            "_view_name": "LayoutView",
            "align_content": null,
            "align_items": null,
            "align_self": null,
            "border": null,
            "bottom": null,
            "display": null,
            "flex": null,
            "flex_flow": null,
            "grid_area": null,
            "grid_auto_columns": null,
            "grid_auto_flow": null,
            "grid_auto_rows": null,
            "grid_column": null,
            "grid_gap": null,
            "grid_row": null,
            "grid_template_areas": null,
            "grid_template_columns": null,
            "grid_template_rows": null,
            "height": null,
            "justify_content": null,
            "justify_items": null,
            "left": null,
            "margin": null,
            "max_height": null,
            "max_width": null,
            "min_height": null,
            "min_width": null,
            "object_fit": null,
            "object_position": null,
            "order": null,
            "overflow": null,
            "overflow_x": null,
            "overflow_y": null,
            "padding": null,
            "right": null,
            "top": null,
            "visibility": null,
            "width": null
          }
        },
        "5b5cdf338e7342b880c6fb3bce14da75": {
          "model_module": "@jupyter-widgets/base",
          "model_name": "LayoutModel",
          "model_module_version": "1.2.0",
          "state": {
            "_model_module": "@jupyter-widgets/base",
            "_model_module_version": "1.2.0",
            "_model_name": "LayoutModel",
            "_view_count": null,
            "_view_module": "@jupyter-widgets/base",
            "_view_module_version": "1.2.0",
            "_view_name": "LayoutView",
            "align_content": null,
            "align_items": null,
            "align_self": null,
            "border": null,
            "bottom": null,
            "display": null,
            "flex": null,
            "flex_flow": null,
            "grid_area": null,
            "grid_auto_columns": null,
            "grid_auto_flow": null,
            "grid_auto_rows": null,
            "grid_column": null,
            "grid_gap": null,
            "grid_row": null,
            "grid_template_areas": null,
            "grid_template_columns": null,
            "grid_template_rows": null,
            "height": null,
            "justify_content": null,
            "justify_items": null,
            "left": null,
            "margin": null,
            "max_height": null,
            "max_width": null,
            "min_height": null,
            "min_width": null,
            "object_fit": null,
            "object_position": null,
            "order": null,
            "overflow": null,
            "overflow_x": null,
            "overflow_y": null,
            "padding": null,
            "right": null,
            "top": null,
            "visibility": null,
            "width": null
          }
        },
        "7fd7649774c8418d842f6881e30cfe3a": {
          "model_module": "@jupyter-widgets/controls",
          "model_name": "DescriptionStyleModel",
          "model_module_version": "1.5.0",
          "state": {
            "_model_module": "@jupyter-widgets/controls",
            "_model_module_version": "1.5.0",
            "_model_name": "DescriptionStyleModel",
            "_view_count": null,
            "_view_module": "@jupyter-widgets/base",
            "_view_module_version": "1.2.0",
            "_view_name": "StyleView",
            "description_width": ""
          }
        },
        "e6e067c650dc4e479b52f5cf32b7e4b8": {
          "model_module": "@jupyter-widgets/base",
          "model_name": "LayoutModel",
          "model_module_version": "1.2.0",
          "state": {
            "_model_module": "@jupyter-widgets/base",
            "_model_module_version": "1.2.0",
            "_model_name": "LayoutModel",
            "_view_count": null,
            "_view_module": "@jupyter-widgets/base",
            "_view_module_version": "1.2.0",
            "_view_name": "LayoutView",
            "align_content": null,
            "align_items": null,
            "align_self": null,
            "border": null,
            "bottom": null,
            "display": null,
            "flex": null,
            "flex_flow": null,
            "grid_area": null,
            "grid_auto_columns": null,
            "grid_auto_flow": null,
            "grid_auto_rows": null,
            "grid_column": null,
            "grid_gap": null,
            "grid_row": null,
            "grid_template_areas": null,
            "grid_template_columns": null,
            "grid_template_rows": null,
            "height": null,
            "justify_content": null,
            "justify_items": null,
            "left": null,
            "margin": null,
            "max_height": null,
            "max_width": null,
            "min_height": null,
            "min_width": null,
            "object_fit": null,
            "object_position": null,
            "order": null,
            "overflow": null,
            "overflow_x": null,
            "overflow_y": null,
            "padding": null,
            "right": null,
            "top": null,
            "visibility": null,
            "width": null
          }
        },
        "a380da6be4214a9b81c34d313b51957f": {
          "model_module": "@jupyter-widgets/controls",
          "model_name": "ProgressStyleModel",
          "model_module_version": "1.5.0",
          "state": {
            "_model_module": "@jupyter-widgets/controls",
            "_model_module_version": "1.5.0",
            "_model_name": "ProgressStyleModel",
            "_view_count": null,
            "_view_module": "@jupyter-widgets/base",
            "_view_module_version": "1.2.0",
            "_view_name": "StyleView",
            "bar_color": null,
            "description_width": ""
          }
        },
        "b411bf9c37ed46e19a8ee0c418a59518": {
          "model_module": "@jupyter-widgets/base",
          "model_name": "LayoutModel",
          "model_module_version": "1.2.0",
          "state": {
            "_model_module": "@jupyter-widgets/base",
            "_model_module_version": "1.2.0",
            "_model_name": "LayoutModel",
            "_view_count": null,
            "_view_module": "@jupyter-widgets/base",
            "_view_module_version": "1.2.0",
            "_view_name": "LayoutView",
            "align_content": null,
            "align_items": null,
            "align_self": null,
            "border": null,
            "bottom": null,
            "display": null,
            "flex": null,
            "flex_flow": null,
            "grid_area": null,
            "grid_auto_columns": null,
            "grid_auto_flow": null,
            "grid_auto_rows": null,
            "grid_column": null,
            "grid_gap": null,
            "grid_row": null,
            "grid_template_areas": null,
            "grid_template_columns": null,
            "grid_template_rows": null,
            "height": null,
            "justify_content": null,
            "justify_items": null,
            "left": null,
            "margin": null,
            "max_height": null,
            "max_width": null,
            "min_height": null,
            "min_width": null,
            "object_fit": null,
            "object_position": null,
            "order": null,
            "overflow": null,
            "overflow_x": null,
            "overflow_y": null,
            "padding": null,
            "right": null,
            "top": null,
            "visibility": null,
            "width": null
          }
        },
        "8af6c76ba9354eb19e917392dcf56233": {
          "model_module": "@jupyter-widgets/controls",
          "model_name": "DescriptionStyleModel",
          "model_module_version": "1.5.0",
          "state": {
            "_model_module": "@jupyter-widgets/controls",
            "_model_module_version": "1.5.0",
            "_model_name": "DescriptionStyleModel",
            "_view_count": null,
            "_view_module": "@jupyter-widgets/base",
            "_view_module_version": "1.2.0",
            "_view_name": "StyleView",
            "description_width": ""
          }
        },
        "e2cb8476f7314dd0951417dbd4fe75fc": {
          "model_module": "@jupyter-widgets/controls",
          "model_name": "HBoxModel",
          "model_module_version": "1.5.0",
          "state": {
            "_dom_classes": [],
            "_model_module": "@jupyter-widgets/controls",
            "_model_module_version": "1.5.0",
            "_model_name": "HBoxModel",
            "_view_count": null,
            "_view_module": "@jupyter-widgets/controls",
            "_view_module_version": "1.5.0",
            "_view_name": "HBoxView",
            "box_style": "",
            "children": [
              "IPY_MODEL_ab1d3be4f03e481896b235153bd0c3af",
              "IPY_MODEL_3d70e62fe3b447018377f3f4c398dca6",
              "IPY_MODEL_18a7044c1037459f8c84e134242ed446"
            ],
            "layout": "IPY_MODEL_0489a0b80703406d98399fee18ef508d"
          }
        },
        "ab1d3be4f03e481896b235153bd0c3af": {
          "model_module": "@jupyter-widgets/controls",
          "model_name": "HTMLModel",
          "model_module_version": "1.5.0",
          "state": {
            "_dom_classes": [],
            "_model_module": "@jupyter-widgets/controls",
            "_model_module_version": "1.5.0",
            "_model_name": "HTMLModel",
            "_view_count": null,
            "_view_module": "@jupyter-widgets/controls",
            "_view_module_version": "1.5.0",
            "_view_name": "HTMLView",
            "description": "",
            "description_tooltip": null,
            "layout": "IPY_MODEL_4e5e2396317848aab0185b6b0bda461d",
            "placeholder": "​",
            "style": "IPY_MODEL_d483cbed50d84e0ea396d3813747096f",
            "value": "Downloading (…)okenizer_config.json: 100%"
          }
        },
        "3d70e62fe3b447018377f3f4c398dca6": {
          "model_module": "@jupyter-widgets/controls",
          "model_name": "FloatProgressModel",
          "model_module_version": "1.5.0",
          "state": {
            "_dom_classes": [],
            "_model_module": "@jupyter-widgets/controls",
            "_model_module_version": "1.5.0",
            "_model_name": "FloatProgressModel",
            "_view_count": null,
            "_view_module": "@jupyter-widgets/controls",
            "_view_module_version": "1.5.0",
            "_view_name": "ProgressView",
            "bar_style": "success",
            "description": "",
            "description_tooltip": null,
            "layout": "IPY_MODEL_5f7456b05fdc4ed9a182563a2969a9d2",
            "max": 200,
            "min": 0,
            "orientation": "horizontal",
            "style": "IPY_MODEL_7a584f5afb9e41b9984520ea70ddaedf",
            "value": 200
          }
        },
        "18a7044c1037459f8c84e134242ed446": {
          "model_module": "@jupyter-widgets/controls",
          "model_name": "HTMLModel",
          "model_module_version": "1.5.0",
          "state": {
            "_dom_classes": [],
            "_model_module": "@jupyter-widgets/controls",
            "_model_module_version": "1.5.0",
            "_model_name": "HTMLModel",
            "_view_count": null,
            "_view_module": "@jupyter-widgets/controls",
            "_view_module_version": "1.5.0",
            "_view_name": "HTMLView",
            "description": "",
            "description_tooltip": null,
            "layout": "IPY_MODEL_0f361718a66b4735a4d4031329050c2a",
            "placeholder": "​",
            "style": "IPY_MODEL_5154830e911b4a53822680cb1f180552",
            "value": " 200/200 [00:00&lt;00:00, 3.81kB/s]"
          }
        },
        "0489a0b80703406d98399fee18ef508d": {
          "model_module": "@jupyter-widgets/base",
          "model_name": "LayoutModel",
          "model_module_version": "1.2.0",
          "state": {
            "_model_module": "@jupyter-widgets/base",
            "_model_module_version": "1.2.0",
            "_model_name": "LayoutModel",
            "_view_count": null,
            "_view_module": "@jupyter-widgets/base",
            "_view_module_version": "1.2.0",
            "_view_name": "LayoutView",
            "align_content": null,
            "align_items": null,
            "align_self": null,
            "border": null,
            "bottom": null,
            "display": null,
            "flex": null,
            "flex_flow": null,
            "grid_area": null,
            "grid_auto_columns": null,
            "grid_auto_flow": null,
            "grid_auto_rows": null,
            "grid_column": null,
            "grid_gap": null,
            "grid_row": null,
            "grid_template_areas": null,
            "grid_template_columns": null,
            "grid_template_rows": null,
            "height": null,
            "justify_content": null,
            "justify_items": null,
            "left": null,
            "margin": null,
            "max_height": null,
            "max_width": null,
            "min_height": null,
            "min_width": null,
            "object_fit": null,
            "object_position": null,
            "order": null,
            "overflow": null,
            "overflow_x": null,
            "overflow_y": null,
            "padding": null,
            "right": null,
            "top": null,
            "visibility": null,
            "width": null
          }
        },
        "4e5e2396317848aab0185b6b0bda461d": {
          "model_module": "@jupyter-widgets/base",
          "model_name": "LayoutModel",
          "model_module_version": "1.2.0",
          "state": {
            "_model_module": "@jupyter-widgets/base",
            "_model_module_version": "1.2.0",
            "_model_name": "LayoutModel",
            "_view_count": null,
            "_view_module": "@jupyter-widgets/base",
            "_view_module_version": "1.2.0",
            "_view_name": "LayoutView",
            "align_content": null,
            "align_items": null,
            "align_self": null,
            "border": null,
            "bottom": null,
            "display": null,
            "flex": null,
            "flex_flow": null,
            "grid_area": null,
            "grid_auto_columns": null,
            "grid_auto_flow": null,
            "grid_auto_rows": null,
            "grid_column": null,
            "grid_gap": null,
            "grid_row": null,
            "grid_template_areas": null,
            "grid_template_columns": null,
            "grid_template_rows": null,
            "height": null,
            "justify_content": null,
            "justify_items": null,
            "left": null,
            "margin": null,
            "max_height": null,
            "max_width": null,
            "min_height": null,
            "min_width": null,
            "object_fit": null,
            "object_position": null,
            "order": null,
            "overflow": null,
            "overflow_x": null,
            "overflow_y": null,
            "padding": null,
            "right": null,
            "top": null,
            "visibility": null,
            "width": null
          }
        },
        "d483cbed50d84e0ea396d3813747096f": {
          "model_module": "@jupyter-widgets/controls",
          "model_name": "DescriptionStyleModel",
          "model_module_version": "1.5.0",
          "state": {
            "_model_module": "@jupyter-widgets/controls",
            "_model_module_version": "1.5.0",
            "_model_name": "DescriptionStyleModel",
            "_view_count": null,
            "_view_module": "@jupyter-widgets/base",
            "_view_module_version": "1.2.0",
            "_view_name": "StyleView",
            "description_width": ""
          }
        },
        "5f7456b05fdc4ed9a182563a2969a9d2": {
          "model_module": "@jupyter-widgets/base",
          "model_name": "LayoutModel",
          "model_module_version": "1.2.0",
          "state": {
            "_model_module": "@jupyter-widgets/base",
            "_model_module_version": "1.2.0",
            "_model_name": "LayoutModel",
            "_view_count": null,
            "_view_module": "@jupyter-widgets/base",
            "_view_module_version": "1.2.0",
            "_view_name": "LayoutView",
            "align_content": null,
            "align_items": null,
            "align_self": null,
            "border": null,
            "bottom": null,
            "display": null,
            "flex": null,
            "flex_flow": null,
            "grid_area": null,
            "grid_auto_columns": null,
            "grid_auto_flow": null,
            "grid_auto_rows": null,
            "grid_column": null,
            "grid_gap": null,
            "grid_row": null,
            "grid_template_areas": null,
            "grid_template_columns": null,
            "grid_template_rows": null,
            "height": null,
            "justify_content": null,
            "justify_items": null,
            "left": null,
            "margin": null,
            "max_height": null,
            "max_width": null,
            "min_height": null,
            "min_width": null,
            "object_fit": null,
            "object_position": null,
            "order": null,
            "overflow": null,
            "overflow_x": null,
            "overflow_y": null,
            "padding": null,
            "right": null,
            "top": null,
            "visibility": null,
            "width": null
          }
        },
        "7a584f5afb9e41b9984520ea70ddaedf": {
          "model_module": "@jupyter-widgets/controls",
          "model_name": "ProgressStyleModel",
          "model_module_version": "1.5.0",
          "state": {
            "_model_module": "@jupyter-widgets/controls",
            "_model_module_version": "1.5.0",
            "_model_name": "ProgressStyleModel",
            "_view_count": null,
            "_view_module": "@jupyter-widgets/base",
            "_view_module_version": "1.2.0",
            "_view_name": "StyleView",
            "bar_color": null,
            "description_width": ""
          }
        },
        "0f361718a66b4735a4d4031329050c2a": {
          "model_module": "@jupyter-widgets/base",
          "model_name": "LayoutModel",
          "model_module_version": "1.2.0",
          "state": {
            "_model_module": "@jupyter-widgets/base",
            "_model_module_version": "1.2.0",
            "_model_name": "LayoutModel",
            "_view_count": null,
            "_view_module": "@jupyter-widgets/base",
            "_view_module_version": "1.2.0",
            "_view_name": "LayoutView",
            "align_content": null,
            "align_items": null,
            "align_self": null,
            "border": null,
            "bottom": null,
            "display": null,
            "flex": null,
            "flex_flow": null,
            "grid_area": null,
            "grid_auto_columns": null,
            "grid_auto_flow": null,
            "grid_auto_rows": null,
            "grid_column": null,
            "grid_gap": null,
            "grid_row": null,
            "grid_template_areas": null,
            "grid_template_columns": null,
            "grid_template_rows": null,
            "height": null,
            "justify_content": null,
            "justify_items": null,
            "left": null,
            "margin": null,
            "max_height": null,
            "max_width": null,
            "min_height": null,
            "min_width": null,
            "object_fit": null,
            "object_position": null,
            "order": null,
            "overflow": null,
            "overflow_x": null,
            "overflow_y": null,
            "padding": null,
            "right": null,
            "top": null,
            "visibility": null,
            "width": null
          }
        },
        "5154830e911b4a53822680cb1f180552": {
          "model_module": "@jupyter-widgets/controls",
          "model_name": "DescriptionStyleModel",
          "model_module_version": "1.5.0",
          "state": {
            "_model_module": "@jupyter-widgets/controls",
            "_model_module_version": "1.5.0",
            "_model_name": "DescriptionStyleModel",
            "_view_count": null,
            "_view_module": "@jupyter-widgets/base",
            "_view_module_version": "1.2.0",
            "_view_name": "StyleView",
            "description_width": ""
          }
        },
        "53430f81663649c9bbc047316e5de9d0": {
          "model_module": "@jupyter-widgets/controls",
          "model_name": "HBoxModel",
          "model_module_version": "1.5.0",
          "state": {
            "_dom_classes": [],
            "_model_module": "@jupyter-widgets/controls",
            "_model_module_version": "1.5.0",
            "_model_name": "HBoxModel",
            "_view_count": null,
            "_view_module": "@jupyter-widgets/controls",
            "_view_module_version": "1.5.0",
            "_view_name": "HBoxView",
            "box_style": "",
            "children": [
              "IPY_MODEL_be91994d44a342498cceefc28e415d92",
              "IPY_MODEL_19ba7b94472f4b069395c316831a753b",
              "IPY_MODEL_b938c1f5c73844f493cd9292429882cf"
            ],
            "layout": "IPY_MODEL_dd73722b966c469b9b41756b7370f87b"
          }
        },
        "be91994d44a342498cceefc28e415d92": {
          "model_module": "@jupyter-widgets/controls",
          "model_name": "HTMLModel",
          "model_module_version": "1.5.0",
          "state": {
            "_dom_classes": [],
            "_model_module": "@jupyter-widgets/controls",
            "_model_module_version": "1.5.0",
            "_model_name": "HTMLModel",
            "_view_count": null,
            "_view_module": "@jupyter-widgets/controls",
            "_view_module_version": "1.5.0",
            "_view_name": "HTMLView",
            "description": "",
            "description_tooltip": null,
            "layout": "IPY_MODEL_c7a7f05823c2495ba6591572f360d6ce",
            "placeholder": "​",
            "style": "IPY_MODEL_019b61cd96b2470a99e212334c97cf46",
            "value": "Downloading (…)olve/main/vocab.json: 100%"
          }
        },
        "19ba7b94472f4b069395c316831a753b": {
          "model_module": "@jupyter-widgets/controls",
          "model_name": "FloatProgressModel",
          "model_module_version": "1.5.0",
          "state": {
            "_dom_classes": [],
            "_model_module": "@jupyter-widgets/controls",
            "_model_module_version": "1.5.0",
            "_model_name": "FloatProgressModel",
            "_view_count": null,
            "_view_module": "@jupyter-widgets/controls",
            "_view_module_version": "1.5.0",
            "_view_name": "ProgressView",
            "bar_style": "success",
            "description": "",
            "description_tooltip": null,
            "layout": "IPY_MODEL_1a2e0ab1007d4aceb52787b3638fb877",
            "max": 798156,
            "min": 0,
            "orientation": "horizontal",
            "style": "IPY_MODEL_4aef91bc4a7c463bba20948398e930bc",
            "value": 798156
          }
        },
        "b938c1f5c73844f493cd9292429882cf": {
          "model_module": "@jupyter-widgets/controls",
          "model_name": "HTMLModel",
          "model_module_version": "1.5.0",
          "state": {
            "_dom_classes": [],
            "_model_module": "@jupyter-widgets/controls",
            "_model_module_version": "1.5.0",
            "_model_name": "HTMLModel",
            "_view_count": null,
            "_view_module": "@jupyter-widgets/controls",
            "_view_module_version": "1.5.0",
            "_view_name": "HTMLView",
            "description": "",
            "description_tooltip": null,
            "layout": "IPY_MODEL_fee7ed53eab4410580eb24edc9b9cbce",
            "placeholder": "​",
            "style": "IPY_MODEL_4dab369d3a9e4b42b4ac1b301c50f484",
            "value": " 798k/798k [00:00&lt;00:00, 6.18MB/s]"
          }
        },
        "dd73722b966c469b9b41756b7370f87b": {
          "model_module": "@jupyter-widgets/base",
          "model_name": "LayoutModel",
          "model_module_version": "1.2.0",
          "state": {
            "_model_module": "@jupyter-widgets/base",
            "_model_module_version": "1.2.0",
            "_model_name": "LayoutModel",
            "_view_count": null,
            "_view_module": "@jupyter-widgets/base",
            "_view_module_version": "1.2.0",
            "_view_name": "LayoutView",
            "align_content": null,
            "align_items": null,
            "align_self": null,
            "border": null,
            "bottom": null,
            "display": null,
            "flex": null,
            "flex_flow": null,
            "grid_area": null,
            "grid_auto_columns": null,
            "grid_auto_flow": null,
            "grid_auto_rows": null,
            "grid_column": null,
            "grid_gap": null,
            "grid_row": null,
            "grid_template_areas": null,
            "grid_template_columns": null,
            "grid_template_rows": null,
            "height": null,
            "justify_content": null,
            "justify_items": null,
            "left": null,
            "margin": null,
            "max_height": null,
            "max_width": null,
            "min_height": null,
            "min_width": null,
            "object_fit": null,
            "object_position": null,
            "order": null,
            "overflow": null,
            "overflow_x": null,
            "overflow_y": null,
            "padding": null,
            "right": null,
            "top": null,
            "visibility": null,
            "width": null
          }
        },
        "c7a7f05823c2495ba6591572f360d6ce": {
          "model_module": "@jupyter-widgets/base",
          "model_name": "LayoutModel",
          "model_module_version": "1.2.0",
          "state": {
            "_model_module": "@jupyter-widgets/base",
            "_model_module_version": "1.2.0",
            "_model_name": "LayoutModel",
            "_view_count": null,
            "_view_module": "@jupyter-widgets/base",
            "_view_module_version": "1.2.0",
            "_view_name": "LayoutView",
            "align_content": null,
            "align_items": null,
            "align_self": null,
            "border": null,
            "bottom": null,
            "display": null,
            "flex": null,
            "flex_flow": null,
            "grid_area": null,
            "grid_auto_columns": null,
            "grid_auto_flow": null,
            "grid_auto_rows": null,
            "grid_column": null,
            "grid_gap": null,
            "grid_row": null,
            "grid_template_areas": null,
            "grid_template_columns": null,
            "grid_template_rows": null,
            "height": null,
            "justify_content": null,
            "justify_items": null,
            "left": null,
            "margin": null,
            "max_height": null,
            "max_width": null,
            "min_height": null,
            "min_width": null,
            "object_fit": null,
            "object_position": null,
            "order": null,
            "overflow": null,
            "overflow_x": null,
            "overflow_y": null,
            "padding": null,
            "right": null,
            "top": null,
            "visibility": null,
            "width": null
          }
        },
        "019b61cd96b2470a99e212334c97cf46": {
          "model_module": "@jupyter-widgets/controls",
          "model_name": "DescriptionStyleModel",
          "model_module_version": "1.5.0",
          "state": {
            "_model_module": "@jupyter-widgets/controls",
            "_model_module_version": "1.5.0",
            "_model_name": "DescriptionStyleModel",
            "_view_count": null,
            "_view_module": "@jupyter-widgets/base",
            "_view_module_version": "1.2.0",
            "_view_name": "StyleView",
            "description_width": ""
          }
        },
        "1a2e0ab1007d4aceb52787b3638fb877": {
          "model_module": "@jupyter-widgets/base",
          "model_name": "LayoutModel",
          "model_module_version": "1.2.0",
          "state": {
            "_model_module": "@jupyter-widgets/base",
            "_model_module_version": "1.2.0",
            "_model_name": "LayoutModel",
            "_view_count": null,
            "_view_module": "@jupyter-widgets/base",
            "_view_module_version": "1.2.0",
            "_view_name": "LayoutView",
            "align_content": null,
            "align_items": null,
            "align_self": null,
            "border": null,
            "bottom": null,
            "display": null,
            "flex": null,
            "flex_flow": null,
            "grid_area": null,
            "grid_auto_columns": null,
            "grid_auto_flow": null,
            "grid_auto_rows": null,
            "grid_column": null,
            "grid_gap": null,
            "grid_row": null,
            "grid_template_areas": null,
            "grid_template_columns": null,
            "grid_template_rows": null,
            "height": null,
            "justify_content": null,
            "justify_items": null,
            "left": null,
            "margin": null,
            "max_height": null,
            "max_width": null,
            "min_height": null,
            "min_width": null,
            "object_fit": null,
            "object_position": null,
            "order": null,
            "overflow": null,
            "overflow_x": null,
            "overflow_y": null,
            "padding": null,
            "right": null,
            "top": null,
            "visibility": null,
            "width": null
          }
        },
        "4aef91bc4a7c463bba20948398e930bc": {
          "model_module": "@jupyter-widgets/controls",
          "model_name": "ProgressStyleModel",
          "model_module_version": "1.5.0",
          "state": {
            "_model_module": "@jupyter-widgets/controls",
            "_model_module_version": "1.5.0",
            "_model_name": "ProgressStyleModel",
            "_view_count": null,
            "_view_module": "@jupyter-widgets/base",
            "_view_module_version": "1.2.0",
            "_view_name": "StyleView",
            "bar_color": null,
            "description_width": ""
          }
        },
        "fee7ed53eab4410580eb24edc9b9cbce": {
          "model_module": "@jupyter-widgets/base",
          "model_name": "LayoutModel",
          "model_module_version": "1.2.0",
          "state": {
            "_model_module": "@jupyter-widgets/base",
            "_model_module_version": "1.2.0",
            "_model_name": "LayoutModel",
            "_view_count": null,
            "_view_module": "@jupyter-widgets/base",
            "_view_module_version": "1.2.0",
            "_view_name": "LayoutView",
            "align_content": null,
            "align_items": null,
            "align_self": null,
            "border": null,
            "bottom": null,
            "display": null,
            "flex": null,
            "flex_flow": null,
            "grid_area": null,
            "grid_auto_columns": null,
            "grid_auto_flow": null,
            "grid_auto_rows": null,
            "grid_column": null,
            "grid_gap": null,
            "grid_row": null,
            "grid_template_areas": null,
            "grid_template_columns": null,
            "grid_template_rows": null,
            "height": null,
            "justify_content": null,
            "justify_items": null,
            "left": null,
            "margin": null,
            "max_height": null,
            "max_width": null,
            "min_height": null,
            "min_width": null,
            "object_fit": null,
            "object_position": null,
            "order": null,
            "overflow": null,
            "overflow_x": null,
            "overflow_y": null,
            "padding": null,
            "right": null,
            "top": null,
            "visibility": null,
            "width": null
          }
        },
        "4dab369d3a9e4b42b4ac1b301c50f484": {
          "model_module": "@jupyter-widgets/controls",
          "model_name": "DescriptionStyleModel",
          "model_module_version": "1.5.0",
          "state": {
            "_model_module": "@jupyter-widgets/controls",
            "_model_module_version": "1.5.0",
            "_model_name": "DescriptionStyleModel",
            "_view_count": null,
            "_view_module": "@jupyter-widgets/base",
            "_view_module_version": "1.2.0",
            "_view_name": "StyleView",
            "description_width": ""
          }
        },
        "cf79fc80dac440838145a764a2c8a247": {
          "model_module": "@jupyter-widgets/controls",
          "model_name": "HBoxModel",
          "model_module_version": "1.5.0",
          "state": {
            "_dom_classes": [],
            "_model_module": "@jupyter-widgets/controls",
            "_model_module_version": "1.5.0",
            "_model_name": "HBoxModel",
            "_view_count": null,
            "_view_module": "@jupyter-widgets/controls",
            "_view_module_version": "1.5.0",
            "_view_name": "HBoxView",
            "box_style": "",
            "children": [
              "IPY_MODEL_42570bf8eebb4949ad7071563451c3b1",
              "IPY_MODEL_36bb729cfbd844089794ccbff4fe4feb",
              "IPY_MODEL_6d027c445bc14f4d8fd58ba17d6d0770"
            ],
            "layout": "IPY_MODEL_3a1e7f66642842a891ccfc0af198b263"
          }
        },
        "42570bf8eebb4949ad7071563451c3b1": {
          "model_module": "@jupyter-widgets/controls",
          "model_name": "HTMLModel",
          "model_module_version": "1.5.0",
          "state": {
            "_dom_classes": [],
            "_model_module": "@jupyter-widgets/controls",
            "_model_module_version": "1.5.0",
            "_model_name": "HTMLModel",
            "_view_count": null,
            "_view_module": "@jupyter-widgets/controls",
            "_view_module_version": "1.5.0",
            "_view_name": "HTMLView",
            "description": "",
            "description_tooltip": null,
            "layout": "IPY_MODEL_a1b2c056dfe142af9f4240ae02041043",
            "placeholder": "​",
            "style": "IPY_MODEL_ef1d0803c5d8477894a4bf76923d2a84",
            "value": "Downloading (…)olve/main/merges.txt: 100%"
          }
        },
        "36bb729cfbd844089794ccbff4fe4feb": {
          "model_module": "@jupyter-widgets/controls",
          "model_name": "FloatProgressModel",
          "model_module_version": "1.5.0",
          "state": {
            "_dom_classes": [],
            "_model_module": "@jupyter-widgets/controls",
            "_model_module_version": "1.5.0",
            "_model_name": "FloatProgressModel",
            "_view_count": null,
            "_view_module": "@jupyter-widgets/controls",
            "_view_module_version": "1.5.0",
            "_view_name": "ProgressView",
            "bar_style": "success",
            "description": "",
            "description_tooltip": null,
            "layout": "IPY_MODEL_9f877638b5fc4692949545fecdf8fdf4",
            "max": 456356,
            "min": 0,
            "orientation": "horizontal",
            "style": "IPY_MODEL_83c1870358f44dda81b88db48c65bed6",
            "value": 456356
          }
        },
        "6d027c445bc14f4d8fd58ba17d6d0770": {
          "model_module": "@jupyter-widgets/controls",
          "model_name": "HTMLModel",
          "model_module_version": "1.5.0",
          "state": {
            "_dom_classes": [],
            "_model_module": "@jupyter-widgets/controls",
            "_model_module_version": "1.5.0",
            "_model_name": "HTMLModel",
            "_view_count": null,
            "_view_module": "@jupyter-widgets/controls",
            "_view_module_version": "1.5.0",
            "_view_name": "HTMLView",
            "description": "",
            "description_tooltip": null,
            "layout": "IPY_MODEL_bf5035c45f9445d583cb710a2a0159a1",
            "placeholder": "​",
            "style": "IPY_MODEL_5ac4b56c51bf4caa9cc285e9e33dc6fc",
            "value": " 456k/456k [00:00&lt;00:00, 4.37MB/s]"
          }
        },
        "3a1e7f66642842a891ccfc0af198b263": {
          "model_module": "@jupyter-widgets/base",
          "model_name": "LayoutModel",
          "model_module_version": "1.2.0",
          "state": {
            "_model_module": "@jupyter-widgets/base",
            "_model_module_version": "1.2.0",
            "_model_name": "LayoutModel",
            "_view_count": null,
            "_view_module": "@jupyter-widgets/base",
            "_view_module_version": "1.2.0",
            "_view_name": "LayoutView",
            "align_content": null,
            "align_items": null,
            "align_self": null,
            "border": null,
            "bottom": null,
            "display": null,
            "flex": null,
            "flex_flow": null,
            "grid_area": null,
            "grid_auto_columns": null,
            "grid_auto_flow": null,
            "grid_auto_rows": null,
            "grid_column": null,
            "grid_gap": null,
            "grid_row": null,
            "grid_template_areas": null,
            "grid_template_columns": null,
            "grid_template_rows": null,
            "height": null,
            "justify_content": null,
            "justify_items": null,
            "left": null,
            "margin": null,
            "max_height": null,
            "max_width": null,
            "min_height": null,
            "min_width": null,
            "object_fit": null,
            "object_position": null,
            "order": null,
            "overflow": null,
            "overflow_x": null,
            "overflow_y": null,
            "padding": null,
            "right": null,
            "top": null,
            "visibility": null,
            "width": null
          }
        },
        "a1b2c056dfe142af9f4240ae02041043": {
          "model_module": "@jupyter-widgets/base",
          "model_name": "LayoutModel",
          "model_module_version": "1.2.0",
          "state": {
            "_model_module": "@jupyter-widgets/base",
            "_model_module_version": "1.2.0",
            "_model_name": "LayoutModel",
            "_view_count": null,
            "_view_module": "@jupyter-widgets/base",
            "_view_module_version": "1.2.0",
            "_view_name": "LayoutView",
            "align_content": null,
            "align_items": null,
            "align_self": null,
            "border": null,
            "bottom": null,
            "display": null,
            "flex": null,
            "flex_flow": null,
            "grid_area": null,
            "grid_auto_columns": null,
            "grid_auto_flow": null,
            "grid_auto_rows": null,
            "grid_column": null,
            "grid_gap": null,
            "grid_row": null,
            "grid_template_areas": null,
            "grid_template_columns": null,
            "grid_template_rows": null,
            "height": null,
            "justify_content": null,
            "justify_items": null,
            "left": null,
            "margin": null,
            "max_height": null,
            "max_width": null,
            "min_height": null,
            "min_width": null,
            "object_fit": null,
            "object_position": null,
            "order": null,
            "overflow": null,
            "overflow_x": null,
            "overflow_y": null,
            "padding": null,
            "right": null,
            "top": null,
            "visibility": null,
            "width": null
          }
        },
        "ef1d0803c5d8477894a4bf76923d2a84": {
          "model_module": "@jupyter-widgets/controls",
          "model_name": "DescriptionStyleModel",
          "model_module_version": "1.5.0",
          "state": {
            "_model_module": "@jupyter-widgets/controls",
            "_model_module_version": "1.5.0",
            "_model_name": "DescriptionStyleModel",
            "_view_count": null,
            "_view_module": "@jupyter-widgets/base",
            "_view_module_version": "1.2.0",
            "_view_name": "StyleView",
            "description_width": ""
          }
        },
        "9f877638b5fc4692949545fecdf8fdf4": {
          "model_module": "@jupyter-widgets/base",
          "model_name": "LayoutModel",
          "model_module_version": "1.2.0",
          "state": {
            "_model_module": "@jupyter-widgets/base",
            "_model_module_version": "1.2.0",
            "_model_name": "LayoutModel",
            "_view_count": null,
            "_view_module": "@jupyter-widgets/base",
            "_view_module_version": "1.2.0",
            "_view_name": "LayoutView",
            "align_content": null,
            "align_items": null,
            "align_self": null,
            "border": null,
            "bottom": null,
            "display": null,
            "flex": null,
            "flex_flow": null,
            "grid_area": null,
            "grid_auto_columns": null,
            "grid_auto_flow": null,
            "grid_auto_rows": null,
            "grid_column": null,
            "grid_gap": null,
            "grid_row": null,
            "grid_template_areas": null,
            "grid_template_columns": null,
            "grid_template_rows": null,
            "height": null,
            "justify_content": null,
            "justify_items": null,
            "left": null,
            "margin": null,
            "max_height": null,
            "max_width": null,
            "min_height": null,
            "min_width": null,
            "object_fit": null,
            "object_position": null,
            "order": null,
            "overflow": null,
            "overflow_x": null,
            "overflow_y": null,
            "padding": null,
            "right": null,
            "top": null,
            "visibility": null,
            "width": null
          }
        },
        "83c1870358f44dda81b88db48c65bed6": {
          "model_module": "@jupyter-widgets/controls",
          "model_name": "ProgressStyleModel",
          "model_module_version": "1.5.0",
          "state": {
            "_model_module": "@jupyter-widgets/controls",
            "_model_module_version": "1.5.0",
            "_model_name": "ProgressStyleModel",
            "_view_count": null,
            "_view_module": "@jupyter-widgets/base",
            "_view_module_version": "1.2.0",
            "_view_name": "StyleView",
            "bar_color": null,
            "description_width": ""
          }
        },
        "bf5035c45f9445d583cb710a2a0159a1": {
          "model_module": "@jupyter-widgets/base",
          "model_name": "LayoutModel",
          "model_module_version": "1.2.0",
          "state": {
            "_model_module": "@jupyter-widgets/base",
            "_model_module_version": "1.2.0",
            "_model_name": "LayoutModel",
            "_view_count": null,
            "_view_module": "@jupyter-widgets/base",
            "_view_module_version": "1.2.0",
            "_view_name": "LayoutView",
            "align_content": null,
            "align_items": null,
            "align_self": null,
            "border": null,
            "bottom": null,
            "display": null,
            "flex": null,
            "flex_flow": null,
            "grid_area": null,
            "grid_auto_columns": null,
            "grid_auto_flow": null,
            "grid_auto_rows": null,
            "grid_column": null,
            "grid_gap": null,
            "grid_row": null,
            "grid_template_areas": null,
            "grid_template_columns": null,
            "grid_template_rows": null,
            "height": null,
            "justify_content": null,
            "justify_items": null,
            "left": null,
            "margin": null,
            "max_height": null,
            "max_width": null,
            "min_height": null,
            "min_width": null,
            "object_fit": null,
            "object_position": null,
            "order": null,
            "overflow": null,
            "overflow_x": null,
            "overflow_y": null,
            "padding": null,
            "right": null,
            "top": null,
            "visibility": null,
            "width": null
          }
        },
        "5ac4b56c51bf4caa9cc285e9e33dc6fc": {
          "model_module": "@jupyter-widgets/controls",
          "model_name": "DescriptionStyleModel",
          "model_module_version": "1.5.0",
          "state": {
            "_model_module": "@jupyter-widgets/controls",
            "_model_module_version": "1.5.0",
            "_model_name": "DescriptionStyleModel",
            "_view_count": null,
            "_view_module": "@jupyter-widgets/base",
            "_view_module_version": "1.2.0",
            "_view_name": "StyleView",
            "description_width": ""
          }
        },
        "a35b8e1cca76481b85ae74a6c12f221b": {
          "model_module": "@jupyter-widgets/controls",
          "model_name": "HBoxModel",
          "model_module_version": "1.5.0",
          "state": {
            "_dom_classes": [],
            "_model_module": "@jupyter-widgets/controls",
            "_model_module_version": "1.5.0",
            "_model_name": "HBoxModel",
            "_view_count": null,
            "_view_module": "@jupyter-widgets/controls",
            "_view_module_version": "1.5.0",
            "_view_name": "HBoxView",
            "box_style": "",
            "children": [
              "IPY_MODEL_3e549639d0e24fe5882e89488732fc4a",
              "IPY_MODEL_d6056a9a995b409b9cdce1f152a097cf",
              "IPY_MODEL_10a327002d084c2a8ff455eaad6799a1"
            ],
            "layout": "IPY_MODEL_de1b2b1d2cdf4b92bcf4f9766e74437c"
          }
        },
        "3e549639d0e24fe5882e89488732fc4a": {
          "model_module": "@jupyter-widgets/controls",
          "model_name": "HTMLModel",
          "model_module_version": "1.5.0",
          "state": {
            "_dom_classes": [],
            "_model_module": "@jupyter-widgets/controls",
            "_model_module_version": "1.5.0",
            "_model_name": "HTMLModel",
            "_view_count": null,
            "_view_module": "@jupyter-widgets/controls",
            "_view_module_version": "1.5.0",
            "_view_name": "HTMLView",
            "description": "",
            "description_tooltip": null,
            "layout": "IPY_MODEL_b27a113541e640658e10182809464436",
            "placeholder": "​",
            "style": "IPY_MODEL_77e3236a511440bc9023929e7a7d35de",
            "value": "Downloading (…)cial_tokens_map.json: 100%"
          }
        },
        "d6056a9a995b409b9cdce1f152a097cf": {
          "model_module": "@jupyter-widgets/controls",
          "model_name": "FloatProgressModel",
          "model_module_version": "1.5.0",
          "state": {
            "_dom_classes": [],
            "_model_module": "@jupyter-widgets/controls",
            "_model_module_version": "1.5.0",
            "_model_name": "FloatProgressModel",
            "_view_count": null,
            "_view_module": "@jupyter-widgets/controls",
            "_view_module_version": "1.5.0",
            "_view_name": "ProgressView",
            "bar_style": "success",
            "description": "",
            "description_tooltip": null,
            "layout": "IPY_MODEL_b3d1719ca2e24502afb0bfc2c195e302",
            "max": 90,
            "min": 0,
            "orientation": "horizontal",
            "style": "IPY_MODEL_79fc4ed6135147e184ffe2ed4b001648",
            "value": 90
          }
        },
        "10a327002d084c2a8ff455eaad6799a1": {
          "model_module": "@jupyter-widgets/controls",
          "model_name": "HTMLModel",
          "model_module_version": "1.5.0",
          "state": {
            "_dom_classes": [],
            "_model_module": "@jupyter-widgets/controls",
            "_model_module_version": "1.5.0",
            "_model_name": "HTMLModel",
            "_view_count": null,
            "_view_module": "@jupyter-widgets/controls",
            "_view_module_version": "1.5.0",
            "_view_name": "HTMLView",
            "description": "",
            "description_tooltip": null,
            "layout": "IPY_MODEL_09c64efe6c0940bba402015ce122401d",
            "placeholder": "​",
            "style": "IPY_MODEL_8d782b77795f4cc1a63c971728f38ddc",
            "value": " 90.0/90.0 [00:00&lt;00:00, 2.81kB/s]"
          }
        },
        "de1b2b1d2cdf4b92bcf4f9766e74437c": {
          "model_module": "@jupyter-widgets/base",
          "model_name": "LayoutModel",
          "model_module_version": "1.2.0",
          "state": {
            "_model_module": "@jupyter-widgets/base",
            "_model_module_version": "1.2.0",
            "_model_name": "LayoutModel",
            "_view_count": null,
            "_view_module": "@jupyter-widgets/base",
            "_view_module_version": "1.2.0",
            "_view_name": "LayoutView",
            "align_content": null,
            "align_items": null,
            "align_self": null,
            "border": null,
            "bottom": null,
            "display": null,
            "flex": null,
            "flex_flow": null,
            "grid_area": null,
            "grid_auto_columns": null,
            "grid_auto_flow": null,
            "grid_auto_rows": null,
            "grid_column": null,
            "grid_gap": null,
            "grid_row": null,
            "grid_template_areas": null,
            "grid_template_columns": null,
            "grid_template_rows": null,
            "height": null,
            "justify_content": null,
            "justify_items": null,
            "left": null,
            "margin": null,
            "max_height": null,
            "max_width": null,
            "min_height": null,
            "min_width": null,
            "object_fit": null,
            "object_position": null,
            "order": null,
            "overflow": null,
            "overflow_x": null,
            "overflow_y": null,
            "padding": null,
            "right": null,
            "top": null,
            "visibility": null,
            "width": null
          }
        },
        "b27a113541e640658e10182809464436": {
          "model_module": "@jupyter-widgets/base",
          "model_name": "LayoutModel",
          "model_module_version": "1.2.0",
          "state": {
            "_model_module": "@jupyter-widgets/base",
            "_model_module_version": "1.2.0",
            "_model_name": "LayoutModel",
            "_view_count": null,
            "_view_module": "@jupyter-widgets/base",
            "_view_module_version": "1.2.0",
            "_view_name": "LayoutView",
            "align_content": null,
            "align_items": null,
            "align_self": null,
            "border": null,
            "bottom": null,
            "display": null,
            "flex": null,
            "flex_flow": null,
            "grid_area": null,
            "grid_auto_columns": null,
            "grid_auto_flow": null,
            "grid_auto_rows": null,
            "grid_column": null,
            "grid_gap": null,
            "grid_row": null,
            "grid_template_areas": null,
            "grid_template_columns": null,
            "grid_template_rows": null,
            "height": null,
            "justify_content": null,
            "justify_items": null,
            "left": null,
            "margin": null,
            "max_height": null,
            "max_width": null,
            "min_height": null,
            "min_width": null,
            "object_fit": null,
            "object_position": null,
            "order": null,
            "overflow": null,
            "overflow_x": null,
            "overflow_y": null,
            "padding": null,
            "right": null,
            "top": null,
            "visibility": null,
            "width": null
          }
        },
        "77e3236a511440bc9023929e7a7d35de": {
          "model_module": "@jupyter-widgets/controls",
          "model_name": "DescriptionStyleModel",
          "model_module_version": "1.5.0",
          "state": {
            "_model_module": "@jupyter-widgets/controls",
            "_model_module_version": "1.5.0",
            "_model_name": "DescriptionStyleModel",
            "_view_count": null,
            "_view_module": "@jupyter-widgets/base",
            "_view_module_version": "1.2.0",
            "_view_name": "StyleView",
            "description_width": ""
          }
        },
        "b3d1719ca2e24502afb0bfc2c195e302": {
          "model_module": "@jupyter-widgets/base",
          "model_name": "LayoutModel",
          "model_module_version": "1.2.0",
          "state": {
            "_model_module": "@jupyter-widgets/base",
            "_model_module_version": "1.2.0",
            "_model_name": "LayoutModel",
            "_view_count": null,
            "_view_module": "@jupyter-widgets/base",
            "_view_module_version": "1.2.0",
            "_view_name": "LayoutView",
            "align_content": null,
            "align_items": null,
            "align_self": null,
            "border": null,
            "bottom": null,
            "display": null,
            "flex": null,
            "flex_flow": null,
            "grid_area": null,
            "grid_auto_columns": null,
            "grid_auto_flow": null,
            "grid_auto_rows": null,
            "grid_column": null,
            "grid_gap": null,
            "grid_row": null,
            "grid_template_areas": null,
            "grid_template_columns": null,
            "grid_template_rows": null,
            "height": null,
            "justify_content": null,
            "justify_items": null,
            "left": null,
            "margin": null,
            "max_height": null,
            "max_width": null,
            "min_height": null,
            "min_width": null,
            "object_fit": null,
            "object_position": null,
            "order": null,
            "overflow": null,
            "overflow_x": null,
            "overflow_y": null,
            "padding": null,
            "right": null,
            "top": null,
            "visibility": null,
            "width": null
          }
        },
        "79fc4ed6135147e184ffe2ed4b001648": {
          "model_module": "@jupyter-widgets/controls",
          "model_name": "ProgressStyleModel",
          "model_module_version": "1.5.0",
          "state": {
            "_model_module": "@jupyter-widgets/controls",
            "_model_module_version": "1.5.0",
            "_model_name": "ProgressStyleModel",
            "_view_count": null,
            "_view_module": "@jupyter-widgets/base",
            "_view_module_version": "1.2.0",
            "_view_name": "StyleView",
            "bar_color": null,
            "description_width": ""
          }
        },
        "09c64efe6c0940bba402015ce122401d": {
          "model_module": "@jupyter-widgets/base",
          "model_name": "LayoutModel",
          "model_module_version": "1.2.0",
          "state": {
            "_model_module": "@jupyter-widgets/base",
            "_model_module_version": "1.2.0",
            "_model_name": "LayoutModel",
            "_view_count": null,
            "_view_module": "@jupyter-widgets/base",
            "_view_module_version": "1.2.0",
            "_view_name": "LayoutView",
            "align_content": null,
            "align_items": null,
            "align_self": null,
            "border": null,
            "bottom": null,
            "display": null,
            "flex": null,
            "flex_flow": null,
            "grid_area": null,
            "grid_auto_columns": null,
            "grid_auto_flow": null,
            "grid_auto_rows": null,
            "grid_column": null,
            "grid_gap": null,
            "grid_row": null,
            "grid_template_areas": null,
            "grid_template_columns": null,
            "grid_template_rows": null,
            "height": null,
            "justify_content": null,
            "justify_items": null,
            "left": null,
            "margin": null,
            "max_height": null,
            "max_width": null,
            "min_height": null,
            "min_width": null,
            "object_fit": null,
            "object_position": null,
            "order": null,
            "overflow": null,
            "overflow_x": null,
            "overflow_y": null,
            "padding": null,
            "right": null,
            "top": null,
            "visibility": null,
            "width": null
          }
        },
        "8d782b77795f4cc1a63c971728f38ddc": {
          "model_module": "@jupyter-widgets/controls",
          "model_name": "DescriptionStyleModel",
          "model_module_version": "1.5.0",
          "state": {
            "_model_module": "@jupyter-widgets/controls",
            "_model_module_version": "1.5.0",
            "_model_name": "DescriptionStyleModel",
            "_view_count": null,
            "_view_module": "@jupyter-widgets/base",
            "_view_module_version": "1.2.0",
            "_view_name": "StyleView",
            "description_width": ""
          }
        },
        "8b969926f1d04827802a71ec08da3312": {
          "model_module": "@jupyter-widgets/controls",
          "model_name": "HBoxModel",
          "model_module_version": "1.5.0",
          "state": {
            "_dom_classes": [],
            "_model_module": "@jupyter-widgets/controls",
            "_model_module_version": "1.5.0",
            "_model_name": "HBoxModel",
            "_view_count": null,
            "_view_module": "@jupyter-widgets/controls",
            "_view_module_version": "1.5.0",
            "_view_name": "HBoxView",
            "box_style": "",
            "children": [
              "IPY_MODEL_41d27f4c7f874f43a57e56601c4a8b70",
              "IPY_MODEL_7a16f419435641eeac308812414545f4",
              "IPY_MODEL_fbf4e98212a049518cfc35e8dd362842"
            ],
            "layout": "IPY_MODEL_6995afa2544a434e8edb80c1d2a94072"
          }
        },
        "41d27f4c7f874f43a57e56601c4a8b70": {
          "model_module": "@jupyter-widgets/controls",
          "model_name": "HTMLModel",
          "model_module_version": "1.5.0",
          "state": {
            "_dom_classes": [],
            "_model_module": "@jupyter-widgets/controls",
            "_model_module_version": "1.5.0",
            "_model_name": "HTMLModel",
            "_view_count": null,
            "_view_module": "@jupyter-widgets/controls",
            "_view_module_version": "1.5.0",
            "_view_name": "HTMLView",
            "description": "",
            "description_tooltip": null,
            "layout": "IPY_MODEL_550d2dc3120c40c3806fea1d7325d165",
            "placeholder": "​",
            "style": "IPY_MODEL_29e6f6cd708349d8b5f00d3a90ec30a8",
            "value": "Downloading (…)lve/main/config.json: 100%"
          }
        },
        "7a16f419435641eeac308812414545f4": {
          "model_module": "@jupyter-widgets/controls",
          "model_name": "FloatProgressModel",
          "model_module_version": "1.5.0",
          "state": {
            "_dom_classes": [],
            "_model_module": "@jupyter-widgets/controls",
            "_model_module_version": "1.5.0",
            "_model_name": "FloatProgressModel",
            "_view_count": null,
            "_view_module": "@jupyter-widgets/controls",
            "_view_module_version": "1.5.0",
            "_view_name": "ProgressView",
            "bar_style": "success",
            "description": "",
            "description_tooltip": null,
            "layout": "IPY_MODEL_f41e13f4ff624a24a62d2acb69e1bbd5",
            "max": 760,
            "min": 0,
            "orientation": "horizontal",
            "style": "IPY_MODEL_93daa2f093da44f5a0849762ffcfb9c5",
            "value": 760
          }
        },
        "fbf4e98212a049518cfc35e8dd362842": {
          "model_module": "@jupyter-widgets/controls",
          "model_name": "HTMLModel",
          "model_module_version": "1.5.0",
          "state": {
            "_dom_classes": [],
            "_model_module": "@jupyter-widgets/controls",
            "_model_module_version": "1.5.0",
            "_model_name": "HTMLModel",
            "_view_count": null,
            "_view_module": "@jupyter-widgets/controls",
            "_view_module_version": "1.5.0",
            "_view_name": "HTMLView",
            "description": "",
            "description_tooltip": null,
            "layout": "IPY_MODEL_f7e607fa028648fbb8ec492211e9f440",
            "placeholder": "​",
            "style": "IPY_MODEL_9b7320366eb74d8ea6900cae79ed0a53",
            "value": " 760/760 [00:00&lt;00:00, 35.0kB/s]"
          }
        },
        "6995afa2544a434e8edb80c1d2a94072": {
          "model_module": "@jupyter-widgets/base",
          "model_name": "LayoutModel",
          "model_module_version": "1.2.0",
          "state": {
            "_model_module": "@jupyter-widgets/base",
            "_model_module_version": "1.2.0",
            "_model_name": "LayoutModel",
            "_view_count": null,
            "_view_module": "@jupyter-widgets/base",
            "_view_module_version": "1.2.0",
            "_view_name": "LayoutView",
            "align_content": null,
            "align_items": null,
            "align_self": null,
            "border": null,
            "bottom": null,
            "display": null,
            "flex": null,
            "flex_flow": null,
            "grid_area": null,
            "grid_auto_columns": null,
            "grid_auto_flow": null,
            "grid_auto_rows": null,
            "grid_column": null,
            "grid_gap": null,
            "grid_row": null,
            "grid_template_areas": null,
            "grid_template_columns": null,
            "grid_template_rows": null,
            "height": null,
            "justify_content": null,
            "justify_items": null,
            "left": null,
            "margin": null,
            "max_height": null,
            "max_width": null,
            "min_height": null,
            "min_width": null,
            "object_fit": null,
            "object_position": null,
            "order": null,
            "overflow": null,
            "overflow_x": null,
            "overflow_y": null,
            "padding": null,
            "right": null,
            "top": null,
            "visibility": null,
            "width": null
          }
        },
        "550d2dc3120c40c3806fea1d7325d165": {
          "model_module": "@jupyter-widgets/base",
          "model_name": "LayoutModel",
          "model_module_version": "1.2.0",
          "state": {
            "_model_module": "@jupyter-widgets/base",
            "_model_module_version": "1.2.0",
            "_model_name": "LayoutModel",
            "_view_count": null,
            "_view_module": "@jupyter-widgets/base",
            "_view_module_version": "1.2.0",
            "_view_name": "LayoutView",
            "align_content": null,
            "align_items": null,
            "align_self": null,
            "border": null,
            "bottom": null,
            "display": null,
            "flex": null,
            "flex_flow": null,
            "grid_area": null,
            "grid_auto_columns": null,
            "grid_auto_flow": null,
            "grid_auto_rows": null,
            "grid_column": null,
            "grid_gap": null,
            "grid_row": null,
            "grid_template_areas": null,
            "grid_template_columns": null,
            "grid_template_rows": null,
            "height": null,
            "justify_content": null,
            "justify_items": null,
            "left": null,
            "margin": null,
            "max_height": null,
            "max_width": null,
            "min_height": null,
            "min_width": null,
            "object_fit": null,
            "object_position": null,
            "order": null,
            "overflow": null,
            "overflow_x": null,
            "overflow_y": null,
            "padding": null,
            "right": null,
            "top": null,
            "visibility": null,
            "width": null
          }
        },
        "29e6f6cd708349d8b5f00d3a90ec30a8": {
          "model_module": "@jupyter-widgets/controls",
          "model_name": "DescriptionStyleModel",
          "model_module_version": "1.5.0",
          "state": {
            "_model_module": "@jupyter-widgets/controls",
            "_model_module_version": "1.5.0",
            "_model_name": "DescriptionStyleModel",
            "_view_count": null,
            "_view_module": "@jupyter-widgets/base",
            "_view_module_version": "1.2.0",
            "_view_name": "StyleView",
            "description_width": ""
          }
        },
        "f41e13f4ff624a24a62d2acb69e1bbd5": {
          "model_module": "@jupyter-widgets/base",
          "model_name": "LayoutModel",
          "model_module_version": "1.2.0",
          "state": {
            "_model_module": "@jupyter-widgets/base",
            "_model_module_version": "1.2.0",
            "_model_name": "LayoutModel",
            "_view_count": null,
            "_view_module": "@jupyter-widgets/base",
            "_view_module_version": "1.2.0",
            "_view_name": "LayoutView",
            "align_content": null,
            "align_items": null,
            "align_self": null,
            "border": null,
            "bottom": null,
            "display": null,
            "flex": null,
            "flex_flow": null,
            "grid_area": null,
            "grid_auto_columns": null,
            "grid_auto_flow": null,
            "grid_auto_rows": null,
            "grid_column": null,
            "grid_gap": null,
            "grid_row": null,
            "grid_template_areas": null,
            "grid_template_columns": null,
            "grid_template_rows": null,
            "height": null,
            "justify_content": null,
            "justify_items": null,
            "left": null,
            "margin": null,
            "max_height": null,
            "max_width": null,
            "min_height": null,
            "min_width": null,
            "object_fit": null,
            "object_position": null,
            "order": null,
            "overflow": null,
            "overflow_x": null,
            "overflow_y": null,
            "padding": null,
            "right": null,
            "top": null,
            "visibility": null,
            "width": null
          }
        },
        "93daa2f093da44f5a0849762ffcfb9c5": {
          "model_module": "@jupyter-widgets/controls",
          "model_name": "ProgressStyleModel",
          "model_module_version": "1.5.0",
          "state": {
            "_model_module": "@jupyter-widgets/controls",
            "_model_module_version": "1.5.0",
            "_model_name": "ProgressStyleModel",
            "_view_count": null,
            "_view_module": "@jupyter-widgets/base",
            "_view_module_version": "1.2.0",
            "_view_name": "StyleView",
            "bar_color": null,
            "description_width": ""
          }
        },
        "f7e607fa028648fbb8ec492211e9f440": {
          "model_module": "@jupyter-widgets/base",
          "model_name": "LayoutModel",
          "model_module_version": "1.2.0",
          "state": {
            "_model_module": "@jupyter-widgets/base",
            "_model_module_version": "1.2.0",
            "_model_name": "LayoutModel",
            "_view_count": null,
            "_view_module": "@jupyter-widgets/base",
            "_view_module_version": "1.2.0",
            "_view_name": "LayoutView",
            "align_content": null,
            "align_items": null,
            "align_self": null,
            "border": null,
            "bottom": null,
            "display": null,
            "flex": null,
            "flex_flow": null,
            "grid_area": null,
            "grid_auto_columns": null,
            "grid_auto_flow": null,
            "grid_auto_rows": null,
            "grid_column": null,
            "grid_gap": null,
            "grid_row": null,
            "grid_template_areas": null,
            "grid_template_columns": null,
            "grid_template_rows": null,
            "height": null,
            "justify_content": null,
            "justify_items": null,
            "left": null,
            "margin": null,
            "max_height": null,
            "max_width": null,
            "min_height": null,
            "min_width": null,
            "object_fit": null,
            "object_position": null,
            "order": null,
            "overflow": null,
            "overflow_x": null,
            "overflow_y": null,
            "padding": null,
            "right": null,
            "top": null,
            "visibility": null,
            "width": null
          }
        },
        "9b7320366eb74d8ea6900cae79ed0a53": {
          "model_module": "@jupyter-widgets/controls",
          "model_name": "DescriptionStyleModel",
          "model_module_version": "1.5.0",
          "state": {
            "_model_module": "@jupyter-widgets/controls",
            "_model_module_version": "1.5.0",
            "_model_name": "DescriptionStyleModel",
            "_view_count": null,
            "_view_module": "@jupyter-widgets/base",
            "_view_module_version": "1.2.0",
            "_view_name": "StyleView",
            "description_width": ""
          }
        },
        "511d424a61134628958d4d96788f7aef": {
          "model_module": "@jupyter-widgets/controls",
          "model_name": "HBoxModel",
          "model_module_version": "1.5.0",
          "state": {
            "_dom_classes": [],
            "_model_module": "@jupyter-widgets/controls",
            "_model_module_version": "1.5.0",
            "_model_name": "HBoxModel",
            "_view_count": null,
            "_view_module": "@jupyter-widgets/controls",
            "_view_module_version": "1.5.0",
            "_view_name": "HBoxView",
            "box_style": "",
            "children": [
              "IPY_MODEL_cb644659d14a4a7b8500fdecd4d51015",
              "IPY_MODEL_93a512625e1a4d5a989f97174a6c89e0",
              "IPY_MODEL_871d9e329f054ba080d70a7d6ae7aed3"
            ],
            "layout": "IPY_MODEL_f46117c9f4bb41489a5027b9d2d58d95"
          }
        },
        "cb644659d14a4a7b8500fdecd4d51015": {
          "model_module": "@jupyter-widgets/controls",
          "model_name": "HTMLModel",
          "model_module_version": "1.5.0",
          "state": {
            "_dom_classes": [],
            "_model_module": "@jupyter-widgets/controls",
            "_model_module_version": "1.5.0",
            "_model_name": "HTMLModel",
            "_view_count": null,
            "_view_module": "@jupyter-widgets/controls",
            "_view_module_version": "1.5.0",
            "_view_name": "HTMLView",
            "description": "",
            "description_tooltip": null,
            "layout": "IPY_MODEL_d6662e26184240f6a1e3ab9e8dffb86c",
            "placeholder": "​",
            "style": "IPY_MODEL_092a0e9d0bd848f48f30e0f5273869fa",
            "value": "Downloading pytorch_model.bin: 100%"
          }
        },
        "93a512625e1a4d5a989f97174a6c89e0": {
          "model_module": "@jupyter-widgets/controls",
          "model_name": "FloatProgressModel",
          "model_module_version": "1.5.0",
          "state": {
            "_dom_classes": [],
            "_model_module": "@jupyter-widgets/controls",
            "_model_module_version": "1.5.0",
            "_model_name": "FloatProgressModel",
            "_view_count": null,
            "_view_module": "@jupyter-widgets/controls",
            "_view_module_version": "1.5.0",
            "_view_name": "ProgressView",
            "bar_style": "success",
            "description": "",
            "description_tooltip": null,
            "layout": "IPY_MODEL_057589631223482094360f148e81ceb3",
            "max": 467042463,
            "min": 0,
            "orientation": "horizontal",
            "style": "IPY_MODEL_c271cbd3fcc341db8c1f63ab18f1b316",
            "value": 467042463
          }
        },
        "871d9e329f054ba080d70a7d6ae7aed3": {
          "model_module": "@jupyter-widgets/controls",
          "model_name": "HTMLModel",
          "model_module_version": "1.5.0",
          "state": {
            "_dom_classes": [],
            "_model_module": "@jupyter-widgets/controls",
            "_model_module_version": "1.5.0",
            "_model_name": "HTMLModel",
            "_view_count": null,
            "_view_module": "@jupyter-widgets/controls",
            "_view_module_version": "1.5.0",
            "_view_name": "HTMLView",
            "description": "",
            "description_tooltip": null,
            "layout": "IPY_MODEL_876c30ba9ad04ef5977ae0616c65b78e",
            "placeholder": "​",
            "style": "IPY_MODEL_000b87b0636f41cfbbb78078371735b8",
            "value": " 467M/467M [00:04&lt;00:00, 123MB/s]"
          }
        },
        "f46117c9f4bb41489a5027b9d2d58d95": {
          "model_module": "@jupyter-widgets/base",
          "model_name": "LayoutModel",
          "model_module_version": "1.2.0",
          "state": {
            "_model_module": "@jupyter-widgets/base",
            "_model_module_version": "1.2.0",
            "_model_name": "LayoutModel",
            "_view_count": null,
            "_view_module": "@jupyter-widgets/base",
            "_view_module_version": "1.2.0",
            "_view_name": "LayoutView",
            "align_content": null,
            "align_items": null,
            "align_self": null,
            "border": null,
            "bottom": null,
            "display": null,
            "flex": null,
            "flex_flow": null,
            "grid_area": null,
            "grid_auto_columns": null,
            "grid_auto_flow": null,
            "grid_auto_rows": null,
            "grid_column": null,
            "grid_gap": null,
            "grid_row": null,
            "grid_template_areas": null,
            "grid_template_columns": null,
            "grid_template_rows": null,
            "height": null,
            "justify_content": null,
            "justify_items": null,
            "left": null,
            "margin": null,
            "max_height": null,
            "max_width": null,
            "min_height": null,
            "min_width": null,
            "object_fit": null,
            "object_position": null,
            "order": null,
            "overflow": null,
            "overflow_x": null,
            "overflow_y": null,
            "padding": null,
            "right": null,
            "top": null,
            "visibility": null,
            "width": null
          }
        },
        "d6662e26184240f6a1e3ab9e8dffb86c": {
          "model_module": "@jupyter-widgets/base",
          "model_name": "LayoutModel",
          "model_module_version": "1.2.0",
          "state": {
            "_model_module": "@jupyter-widgets/base",
            "_model_module_version": "1.2.0",
            "_model_name": "LayoutModel",
            "_view_count": null,
            "_view_module": "@jupyter-widgets/base",
            "_view_module_version": "1.2.0",
            "_view_name": "LayoutView",
            "align_content": null,
            "align_items": null,
            "align_self": null,
            "border": null,
            "bottom": null,
            "display": null,
            "flex": null,
            "flex_flow": null,
            "grid_area": null,
            "grid_auto_columns": null,
            "grid_auto_flow": null,
            "grid_auto_rows": null,
            "grid_column": null,
            "grid_gap": null,
            "grid_row": null,
            "grid_template_areas": null,
            "grid_template_columns": null,
            "grid_template_rows": null,
            "height": null,
            "justify_content": null,
            "justify_items": null,
            "left": null,
            "margin": null,
            "max_height": null,
            "max_width": null,
            "min_height": null,
            "min_width": null,
            "object_fit": null,
            "object_position": null,
            "order": null,
            "overflow": null,
            "overflow_x": null,
            "overflow_y": null,
            "padding": null,
            "right": null,
            "top": null,
            "visibility": null,
            "width": null
          }
        },
        "092a0e9d0bd848f48f30e0f5273869fa": {
          "model_module": "@jupyter-widgets/controls",
          "model_name": "DescriptionStyleModel",
          "model_module_version": "1.5.0",
          "state": {
            "_model_module": "@jupyter-widgets/controls",
            "_model_module_version": "1.5.0",
            "_model_name": "DescriptionStyleModel",
            "_view_count": null,
            "_view_module": "@jupyter-widgets/base",
            "_view_module_version": "1.2.0",
            "_view_name": "StyleView",
            "description_width": ""
          }
        },
        "057589631223482094360f148e81ceb3": {
          "model_module": "@jupyter-widgets/base",
          "model_name": "LayoutModel",
          "model_module_version": "1.2.0",
          "state": {
            "_model_module": "@jupyter-widgets/base",
            "_model_module_version": "1.2.0",
            "_model_name": "LayoutModel",
            "_view_count": null,
            "_view_module": "@jupyter-widgets/base",
            "_view_module_version": "1.2.0",
            "_view_name": "LayoutView",
            "align_content": null,
            "align_items": null,
            "align_self": null,
            "border": null,
            "bottom": null,
            "display": null,
            "flex": null,
            "flex_flow": null,
            "grid_area": null,
            "grid_auto_columns": null,
            "grid_auto_flow": null,
            "grid_auto_rows": null,
            "grid_column": null,
            "grid_gap": null,
            "grid_row": null,
            "grid_template_areas": null,
            "grid_template_columns": null,
            "grid_template_rows": null,
            "height": null,
            "justify_content": null,
            "justify_items": null,
            "left": null,
            "margin": null,
            "max_height": null,
            "max_width": null,
            "min_height": null,
            "min_width": null,
            "object_fit": null,
            "object_position": null,
            "order": null,
            "overflow": null,
            "overflow_x": null,
            "overflow_y": null,
            "padding": null,
            "right": null,
            "top": null,
            "visibility": null,
            "width": null
          }
        },
        "c271cbd3fcc341db8c1f63ab18f1b316": {
          "model_module": "@jupyter-widgets/controls",
          "model_name": "ProgressStyleModel",
          "model_module_version": "1.5.0",
          "state": {
            "_model_module": "@jupyter-widgets/controls",
            "_model_module_version": "1.5.0",
            "_model_name": "ProgressStyleModel",
            "_view_count": null,
            "_view_module": "@jupyter-widgets/base",
            "_view_module_version": "1.2.0",
            "_view_name": "StyleView",
            "bar_color": null,
            "description_width": ""
          }
        },
        "876c30ba9ad04ef5977ae0616c65b78e": {
          "model_module": "@jupyter-widgets/base",
          "model_name": "LayoutModel",
          "model_module_version": "1.2.0",
          "state": {
            "_model_module": "@jupyter-widgets/base",
            "_model_module_version": "1.2.0",
            "_model_name": "LayoutModel",
            "_view_count": null,
            "_view_module": "@jupyter-widgets/base",
            "_view_module_version": "1.2.0",
            "_view_name": "LayoutView",
            "align_content": null,
            "align_items": null,
            "align_self": null,
            "border": null,
            "bottom": null,
            "display": null,
            "flex": null,
            "flex_flow": null,
            "grid_area": null,
            "grid_auto_columns": null,
            "grid_auto_flow": null,
            "grid_auto_rows": null,
            "grid_column": null,
            "grid_gap": null,
            "grid_row": null,
            "grid_template_areas": null,
            "grid_template_columns": null,
            "grid_template_rows": null,
            "height": null,
            "justify_content": null,
            "justify_items": null,
            "left": null,
            "margin": null,
            "max_height": null,
            "max_width": null,
            "min_height": null,
            "min_width": null,
            "object_fit": null,
            "object_position": null,
            "order": null,
            "overflow": null,
            "overflow_x": null,
            "overflow_y": null,
            "padding": null,
            "right": null,
            "top": null,
            "visibility": null,
            "width": null
          }
        },
        "000b87b0636f41cfbbb78078371735b8": {
          "model_module": "@jupyter-widgets/controls",
          "model_name": "DescriptionStyleModel",
          "model_module_version": "1.5.0",
          "state": {
            "_model_module": "@jupyter-widgets/controls",
            "_model_module_version": "1.5.0",
            "_model_name": "DescriptionStyleModel",
            "_view_count": null,
            "_view_module": "@jupyter-widgets/base",
            "_view_module_version": "1.2.0",
            "_view_name": "StyleView",
            "description_width": ""
          }
        },
        "5126a24694014a708eb2d68c6419189c": {
          "model_module": "@jupyter-widgets/controls",
          "model_name": "HBoxModel",
          "model_module_version": "1.5.0",
          "state": {
            "_dom_classes": [],
            "_model_module": "@jupyter-widgets/controls",
            "_model_module_version": "1.5.0",
            "_model_name": "HBoxModel",
            "_view_count": null,
            "_view_module": "@jupyter-widgets/controls",
            "_view_module_version": "1.5.0",
            "_view_name": "HBoxView",
            "box_style": "",
            "children": [
              "IPY_MODEL_bc619ea6f2264a93bcda8d42fda20799",
              "IPY_MODEL_cae95fc3707640e68df575db5d445f5a",
              "IPY_MODEL_f116a9b9b0ec468a941ec352da67b7f2"
            ],
            "layout": "IPY_MODEL_e534c86d78eb4512a12f9eee420a0593"
          }
        },
        "bc619ea6f2264a93bcda8d42fda20799": {
          "model_module": "@jupyter-widgets/controls",
          "model_name": "HTMLModel",
          "model_module_version": "1.5.0",
          "state": {
            "_dom_classes": [],
            "_model_module": "@jupyter-widgets/controls",
            "_model_module_version": "1.5.0",
            "_model_name": "HTMLModel",
            "_view_count": null,
            "_view_module": "@jupyter-widgets/controls",
            "_view_module_version": "1.5.0",
            "_view_name": "HTMLView",
            "description": "",
            "description_tooltip": null,
            "layout": "IPY_MODEL_0e7f35c0879d4107a19cd892cb0c8752",
            "placeholder": "​",
            "style": "IPY_MODEL_32a20958f87349c2901f80ffcc0e3892",
            "value": "Downloading (…)neration_config.json: 100%"
          }
        },
        "cae95fc3707640e68df575db5d445f5a": {
          "model_module": "@jupyter-widgets/controls",
          "model_name": "FloatProgressModel",
          "model_module_version": "1.5.0",
          "state": {
            "_dom_classes": [],
            "_model_module": "@jupyter-widgets/controls",
            "_model_module_version": "1.5.0",
            "_model_name": "FloatProgressModel",
            "_view_count": null,
            "_view_module": "@jupyter-widgets/controls",
            "_view_module_version": "1.5.0",
            "_view_name": "ProgressView",
            "bar_style": "success",
            "description": "",
            "description_tooltip": null,
            "layout": "IPY_MODEL_97d72cd869b24319beb25fac917cbf19",
            "max": 137,
            "min": 0,
            "orientation": "horizontal",
            "style": "IPY_MODEL_bcdca3e152a54102bf1c13858960e8fd",
            "value": 137
          }
        },
        "f116a9b9b0ec468a941ec352da67b7f2": {
          "model_module": "@jupyter-widgets/controls",
          "model_name": "HTMLModel",
          "model_module_version": "1.5.0",
          "state": {
            "_dom_classes": [],
            "_model_module": "@jupyter-widgets/controls",
            "_model_module_version": "1.5.0",
            "_model_name": "HTMLModel",
            "_view_count": null,
            "_view_module": "@jupyter-widgets/controls",
            "_view_module_version": "1.5.0",
            "_view_name": "HTMLView",
            "description": "",
            "description_tooltip": null,
            "layout": "IPY_MODEL_d5bf69d2b1c14f06a1c0368ecdb7fd9b",
            "placeholder": "​",
            "style": "IPY_MODEL_ef5bd67b6dba4b40990fe057b59910a4",
            "value": " 137/137 [00:00&lt;00:00, 4.49kB/s]"
          }
        },
        "e534c86d78eb4512a12f9eee420a0593": {
          "model_module": "@jupyter-widgets/base",
          "model_name": "LayoutModel",
          "model_module_version": "1.2.0",
          "state": {
            "_model_module": "@jupyter-widgets/base",
            "_model_module_version": "1.2.0",
            "_model_name": "LayoutModel",
            "_view_count": null,
            "_view_module": "@jupyter-widgets/base",
            "_view_module_version": "1.2.0",
            "_view_name": "LayoutView",
            "align_content": null,
            "align_items": null,
            "align_self": null,
            "border": null,
            "bottom": null,
            "display": null,
            "flex": null,
            "flex_flow": null,
            "grid_area": null,
            "grid_auto_columns": null,
            "grid_auto_flow": null,
            "grid_auto_rows": null,
            "grid_column": null,
            "grid_gap": null,
            "grid_row": null,
            "grid_template_areas": null,
            "grid_template_columns": null,
            "grid_template_rows": null,
            "height": null,
            "justify_content": null,
            "justify_items": null,
            "left": null,
            "margin": null,
            "max_height": null,
            "max_width": null,
            "min_height": null,
            "min_width": null,
            "object_fit": null,
            "object_position": null,
            "order": null,
            "overflow": null,
            "overflow_x": null,
            "overflow_y": null,
            "padding": null,
            "right": null,
            "top": null,
            "visibility": null,
            "width": null
          }
        },
        "0e7f35c0879d4107a19cd892cb0c8752": {
          "model_module": "@jupyter-widgets/base",
          "model_name": "LayoutModel",
          "model_module_version": "1.2.0",
          "state": {
            "_model_module": "@jupyter-widgets/base",
            "_model_module_version": "1.2.0",
            "_model_name": "LayoutModel",
            "_view_count": null,
            "_view_module": "@jupyter-widgets/base",
            "_view_module_version": "1.2.0",
            "_view_name": "LayoutView",
            "align_content": null,
            "align_items": null,
            "align_self": null,
            "border": null,
            "bottom": null,
            "display": null,
            "flex": null,
            "flex_flow": null,
            "grid_area": null,
            "grid_auto_columns": null,
            "grid_auto_flow": null,
            "grid_auto_rows": null,
            "grid_column": null,
            "grid_gap": null,
            "grid_row": null,
            "grid_template_areas": null,
            "grid_template_columns": null,
            "grid_template_rows": null,
            "height": null,
            "justify_content": null,
            "justify_items": null,
            "left": null,
            "margin": null,
            "max_height": null,
            "max_width": null,
            "min_height": null,
            "min_width": null,
            "object_fit": null,
            "object_position": null,
            "order": null,
            "overflow": null,
            "overflow_x": null,
            "overflow_y": null,
            "padding": null,
            "right": null,
            "top": null,
            "visibility": null,
            "width": null
          }
        },
        "32a20958f87349c2901f80ffcc0e3892": {
          "model_module": "@jupyter-widgets/controls",
          "model_name": "DescriptionStyleModel",
          "model_module_version": "1.5.0",
          "state": {
            "_model_module": "@jupyter-widgets/controls",
            "_model_module_version": "1.5.0",
            "_model_name": "DescriptionStyleModel",
            "_view_count": null,
            "_view_module": "@jupyter-widgets/base",
            "_view_module_version": "1.2.0",
            "_view_name": "StyleView",
            "description_width": ""
          }
        },
        "97d72cd869b24319beb25fac917cbf19": {
          "model_module": "@jupyter-widgets/base",
          "model_name": "LayoutModel",
          "model_module_version": "1.2.0",
          "state": {
            "_model_module": "@jupyter-widgets/base",
            "_model_module_version": "1.2.0",
            "_model_name": "LayoutModel",
            "_view_count": null,
            "_view_module": "@jupyter-widgets/base",
            "_view_module_version": "1.2.0",
            "_view_name": "LayoutView",
            "align_content": null,
            "align_items": null,
            "align_self": null,
            "border": null,
            "bottom": null,
            "display": null,
            "flex": null,
            "flex_flow": null,
            "grid_area": null,
            "grid_auto_columns": null,
            "grid_auto_flow": null,
            "grid_auto_rows": null,
            "grid_column": null,
            "grid_gap": null,
            "grid_row": null,
            "grid_template_areas": null,
            "grid_template_columns": null,
            "grid_template_rows": null,
            "height": null,
            "justify_content": null,
            "justify_items": null,
            "left": null,
            "margin": null,
            "max_height": null,
            "max_width": null,
            "min_height": null,
            "min_width": null,
            "object_fit": null,
            "object_position": null,
            "order": null,
            "overflow": null,
            "overflow_x": null,
            "overflow_y": null,
            "padding": null,
            "right": null,
            "top": null,
            "visibility": null,
            "width": null
          }
        },
        "bcdca3e152a54102bf1c13858960e8fd": {
          "model_module": "@jupyter-widgets/controls",
          "model_name": "ProgressStyleModel",
          "model_module_version": "1.5.0",
          "state": {
            "_model_module": "@jupyter-widgets/controls",
            "_model_module_version": "1.5.0",
            "_model_name": "ProgressStyleModel",
            "_view_count": null,
            "_view_module": "@jupyter-widgets/base",
            "_view_module_version": "1.2.0",
            "_view_name": "StyleView",
            "bar_color": null,
            "description_width": ""
          }
        },
        "d5bf69d2b1c14f06a1c0368ecdb7fd9b": {
          "model_module": "@jupyter-widgets/base",
          "model_name": "LayoutModel",
          "model_module_version": "1.2.0",
          "state": {
            "_model_module": "@jupyter-widgets/base",
            "_model_module_version": "1.2.0",
            "_model_name": "LayoutModel",
            "_view_count": null,
            "_view_module": "@jupyter-widgets/base",
            "_view_module_version": "1.2.0",
            "_view_name": "LayoutView",
            "align_content": null,
            "align_items": null,
            "align_self": null,
            "border": null,
            "bottom": null,
            "display": null,
            "flex": null,
            "flex_flow": null,
            "grid_area": null,
            "grid_auto_columns": null,
            "grid_auto_flow": null,
            "grid_auto_rows": null,
            "grid_column": null,
            "grid_gap": null,
            "grid_row": null,
            "grid_template_areas": null,
            "grid_template_columns": null,
            "grid_template_rows": null,
            "height": null,
            "justify_content": null,
            "justify_items": null,
            "left": null,
            "margin": null,
            "max_height": null,
            "max_width": null,
            "min_height": null,
            "min_width": null,
            "object_fit": null,
            "object_position": null,
            "order": null,
            "overflow": null,
            "overflow_x": null,
            "overflow_y": null,
            "padding": null,
            "right": null,
            "top": null,
            "visibility": null,
            "width": null
          }
        },
        "ef5bd67b6dba4b40990fe057b59910a4": {
          "model_module": "@jupyter-widgets/controls",
          "model_name": "DescriptionStyleModel",
          "model_module_version": "1.5.0",
          "state": {
            "_model_module": "@jupyter-widgets/controls",
            "_model_module_version": "1.5.0",
            "_model_name": "DescriptionStyleModel",
            "_view_count": null,
            "_view_module": "@jupyter-widgets/base",
            "_view_module_version": "1.2.0",
            "_view_name": "StyleView",
            "description_width": ""
          }
        },
        "5bc7254db99043b9a8a6eddfb82fd8c5": {
          "model_module": "@jupyter-widgets/controls",
          "model_name": "HBoxModel",
          "model_module_version": "1.5.0",
          "state": {
            "_dom_classes": [],
            "_model_module": "@jupyter-widgets/controls",
            "_model_module_version": "1.5.0",
            "_model_name": "HBoxModel",
            "_view_count": null,
            "_view_module": "@jupyter-widgets/controls",
            "_view_module_version": "1.5.0",
            "_view_name": "HBoxView",
            "box_style": "",
            "children": [
              "IPY_MODEL_be5286f85be3487593c0c09852c278ef",
              "IPY_MODEL_2d02b6cb2d7348b1b0dde9f4d8c1ed79",
              "IPY_MODEL_77485e6acfbc4934bf0ef4636d64c15b"
            ],
            "layout": "IPY_MODEL_bc90047d44274888b4d1711d63770836"
          }
        },
        "be5286f85be3487593c0c09852c278ef": {
          "model_module": "@jupyter-widgets/controls",
          "model_name": "HTMLModel",
          "model_module_version": "1.5.0",
          "state": {
            "_dom_classes": [],
            "_model_module": "@jupyter-widgets/controls",
            "_model_module_version": "1.5.0",
            "_model_name": "HTMLModel",
            "_view_count": null,
            "_view_module": "@jupyter-widgets/controls",
            "_view_module_version": "1.5.0",
            "_view_name": "HTMLView",
            "description": "",
            "description_tooltip": null,
            "layout": "IPY_MODEL_abe5896b489b4c51adea2ababccb0bdc",
            "placeholder": "​",
            "style": "IPY_MODEL_e37041ed0f8a45a38530307de3b69222",
            "value": "Downloading (…)ve/main/spiece.model: 100%"
          }
        },
        "2d02b6cb2d7348b1b0dde9f4d8c1ed79": {
          "model_module": "@jupyter-widgets/controls",
          "model_name": "FloatProgressModel",
          "model_module_version": "1.5.0",
          "state": {
            "_dom_classes": [],
            "_model_module": "@jupyter-widgets/controls",
            "_model_module_version": "1.5.0",
            "_model_name": "FloatProgressModel",
            "_view_count": null,
            "_view_module": "@jupyter-widgets/controls",
            "_view_module_version": "1.5.0",
            "_view_name": "ProgressView",
            "bar_style": "success",
            "description": "",
            "description_tooltip": null,
            "layout": "IPY_MODEL_f7cbf7da85414cf4bc8ab0c6b949574a",
            "max": 798011,
            "min": 0,
            "orientation": "horizontal",
            "style": "IPY_MODEL_1e05f0153c604f5d955d91225da0482a",
            "value": 798011
          }
        },
        "77485e6acfbc4934bf0ef4636d64c15b": {
          "model_module": "@jupyter-widgets/controls",
          "model_name": "HTMLModel",
          "model_module_version": "1.5.0",
          "state": {
            "_dom_classes": [],
            "_model_module": "@jupyter-widgets/controls",
            "_model_module_version": "1.5.0",
            "_model_name": "HTMLModel",
            "_view_count": null,
            "_view_module": "@jupyter-widgets/controls",
            "_view_module_version": "1.5.0",
            "_view_name": "HTMLView",
            "description": "",
            "description_tooltip": null,
            "layout": "IPY_MODEL_20b6048b47e64d6788e0ee9098f14ab9",
            "placeholder": "​",
            "style": "IPY_MODEL_9e03edd8d5b842268fdb36277ff4c91d",
            "value": " 798k/798k [00:00&lt;00:00, 7.07MB/s]"
          }
        },
        "bc90047d44274888b4d1711d63770836": {
          "model_module": "@jupyter-widgets/base",
          "model_name": "LayoutModel",
          "model_module_version": "1.2.0",
          "state": {
            "_model_module": "@jupyter-widgets/base",
            "_model_module_version": "1.2.0",
            "_model_name": "LayoutModel",
            "_view_count": null,
            "_view_module": "@jupyter-widgets/base",
            "_view_module_version": "1.2.0",
            "_view_name": "LayoutView",
            "align_content": null,
            "align_items": null,
            "align_self": null,
            "border": null,
            "bottom": null,
            "display": null,
            "flex": null,
            "flex_flow": null,
            "grid_area": null,
            "grid_auto_columns": null,
            "grid_auto_flow": null,
            "grid_auto_rows": null,
            "grid_column": null,
            "grid_gap": null,
            "grid_row": null,
            "grid_template_areas": null,
            "grid_template_columns": null,
            "grid_template_rows": null,
            "height": null,
            "justify_content": null,
            "justify_items": null,
            "left": null,
            "margin": null,
            "max_height": null,
            "max_width": null,
            "min_height": null,
            "min_width": null,
            "object_fit": null,
            "object_position": null,
            "order": null,
            "overflow": null,
            "overflow_x": null,
            "overflow_y": null,
            "padding": null,
            "right": null,
            "top": null,
            "visibility": null,
            "width": null
          }
        },
        "abe5896b489b4c51adea2ababccb0bdc": {
          "model_module": "@jupyter-widgets/base",
          "model_name": "LayoutModel",
          "model_module_version": "1.2.0",
          "state": {
            "_model_module": "@jupyter-widgets/base",
            "_model_module_version": "1.2.0",
            "_model_name": "LayoutModel",
            "_view_count": null,
            "_view_module": "@jupyter-widgets/base",
            "_view_module_version": "1.2.0",
            "_view_name": "LayoutView",
            "align_content": null,
            "align_items": null,
            "align_self": null,
            "border": null,
            "bottom": null,
            "display": null,
            "flex": null,
            "flex_flow": null,
            "grid_area": null,
            "grid_auto_columns": null,
            "grid_auto_flow": null,
            "grid_auto_rows": null,
            "grid_column": null,
            "grid_gap": null,
            "grid_row": null,
            "grid_template_areas": null,
            "grid_template_columns": null,
            "grid_template_rows": null,
            "height": null,
            "justify_content": null,
            "justify_items": null,
            "left": null,
            "margin": null,
            "max_height": null,
            "max_width": null,
            "min_height": null,
            "min_width": null,
            "object_fit": null,
            "object_position": null,
            "order": null,
            "overflow": null,
            "overflow_x": null,
            "overflow_y": null,
            "padding": null,
            "right": null,
            "top": null,
            "visibility": null,
            "width": null
          }
        },
        "e37041ed0f8a45a38530307de3b69222": {
          "model_module": "@jupyter-widgets/controls",
          "model_name": "DescriptionStyleModel",
          "model_module_version": "1.5.0",
          "state": {
            "_model_module": "@jupyter-widgets/controls",
            "_model_module_version": "1.5.0",
            "_model_name": "DescriptionStyleModel",
            "_view_count": null,
            "_view_module": "@jupyter-widgets/base",
            "_view_module_version": "1.2.0",
            "_view_name": "StyleView",
            "description_width": ""
          }
        },
        "f7cbf7da85414cf4bc8ab0c6b949574a": {
          "model_module": "@jupyter-widgets/base",
          "model_name": "LayoutModel",
          "model_module_version": "1.2.0",
          "state": {
            "_model_module": "@jupyter-widgets/base",
            "_model_module_version": "1.2.0",
            "_model_name": "LayoutModel",
            "_view_count": null,
            "_view_module": "@jupyter-widgets/base",
            "_view_module_version": "1.2.0",
            "_view_name": "LayoutView",
            "align_content": null,
            "align_items": null,
            "align_self": null,
            "border": null,
            "bottom": null,
            "display": null,
            "flex": null,
            "flex_flow": null,
            "grid_area": null,
            "grid_auto_columns": null,
            "grid_auto_flow": null,
            "grid_auto_rows": null,
            "grid_column": null,
            "grid_gap": null,
            "grid_row": null,
            "grid_template_areas": null,
            "grid_template_columns": null,
            "grid_template_rows": null,
            "height": null,
            "justify_content": null,
            "justify_items": null,
            "left": null,
            "margin": null,
            "max_height": null,
            "max_width": null,
            "min_height": null,
            "min_width": null,
            "object_fit": null,
            "object_position": null,
            "order": null,
            "overflow": null,
            "overflow_x": null,
            "overflow_y": null,
            "padding": null,
            "right": null,
            "top": null,
            "visibility": null,
            "width": null
          }
        },
        "1e05f0153c604f5d955d91225da0482a": {
          "model_module": "@jupyter-widgets/controls",
          "model_name": "ProgressStyleModel",
          "model_module_version": "1.5.0",
          "state": {
            "_model_module": "@jupyter-widgets/controls",
            "_model_module_version": "1.5.0",
            "_model_name": "ProgressStyleModel",
            "_view_count": null,
            "_view_module": "@jupyter-widgets/base",
            "_view_module_version": "1.2.0",
            "_view_name": "StyleView",
            "bar_color": null,
            "description_width": ""
          }
        },
        "20b6048b47e64d6788e0ee9098f14ab9": {
          "model_module": "@jupyter-widgets/base",
          "model_name": "LayoutModel",
          "model_module_version": "1.2.0",
          "state": {
            "_model_module": "@jupyter-widgets/base",
            "_model_module_version": "1.2.0",
            "_model_name": "LayoutModel",
            "_view_count": null,
            "_view_module": "@jupyter-widgets/base",
            "_view_module_version": "1.2.0",
            "_view_name": "LayoutView",
            "align_content": null,
            "align_items": null,
            "align_self": null,
            "border": null,
            "bottom": null,
            "display": null,
            "flex": null,
            "flex_flow": null,
            "grid_area": null,
            "grid_auto_columns": null,
            "grid_auto_flow": null,
            "grid_auto_rows": null,
            "grid_column": null,
            "grid_gap": null,
            "grid_row": null,
            "grid_template_areas": null,
            "grid_template_columns": null,
            "grid_template_rows": null,
            "height": null,
            "justify_content": null,
            "justify_items": null,
            "left": null,
            "margin": null,
            "max_height": null,
            "max_width": null,
            "min_height": null,
            "min_width": null,
            "object_fit": null,
            "object_position": null,
            "order": null,
            "overflow": null,
            "overflow_x": null,
            "overflow_y": null,
            "padding": null,
            "right": null,
            "top": null,
            "visibility": null,
            "width": null
          }
        },
        "9e03edd8d5b842268fdb36277ff4c91d": {
          "model_module": "@jupyter-widgets/controls",
          "model_name": "DescriptionStyleModel",
          "model_module_version": "1.5.0",
          "state": {
            "_model_module": "@jupyter-widgets/controls",
            "_model_module_version": "1.5.0",
            "_model_name": "DescriptionStyleModel",
            "_view_count": null,
            "_view_module": "@jupyter-widgets/base",
            "_view_module_version": "1.2.0",
            "_view_name": "StyleView",
            "description_width": ""
          }
        },
        "011e7fd2a914443d8814b6a7abb1d241": {
          "model_module": "@jupyter-widgets/controls",
          "model_name": "HBoxModel",
          "model_module_version": "1.5.0",
          "state": {
            "_dom_classes": [],
            "_model_module": "@jupyter-widgets/controls",
            "_model_module_version": "1.5.0",
            "_model_name": "HBoxModel",
            "_view_count": null,
            "_view_module": "@jupyter-widgets/controls",
            "_view_module_version": "1.5.0",
            "_view_name": "HBoxView",
            "box_style": "",
            "children": [
              "IPY_MODEL_6b01691a1a29445780f51ce35fa54900",
              "IPY_MODEL_4f568074f76a40d88f6a39f82633f928",
              "IPY_MODEL_5330c85348ee44af866e8780243a9c72"
            ],
            "layout": "IPY_MODEL_5f90d8cb74bb41dba990486b706d86c7"
          }
        },
        "6b01691a1a29445780f51ce35fa54900": {
          "model_module": "@jupyter-widgets/controls",
          "model_name": "HTMLModel",
          "model_module_version": "1.5.0",
          "state": {
            "_dom_classes": [],
            "_model_module": "@jupyter-widgets/controls",
            "_model_module_version": "1.5.0",
            "_model_name": "HTMLModel",
            "_view_count": null,
            "_view_module": "@jupyter-widgets/controls",
            "_view_module_version": "1.5.0",
            "_view_name": "HTMLView",
            "description": "",
            "description_tooltip": null,
            "layout": "IPY_MODEL_c8603084c6414ddcb7ed3db4cbe3a069",
            "placeholder": "​",
            "style": "IPY_MODEL_f1b87c90ae4a4d06983c7f85cf05392f",
            "value": "Downloading (…)/main/tokenizer.json: 100%"
          }
        },
        "4f568074f76a40d88f6a39f82633f928": {
          "model_module": "@jupyter-widgets/controls",
          "model_name": "FloatProgressModel",
          "model_module_version": "1.5.0",
          "state": {
            "_dom_classes": [],
            "_model_module": "@jupyter-widgets/controls",
            "_model_module_version": "1.5.0",
            "_model_name": "FloatProgressModel",
            "_view_count": null,
            "_view_module": "@jupyter-widgets/controls",
            "_view_module_version": "1.5.0",
            "_view_name": "ProgressView",
            "bar_style": "success",
            "description": "",
            "description_tooltip": null,
            "layout": "IPY_MODEL_4353ea6b206a4da3af729fcae034c290",
            "max": 1382015,
            "min": 0,
            "orientation": "horizontal",
            "style": "IPY_MODEL_96ea830b53b74a049d83b34245f23ad6",
            "value": 1382015
          }
        },
        "5330c85348ee44af866e8780243a9c72": {
          "model_module": "@jupyter-widgets/controls",
          "model_name": "HTMLModel",
          "model_module_version": "1.5.0",
          "state": {
            "_dom_classes": [],
            "_model_module": "@jupyter-widgets/controls",
            "_model_module_version": "1.5.0",
            "_model_name": "HTMLModel",
            "_view_count": null,
            "_view_module": "@jupyter-widgets/controls",
            "_view_module_version": "1.5.0",
            "_view_name": "HTMLView",
            "description": "",
            "description_tooltip": null,
            "layout": "IPY_MODEL_b68240091715472d92fd2548d72e37b6",
            "placeholder": "​",
            "style": "IPY_MODEL_fc536adb27f54e64b2fda15c0d48658c",
            "value": " 1.38M/1.38M [00:00&lt;00:00, 9.81MB/s]"
          }
        },
        "5f90d8cb74bb41dba990486b706d86c7": {
          "model_module": "@jupyter-widgets/base",
          "model_name": "LayoutModel",
          "model_module_version": "1.2.0",
          "state": {
            "_model_module": "@jupyter-widgets/base",
            "_model_module_version": "1.2.0",
            "_model_name": "LayoutModel",
            "_view_count": null,
            "_view_module": "@jupyter-widgets/base",
            "_view_module_version": "1.2.0",
            "_view_name": "LayoutView",
            "align_content": null,
            "align_items": null,
            "align_self": null,
            "border": null,
            "bottom": null,
            "display": null,
            "flex": null,
            "flex_flow": null,
            "grid_area": null,
            "grid_auto_columns": null,
            "grid_auto_flow": null,
            "grid_auto_rows": null,
            "grid_column": null,
            "grid_gap": null,
            "grid_row": null,
            "grid_template_areas": null,
            "grid_template_columns": null,
            "grid_template_rows": null,
            "height": null,
            "justify_content": null,
            "justify_items": null,
            "left": null,
            "margin": null,
            "max_height": null,
            "max_width": null,
            "min_height": null,
            "min_width": null,
            "object_fit": null,
            "object_position": null,
            "order": null,
            "overflow": null,
            "overflow_x": null,
            "overflow_y": null,
            "padding": null,
            "right": null,
            "top": null,
            "visibility": null,
            "width": null
          }
        },
        "c8603084c6414ddcb7ed3db4cbe3a069": {
          "model_module": "@jupyter-widgets/base",
          "model_name": "LayoutModel",
          "model_module_version": "1.2.0",
          "state": {
            "_model_module": "@jupyter-widgets/base",
            "_model_module_version": "1.2.0",
            "_model_name": "LayoutModel",
            "_view_count": null,
            "_view_module": "@jupyter-widgets/base",
            "_view_module_version": "1.2.0",
            "_view_name": "LayoutView",
            "align_content": null,
            "align_items": null,
            "align_self": null,
            "border": null,
            "bottom": null,
            "display": null,
            "flex": null,
            "flex_flow": null,
            "grid_area": null,
            "grid_auto_columns": null,
            "grid_auto_flow": null,
            "grid_auto_rows": null,
            "grid_column": null,
            "grid_gap": null,
            "grid_row": null,
            "grid_template_areas": null,
            "grid_template_columns": null,
            "grid_template_rows": null,
            "height": null,
            "justify_content": null,
            "justify_items": null,
            "left": null,
            "margin": null,
            "max_height": null,
            "max_width": null,
            "min_height": null,
            "min_width": null,
            "object_fit": null,
            "object_position": null,
            "order": null,
            "overflow": null,
            "overflow_x": null,
            "overflow_y": null,
            "padding": null,
            "right": null,
            "top": null,
            "visibility": null,
            "width": null
          }
        },
        "f1b87c90ae4a4d06983c7f85cf05392f": {
          "model_module": "@jupyter-widgets/controls",
          "model_name": "DescriptionStyleModel",
          "model_module_version": "1.5.0",
          "state": {
            "_model_module": "@jupyter-widgets/controls",
            "_model_module_version": "1.5.0",
            "_model_name": "DescriptionStyleModel",
            "_view_count": null,
            "_view_module": "@jupyter-widgets/base",
            "_view_module_version": "1.2.0",
            "_view_name": "StyleView",
            "description_width": ""
          }
        },
        "4353ea6b206a4da3af729fcae034c290": {
          "model_module": "@jupyter-widgets/base",
          "model_name": "LayoutModel",
          "model_module_version": "1.2.0",
          "state": {
            "_model_module": "@jupyter-widgets/base",
            "_model_module_version": "1.2.0",
            "_model_name": "LayoutModel",
            "_view_count": null,
            "_view_module": "@jupyter-widgets/base",
            "_view_module_version": "1.2.0",
            "_view_name": "LayoutView",
            "align_content": null,
            "align_items": null,
            "align_self": null,
            "border": null,
            "bottom": null,
            "display": null,
            "flex": null,
            "flex_flow": null,
            "grid_area": null,
            "grid_auto_columns": null,
            "grid_auto_flow": null,
            "grid_auto_rows": null,
            "grid_column": null,
            "grid_gap": null,
            "grid_row": null,
            "grid_template_areas": null,
            "grid_template_columns": null,
            "grid_template_rows": null,
            "height": null,
            "justify_content": null,
            "justify_items": null,
            "left": null,
            "margin": null,
            "max_height": null,
            "max_width": null,
            "min_height": null,
            "min_width": null,
            "object_fit": null,
            "object_position": null,
            "order": null,
            "overflow": null,
            "overflow_x": null,
            "overflow_y": null,
            "padding": null,
            "right": null,
            "top": null,
            "visibility": null,
            "width": null
          }
        },
        "96ea830b53b74a049d83b34245f23ad6": {
          "model_module": "@jupyter-widgets/controls",
          "model_name": "ProgressStyleModel",
          "model_module_version": "1.5.0",
          "state": {
            "_model_module": "@jupyter-widgets/controls",
            "_model_module_version": "1.5.0",
            "_model_name": "ProgressStyleModel",
            "_view_count": null,
            "_view_module": "@jupyter-widgets/base",
            "_view_module_version": "1.2.0",
            "_view_name": "StyleView",
            "bar_color": null,
            "description_width": ""
          }
        },
        "b68240091715472d92fd2548d72e37b6": {
          "model_module": "@jupyter-widgets/base",
          "model_name": "LayoutModel",
          "model_module_version": "1.2.0",
          "state": {
            "_model_module": "@jupyter-widgets/base",
            "_model_module_version": "1.2.0",
            "_model_name": "LayoutModel",
            "_view_count": null,
            "_view_module": "@jupyter-widgets/base",
            "_view_module_version": "1.2.0",
            "_view_name": "LayoutView",
            "align_content": null,
            "align_items": null,
            "align_self": null,
            "border": null,
            "bottom": null,
            "display": null,
            "flex": null,
            "flex_flow": null,
            "grid_area": null,
            "grid_auto_columns": null,
            "grid_auto_flow": null,
            "grid_auto_rows": null,
            "grid_column": null,
            "grid_gap": null,
            "grid_row": null,
            "grid_template_areas": null,
            "grid_template_columns": null,
            "grid_template_rows": null,
            "height": null,
            "justify_content": null,
            "justify_items": null,
            "left": null,
            "margin": null,
            "max_height": null,
            "max_width": null,
            "min_height": null,
            "min_width": null,
            "object_fit": null,
            "object_position": null,
            "order": null,
            "overflow": null,
            "overflow_x": null,
            "overflow_y": null,
            "padding": null,
            "right": null,
            "top": null,
            "visibility": null,
            "width": null
          }
        },
        "fc536adb27f54e64b2fda15c0d48658c": {
          "model_module": "@jupyter-widgets/controls",
          "model_name": "DescriptionStyleModel",
          "model_module_version": "1.5.0",
          "state": {
            "_model_module": "@jupyter-widgets/controls",
            "_model_module_version": "1.5.0",
            "_model_name": "DescriptionStyleModel",
            "_view_count": null,
            "_view_module": "@jupyter-widgets/base",
            "_view_module_version": "1.2.0",
            "_view_name": "StyleView",
            "description_width": ""
          }
        }
      }
    }
  },
  "cells": [
    {
      "cell_type": "code",
      "execution_count": 3,
      "metadata": {
        "colab": {
          "base_uri": "https://localhost:8080/"
        },
        "id": "O5e7vX1867o_",
        "outputId": "a95462b6-0f21-436e-d3e7-59427585a326"
      },
      "outputs": [
        {
          "output_type": "stream",
          "name": "stdout",
          "text": [
            "Looking in indexes: https://pypi.org/simple, https://us-python.pkg.dev/colab-wheels/public/simple/\n",
            "Collecting transformers\n",
            "  Downloading transformers-4.28.0-py3-none-any.whl (7.0 MB)\n",
            "\u001b[2K     \u001b[90m━━━━━━━━━━━━━━━━━━━━━━━━━━━━━━━━━━━━━━━━\u001b[0m \u001b[32m7.0/7.0 MB\u001b[0m \u001b[31m49.9 MB/s\u001b[0m eta \u001b[36m0:00:00\u001b[0m\n",
            "\u001b[?25hRequirement already satisfied: packaging>=20.0 in /usr/local/lib/python3.9/dist-packages (from transformers) (23.0)\n",
            "Requirement already satisfied: tqdm>=4.27 in /usr/local/lib/python3.9/dist-packages (from transformers) (4.65.0)\n",
            "Collecting huggingface-hub<1.0,>=0.11.0\n",
            "  Downloading huggingface_hub-0.13.4-py3-none-any.whl (200 kB)\n",
            "\u001b[2K     \u001b[90m━━━━━━━━━━━━━━━━━━━━━━━━━━━━━━━━━━━━━━\u001b[0m \u001b[32m200.1/200.1 kB\u001b[0m \u001b[31m19.2 MB/s\u001b[0m eta \u001b[36m0:00:00\u001b[0m\n",
            "\u001b[?25hRequirement already satisfied: requests in /usr/local/lib/python3.9/dist-packages (from transformers) (2.27.1)\n",
            "Requirement already satisfied: regex!=2019.12.17 in /usr/local/lib/python3.9/dist-packages (from transformers) (2022.10.31)\n",
            "Collecting tokenizers!=0.11.3,<0.14,>=0.11.1\n",
            "  Downloading tokenizers-0.13.3-cp39-cp39-manylinux_2_17_x86_64.manylinux2014_x86_64.whl (7.8 MB)\n",
            "\u001b[2K     \u001b[90m━━━━━━━━━━━━━━━━━━━━━━━━━━━━━━━━━━━━━━━━\u001b[0m \u001b[32m7.8/7.8 MB\u001b[0m \u001b[31m91.5 MB/s\u001b[0m eta \u001b[36m0:00:00\u001b[0m\n",
            "\u001b[?25hRequirement already satisfied: filelock in /usr/local/lib/python3.9/dist-packages (from transformers) (3.11.0)\n",
            "Requirement already satisfied: pyyaml>=5.1 in /usr/local/lib/python3.9/dist-packages (from transformers) (6.0)\n",
            "Requirement already satisfied: numpy>=1.17 in /usr/local/lib/python3.9/dist-packages (from transformers) (1.22.4)\n",
            "Requirement already satisfied: typing-extensions>=3.7.4.3 in /usr/local/lib/python3.9/dist-packages (from huggingface-hub<1.0,>=0.11.0->transformers) (4.5.0)\n",
            "Requirement already satisfied: idna<4,>=2.5 in /usr/local/lib/python3.9/dist-packages (from requests->transformers) (3.4)\n",
            "Requirement already satisfied: certifi>=2017.4.17 in /usr/local/lib/python3.9/dist-packages (from requests->transformers) (2022.12.7)\n",
            "Requirement already satisfied: urllib3<1.27,>=1.21.1 in /usr/local/lib/python3.9/dist-packages (from requests->transformers) (1.26.15)\n",
            "Requirement already satisfied: charset-normalizer~=2.0.0 in /usr/local/lib/python3.9/dist-packages (from requests->transformers) (2.0.12)\n",
            "Installing collected packages: tokenizers, huggingface-hub, transformers\n",
            "Successfully installed huggingface-hub-0.13.4 tokenizers-0.13.3 transformers-4.28.0\n"
          ]
        }
      ],
      "source": [
        "pip install transformers"
      ]
    },
    {
      "cell_type": "code",
      "source": [
        "import time\n",
        "import numpy as np\n",
        "from transformers import AutoTokenizer,AutoModelForCausalLM,pipeline\n",
        "import torch"
      ],
      "metadata": {
        "id": "DzNRwgkXMFeD"
      },
      "execution_count": 4,
      "outputs": []
    },
    {
      "cell_type": "code",
      "source": [
        "text='You want to predict the results,'#store them, so that the team'\n",
        "def max_prob_output(model,tokenizer,text,word_length):\n",
        "  start=time.time()\n",
        "  input=tokenizer(text,return_tensors='pt')\n",
        "  output=model.generate(attention_mask=input['attention_mask'],input_ids=input['input_ids'],do_sample=True,num_return_sequences=3,temperature=0.9,output_scores=True,max_length=len(input[0])+2,min_length=1,num_beams=2,top_k=50)\n",
        "  gen_sequences = output.sequences[:, input['input_ids'].shape[-1]:]\n",
        "  probs = torch.stack(output.scores, dim=1).softmax(-1) \n",
        "  gen_probs = torch.gather(probs, 2, gen_sequences[:, :, None]).squeeze(-1).tolist()\n",
        "  values,words=[],[]\n",
        "  for i in range(len(gen_probs)):\n",
        "    words.append(tokenizer.batch_decode(output['sequences'])[i][len(text)+1:])\n",
        "    values.append(np.product(gen_probs[i]))\n",
        "  print(\"\\n \\n\",words[values.index(max(values))],\"   Probability:\",max(values))\n",
        "  end=time.time()\n",
        "  print(\"Time taken:\",end-start)"
      ],
      "metadata": {
        "id": "-KTVHY7-RS87"
      },
      "execution_count": null,
      "outputs": []
    },
    {
      "cell_type": "code",
      "source": [
        "text=\"You want to predict the results,store them, so that the team\"\n",
        "tokens=t1(text,return_tensors='pt')\n",
        "varied_text,outputs={},[]\n",
        "for i in range(3,len(tokens['input_ids'][0])):\n",
        "  max_length=len(tokens['input_ids'][0][0:i])+1\n",
        "  mask=tokens['attention_mask'][0][0:i].reshape(1,i)\n",
        "  ids=tokens['input_ids'][0][0:i].reshape(1,i)\n",
        "  x=m1.generate(attention_mask=mask,input_ids=ids,do_sample=True,num_return_sequences=3,temperature=0.9,output_scores=True,max_length=max_length,min_length=1, num_beams=2,top_k=1)\n",
        "  a=t1.batch_decode(ids)\n",
        "  b=np.unique(t1.batch_decode(x))[0][len(a[0]):]\n",
        "  t=''\n",
        "  for j in a:\n",
        "    t=t+j+' '\n",
        "  varied_text[t]=b\n",
        "  # max_length=len(tokens['input_ids'][0:i])+2\n",
        "  # output.append(tokenizer.batch_decode(model.generate(attention_mask=tokens['attention_mask'],input_ids=tokens['input_ids'],do_sample=True,num_return_sequences=3,temperature=0.9,output_scores=True,max_length=max_length,min_length=1,num_beams=2,top_k=50)))\n",
        "  "
      ],
      "metadata": {
        "id": "shPS2zogPQzn"
      },
      "execution_count": null,
      "outputs": []
    },
    {
      "cell_type": "code",
      "source": [
        "varied_text"
      ],
      "metadata": {
        "colab": {
          "base_uri": "https://localhost:8080/"
        },
        "id": "OYuMhJ-QloJP",
        "outputId": "08281c82-d23a-4fc8-840c-f439039a5d8e"
      },
      "execution_count": null,
      "outputs": [
        {
          "output_type": "execute_result",
          "data": {
            "text/plain": [
              "{'You want to ': ' know',\n",
              " 'You want to predict ': ' the',\n",
              " 'You want to predict the ': ' future',\n",
              " 'You want to predict the results ': ' of',\n",
              " 'You want to predict the results, ': ' and',\n",
              " 'You want to predict the results,store ': ' your',\n",
              " 'You want to predict the results,store them ': ' in',\n",
              " 'You want to predict the results,store them, ': ' and',\n",
              " 'You want to predict the results,store them, so ': ' that',\n",
              " 'You want to predict the results,store them, so that ': ' you',\n",
              " 'You want to predict the results,store them, so that the ': ' results'}"
            ]
          },
          "metadata": {},
          "execution_count": 126
        }
      ]
    },
    {
      "cell_type": "code",
      "source": [
        "# max_length=len(tokens['input_ids'][0][0:4])+2\n",
        "# mask=tokens['attention_mask'][0][0:4].reshape(1,4)\n",
        "# ids=tokens['input_ids'][0][0:4].reshape(1,4)\n",
        "# x=m1.generate(attention_mask=mask,input_ids=ids,do_sample=True,num_return_sequences=3,temperature=0.9,output_scores=True,max_length=max_length,min_length=1, num_beams=2,top_k=1)\n",
        "# b=np.unique(t1.batch_decode(x))[0][len(t1.batch_decode(ids)[0]):]\n",
        "# print(b)\n",
        "# a=t1.batch_decode(ids)\n",
        "# t=''\n",
        "# for j in a:\n",
        "#   t=t+j+' '\n",
        "# varied_texts[t]=b"
      ],
      "metadata": {
        "colab": {
          "base_uri": "https://localhost:8080/"
        },
        "id": "fY2an6TMel8J",
        "outputId": "b0cbed18-ea2c-4e68-d9ca-01654ed159d9"
      },
      "execution_count": null,
      "outputs": [
        {
          "output_type": "stream",
          "name": "stderr",
          "text": [
            "Setting `pad_token_id` to `eos_token_id`:50256 for open-end generation.\n"
          ]
        },
        {
          "output_type": "stream",
          "name": "stdout",
          "text": [
            " the future\n"
          ]
        }
      ]
    },
    {
      "cell_type": "code",
      "source": [
        "start=time.time()\n",
        "text=str(input())\n",
        "tokens=t1(text,return_tensors='pt')\n",
        "if(len(tokens['input_ids'][0])>=3):\n",
        "  varied_text,outputs={},[]\n",
        "  # for i in range(3,len(tokens['input_ids'][0])):\n",
        "  max_length=len(tokens['input_ids'][0][0:])+1\n",
        "  mask=tokens['attention_mask'][0][0:].reshape(1,len(tokens['input_ids'][0]))\n",
        "  ids=tokens['input_ids'][0][0:].reshape(1,len(tokens['input_ids'][0]))\n",
        "  x=m1.generate(attention_mask=mask,input_ids=ids,do_sample=True,num_return_sequences=3,temperature=0.1,output_scores=True,max_length=max_length,min_length=1, num_beams=2,top_k=1)\n",
        "  a=t1.batch_decode(ids)\n",
        "  b=np.unique(t1.batch_decode(x))[0][len(a[0]):]\n",
        "  print(b)\n",
        "  end=time.time()\n",
        "  print(end-start)\n",
        "    # t=''\n",
        "    # for j in a:\n",
        "    #   t=t+j+' '\n",
        "    # varied_texts[t]=b\n",
        "    # max_length=len(tokens['input_ids'][0:i])+2\n",
        "    # output.append(tokenizer.batch_decode(model.generate(attention_mask=tokens['attention_mask'],input_ids=tokens['input_ids'],do_sample=True,num_return_sequences=3,temperature=0.9,output_scores=True,max_length=max_length,min_length=1,num_beams=2,top_k=50)))\n",
        "    "
      ],
      "metadata": {
        "colab": {
          "base_uri": "https://localhost:8080/"
        },
        "id": "nWMeEF5YmTI2",
        "outputId": "6e6adf8c-3efd-4ff1-8ee0-06356ca8f466"
      },
      "execution_count": null,
      "outputs": [
        {
          "name": "stdout",
          "output_type": "stream",
          "text": [
            "Hello everyone have a\n"
          ]
        },
        {
          "output_type": "stream",
          "name": "stderr",
          "text": [
            "Setting `pad_token_id` to `eos_token_id`:50256 for open-end generation.\n"
          ]
        },
        {
          "output_type": "stream",
          "name": "stdout",
          "text": [
            " great\n",
            "6.52994966506958\n"
          ]
        }
      ]
    },
    {
      "cell_type": "code",
      "source": [
        "# start=time.time()\n",
        "# input=t(text,return_tensors='pt')\n",
        "# output=m.generate(attention_mask=input['attention_mask'],input_ids=input['input_ids'],do_sample=True,num_return_sequences=3,temperature=0.9,output_scores=True,max_length=len(input[0])+2,min_length=1,num_beams=2,top_k=50)\n",
        "# gen_sequences = output.sequences[:, input['input_ids'].shape[-1]:]\n",
        "# probs = torch.stack(output.scores, dim=1).softmax(-1) \n",
        "# gen_probs = torch.gather(probs, 2, gen_sequences[:, :, None]).squeeze(-1).tolist()\n",
        "\n",
        "# print(\"#########################################################\\n\\n\")\n",
        "\n",
        "# values,words=[],[]\n",
        "# for i in range(len(gen_probs)):\n",
        "#   words.append(t.batch_decode(output['sequences'])[i][len(text)+1:])\n",
        "#   values.append(np.product(gen_probs[i]))\n",
        "# print(words[values.index(max(values))],\" Probability:\",max(values))\n",
        "# end=time.time()\n",
        "# print(\"Time taken:\",end-start)"
      ],
      "metadata": {
        "id": "EtoSBnZP8LL5"
      },
      "execution_count": null,
      "outputs": []
    },
    {
      "cell_type": "markdown",
      "source": [
        "**GPT2 550MB**"
      ],
      "metadata": {
        "id": "aRng-oWd5bPm"
      }
    },
    {
      "cell_type": "code",
      "source": [
        "t=AutoTokenizer.from_pretrained('gpt2')\n",
        "m=AutoModelForCausalLM.from_pretrained('gpt2',return_dict_in_generate=True)"
      ],
      "metadata": {
        "id": "cFB2-iB-Q4Ju"
      },
      "execution_count": null,
      "outputs": []
    },
    {
      "cell_type": "code",
      "source": [
        "text=\"You want to predict the results,store them, so that the team\"\n",
        "tokens=t(text,return_tensors='pt')\n",
        "varied_text1,outputs={},[]\n",
        "for i in range(3,len(tokens['input_ids'][0])):\n",
        "  max_length=len(tokens['input_ids'][0][0:i])+1\n",
        "  mask=tokens['attention_mask'][0][0:i].reshape(1,i)\n",
        "  ids=tokens['input_ids'][0][0:i].reshape(1,i)\n",
        "  x=m.generate(attention_mask=mask,input_ids=ids,do_sample=True,num_return_sequences=3,temperature=0.9,output_scores=False,max_length=max_length,min_length=1, num_beams=2,top_k=1)\n",
        "  a=t.batch_decode(ids)\n",
        "  b=np.unique(t.batch_decode(x['sequences']))[0][len(a[0]):]\n",
        "  p=''\n",
        "  for j in a:\n",
        "    p=p+j+' '\n",
        "  varied_text1[p]=b\n",
        "  # max_length=len(tokens['input_ids'][0:i])+2\n",
        "  # output.append(tokenizer.batch_decode(model.generate(attention_mask=tokens['attention_mask'],input_ids=tokens['input_ids'],do_sample=True,num_return_sequences=3,temperature=0.9,output_scores=True,max_length=max_length,min_length=1,num_beams=2,top_k=50)))\n",
        "  "
      ],
      "metadata": {
        "colab": {
          "base_uri": "https://localhost:8080/"
        },
        "id": "I6rx5HWy3noT",
        "outputId": "c408cbed-5995-434e-9fda-875c0d567a23"
      },
      "execution_count": null,
      "outputs": [
        {
          "output_type": "stream",
          "name": "stderr",
          "text": [
            "/usr/local/lib/python3.9/dist-packages/transformers/generation/utils.py:1201: UserWarning: You have modified the pretrained model configuration to control generation. This is a deprecated strategy to control generation and will be removed soon, in a future version. Please use a generation configuration file (see https://huggingface.co/docs/transformers/main_classes/text_generation)\n",
            "  warnings.warn(\n",
            "Setting `pad_token_id` to `eos_token_id`:50256 for open-end generation.\n",
            "Setting `pad_token_id` to `eos_token_id`:50256 for open-end generation.\n",
            "Setting `pad_token_id` to `eos_token_id`:50256 for open-end generation.\n",
            "Setting `pad_token_id` to `eos_token_id`:50256 for open-end generation.\n",
            "Setting `pad_token_id` to `eos_token_id`:50256 for open-end generation.\n",
            "Setting `pad_token_id` to `eos_token_id`:50256 for open-end generation.\n",
            "Setting `pad_token_id` to `eos_token_id`:50256 for open-end generation.\n",
            "Setting `pad_token_id` to `eos_token_id`:50256 for open-end generation.\n",
            "Setting `pad_token_id` to `eos_token_id`:50256 for open-end generation.\n",
            "Setting `pad_token_id` to `eos_token_id`:50256 for open-end generation.\n",
            "Setting `pad_token_id` to `eos_token_id`:50256 for open-end generation.\n"
          ]
        }
      ]
    },
    {
      "cell_type": "code",
      "source": [
        "varied_text1"
      ],
      "metadata": {
        "colab": {
          "base_uri": "https://localhost:8080/"
        },
        "id": "B_5Xs-j3glmv",
        "outputId": "c42d06fb-7fea-4d53-ab7a-3d342ffafcff"
      },
      "execution_count": null,
      "outputs": [
        {
          "output_type": "execute_result",
          "data": {
            "text/plain": [
              "{'You want to ': ' know',\n",
              " 'You want to predict ': ' the',\n",
              " 'You want to predict the ': ' future',\n",
              " 'You want to predict the results ': ' of',\n",
              " 'You want to predict the results, ': ' you',\n",
              " 'You want to predict the results,store ': ' your',\n",
              " 'You want to predict the results,store them ': ' in',\n",
              " 'You want to predict the results,store them, ': 'and',\n",
              " 'You want to predict the results,store them, so ': ' you',\n",
              " 'You want to predict the results,store them, so that ': ' you',\n",
              " 'You want to predict the results,store them, so that the ': ' data'}"
            ]
          },
          "metadata": {},
          "execution_count": 24
        }
      ]
    },
    {
      "cell_type": "code",
      "source": [
        "import pandas as pd\n",
        "data=pd.read_csv(\"nwp.csv\")\n",
        "data['gpt-small']=varied_text1.values()\n",
        "data.to_csv('nwp.csv',index=False)"
      ],
      "metadata": {
        "id": "nks-eZ5cpGl0"
      },
      "execution_count": null,
      "outputs": []
    },
    {
      "cell_type": "code",
      "source": [
        "# t.pad_token_id=t.eos_token_id\n",
        "# max_prob_output(m,t,text,2)"
      ],
      "metadata": {
        "id": "hCiLgpMz5anA"
      },
      "execution_count": null,
      "outputs": []
    },
    {
      "cell_type": "markdown",
      "source": [
        "**distilgpt** **355MB**"
      ],
      "metadata": {
        "id": "V1nm-3Qz-oIA"
      }
    },
    {
      "cell_type": "code",
      "source": [
        "m1=AutoModelForCausalLM.from_pretrained('distilgpt2')\n",
        "t1=AutoTokenizer.from_pretrained('distilgpt2')"
      ],
      "metadata": {
        "id": "-t_rq6Y69AQv"
      },
      "execution_count": null,
      "outputs": []
    },
    {
      "cell_type": "code",
      "source": [
        "text=\"You want to predict the results,store them, so that the team\"\n",
        "tokens=t1(text,return_tensors='pt')\n",
        "varied_text2,outputs={},[]\n",
        "for i in range(3,len(tokens['input_ids'][0])):\n",
        "  max_length=len(tokens['input_ids'][0][0:i])+1\n",
        "  mask=tokens['attention_mask'][0][0:i].reshape(1,i)\n",
        "  ids=tokens['input_ids'][0][0:i].reshape(1,i)\n",
        "  x=m1.generate(attention_mask=mask,input_ids=ids,do_sample=True,num_return_sequences=3,temperature=0.9,output_scores=False,max_length=max_length,min_length=1, num_beams=2,top_k=1)\n",
        "  a=t1.batch_decode(ids)\n",
        "  b=np.unique(t1.batch_decode(x))[0][len(a[0]):]\n",
        "  p=''\n",
        "  for j in a:\n",
        "    p=p+j+' '\n",
        "  varied_text2[p]=b\n",
        "  # max_length=len(tokens['input_ids'][0:i])+2\n",
        "  # output.append(tokenizer.batch_decode(model.generate(attention_mask=tokens['attention_mask'],input_ids=tokens['input_ids'],do_sample=True,num_return_sequences=3,temperature=0.9,output_scores=True,max_length=max_length,min_length=1,num_beams=2,top_k=50)))\n"
      ],
      "metadata": {
        "colab": {
          "base_uri": "https://localhost:8080/"
        },
        "id": "MuIbyRSUg4El",
        "outputId": "5716c588-da2f-46b4-cafc-d19822a95b10"
      },
      "execution_count": null,
      "outputs": [
        {
          "output_type": "stream",
          "name": "stderr",
          "text": [
            "Setting `pad_token_id` to `eos_token_id`:50256 for open-end generation.\n",
            "Setting `pad_token_id` to `eos_token_id`:50256 for open-end generation.\n",
            "Setting `pad_token_id` to `eos_token_id`:50256 for open-end generation.\n",
            "Setting `pad_token_id` to `eos_token_id`:50256 for open-end generation.\n",
            "Setting `pad_token_id` to `eos_token_id`:50256 for open-end generation.\n",
            "Setting `pad_token_id` to `eos_token_id`:50256 for open-end generation.\n",
            "Setting `pad_token_id` to `eos_token_id`:50256 for open-end generation.\n",
            "Setting `pad_token_id` to `eos_token_id`:50256 for open-end generation.\n",
            "Setting `pad_token_id` to `eos_token_id`:50256 for open-end generation.\n",
            "Setting `pad_token_id` to `eos_token_id`:50256 for open-end generation.\n",
            "Setting `pad_token_id` to `eos_token_id`:50256 for open-end generation.\n"
          ]
        }
      ]
    },
    {
      "cell_type": "code",
      "source": [
        "varied_text2"
      ],
      "metadata": {
        "colab": {
          "base_uri": "https://localhost:8080/"
        },
        "id": "lcWplhAshBUC",
        "outputId": "4155d2ec-ab69-4949-b897-a0315993537a"
      },
      "execution_count": null,
      "outputs": [
        {
          "output_type": "execute_result",
          "data": {
            "text/plain": [
              "{'You want to ': ' know',\n",
              " 'You want to predict ': ' the',\n",
              " 'You want to predict the ': ' future',\n",
              " 'You want to predict the results ': ' of',\n",
              " 'You want to predict the results, ': ' and',\n",
              " 'You want to predict the results,store ': ' your',\n",
              " 'You want to predict the results,store them ': ' in',\n",
              " 'You want to predict the results,store them, ': ' and',\n",
              " 'You want to predict the results,store them, so ': ' that',\n",
              " 'You want to predict the results,store them, so that ': ' you',\n",
              " 'You want to predict the results,store them, so that the ': ' results'}"
            ]
          },
          "metadata": {},
          "execution_count": 26
        }
      ]
    },
    {
      "cell_type": "code",
      "source": [
        "import pandas as pd\n",
        "data=pd.read_csv(\"nwp.csv\")\n",
        "data['distillgpt']=varied_text2.values()\n",
        "data.to_csv('nwp.csv',index=False)"
      ],
      "metadata": {
        "id": "_aZgODbspeGZ"
      },
      "execution_count": null,
      "outputs": []
    },
    {
      "cell_type": "code",
      "source": [
        "# t1.pad_token_id=t1.eos_token_id\n",
        "# text='You want to predict the results,'#store them, so that the team'"
      ],
      "metadata": {
        "id": "E2BScuEW9AT8"
      },
      "execution_count": null,
      "outputs": []
    },
    {
      "cell_type": "code",
      "source": [
        "# start=time.time()\n",
        "# input=t1(text,return_tensors='pt')\n",
        "# output=m1.generate(attention_mask=input['attention_mask'],input_ids=input['input_ids'],do_sample=True,num_return_sequences=3,temperature=0.9,output_scores=True,max_length=len(input[0])+2,min_length=1,num_beams=2,top_k=1)\n",
        "\n",
        "# print(\"#########################################################\\n\\n\")\n",
        "\n",
        "# words=[]\n",
        "# for i in range(len(output)):\n",
        "#   words.append(t1.batch_decode(output)[i][len(text)+1:])\n",
        "# print(np.unique(words))\n",
        "# end=time.time()\n",
        "# print(\"Time taken:\",end-start)"
      ],
      "metadata": {
        "colab": {
          "base_uri": "https://localhost:8080/"
        },
        "id": "Ui-7p0Kc9AXL",
        "outputId": "5cae52d7-0c9e-4648-ae5b-163568994e4a"
      },
      "execution_count": null,
      "outputs": [
        {
          "output_type": "stream",
          "name": "stderr",
          "text": [
            "Setting `pad_token_id` to `eos_token_id`:50256 for open-end generation.\n"
          ]
        },
        {
          "output_type": "stream",
          "name": "stdout",
          "text": [
            "#########################################################\n",
            "\n",
            "\n",
            "['and you']\n",
            "Time taken: 0.5493667125701904\n"
          ]
        }
      ]
    },
    {
      "cell_type": "markdown",
      "source": [
        "**EleutherAI/gpt-neo-125M**   **526MB**"
      ],
      "metadata": {
        "id": "YD0u2aUEBm_z"
      }
    },
    {
      "cell_type": "code",
      "source": [
        "m2=AutoModelForCausalLM.from_pretrained('ELeutherAI/gpt-neo-125M')\n",
        "t2=AutoTokenizer.from_pretrained(\"EleutherAI/gpt-neo-125M\")"
      ],
      "metadata": {
        "id": "fiZ1lz9T9Ads"
      },
      "execution_count": null,
      "outputs": []
    },
    {
      "cell_type": "code",
      "source": [
        "text=\"You want to predict the results,store them, so that the team\"\n",
        "tokens=t2(text,return_tensors='pt')\n",
        "varied_text3,outputs={},[]\n",
        "for i in range(3,len(tokens['input_ids'][0])):\n",
        "  max_length=len(tokens['input_ids'][0][0:i])+1\n",
        "  mask=tokens['attention_mask'][0][0:i].reshape(1,i)\n",
        "  ids=tokens['input_ids'][0][0:i].reshape(1,i)\n",
        "  x=m2.generate(attention_mask=mask,input_ids=ids,do_sample=True,num_return_sequences=3,temperature=0.9,output_scores=False,max_length=max_length,min_length=1, num_beams=2,top_k=1)\n",
        "  a=t2.batch_decode(ids)\n",
        "  b=np.unique(t2.batch_decode(x))[0][len(a[0]):]\n",
        "  p=''\n",
        "  for j in a:\n",
        "    p=p+j+' '\n",
        "  varied_text3[p]=b\n",
        "  # max_length=len(tokens['input_ids'][0:i])+2\n",
        "  # output.append(tokenizer.batch_decode(model.generate(attention_mask=tokens['attention_mask'],input_ids=tokens['input_ids'],do_sample=True,num_return_sequences=3,temperature=0.9,output_scores=True,max_length=max_length,min_length=1,num_beams=2,top_k=50)))"
      ],
      "metadata": {
        "colab": {
          "base_uri": "https://localhost:8080/"
        },
        "id": "dggoclLhhM1x",
        "outputId": "56d79dcf-8a7e-42a1-83bf-1a481c58de46"
      },
      "execution_count": null,
      "outputs": [
        {
          "output_type": "stream",
          "name": "stderr",
          "text": [
            "Setting `pad_token_id` to `eos_token_id`:50256 for open-end generation.\n",
            "Setting `pad_token_id` to `eos_token_id`:50256 for open-end generation.\n",
            "Setting `pad_token_id` to `eos_token_id`:50256 for open-end generation.\n",
            "Setting `pad_token_id` to `eos_token_id`:50256 for open-end generation.\n",
            "Setting `pad_token_id` to `eos_token_id`:50256 for open-end generation.\n",
            "Setting `pad_token_id` to `eos_token_id`:50256 for open-end generation.\n",
            "Setting `pad_token_id` to `eos_token_id`:50256 for open-end generation.\n",
            "Setting `pad_token_id` to `eos_token_id`:50256 for open-end generation.\n",
            "Setting `pad_token_id` to `eos_token_id`:50256 for open-end generation.\n",
            "Setting `pad_token_id` to `eos_token_id`:50256 for open-end generation.\n",
            "Setting `pad_token_id` to `eos_token_id`:50256 for open-end generation.\n"
          ]
        }
      ]
    },
    {
      "cell_type": "code",
      "source": [
        "varied_text3"
      ],
      "metadata": {
        "colab": {
          "base_uri": "https://localhost:8080/"
        },
        "id": "cOrC4tvVhUM2",
        "outputId": "2448f5f4-55e7-473d-d580-4d52045f98eb"
      },
      "execution_count": null,
      "outputs": [
        {
          "output_type": "execute_result",
          "data": {
            "text/plain": [
              "{'You want to ': ' know',\n",
              " 'You want to predict ': ' the',\n",
              " 'You want to predict the ': ' future',\n",
              " 'You want to predict the results ': ' of',\n",
              " 'You want to predict the results, ': ' but',\n",
              " 'You want to predict the results,store ': ' them',\n",
              " 'You want to predict the results,store them ': ' in',\n",
              " 'You want to predict the results,store them, ': 'and',\n",
              " 'You want to predict the results,store them, so ': ' you',\n",
              " 'You want to predict the results,store them, so that ': ' you',\n",
              " 'You want to predict the results,store them, so that the ': ' results'}"
            ]
          },
          "metadata": {},
          "execution_count": 28
        }
      ]
    },
    {
      "cell_type": "code",
      "source": [
        "import pandas as pd\n",
        "data=pd.read_csv(\"nwp.csv\")\n",
        "data['gpt-neo-125M']=varied_text3.values()\n",
        "data.to_csv('nwp.csv',index=False)"
      ],
      "metadata": {
        "id": "RRCI5MLgpm2m"
      },
      "execution_count": null,
      "outputs": []
    },
    {
      "cell_type": "code",
      "source": [
        "# t2.pad_token_id=t2.eos_token_id\n",
        "# text='You want to predict the results,'#store them, so that the team'"
      ],
      "metadata": {
        "id": "K9c0TQPrDqix"
      },
      "execution_count": null,
      "outputs": []
    },
    {
      "cell_type": "code",
      "source": [
        "# start=time.time()\n",
        "# input=t2(text,return_tensors='pt')\n",
        "# output=m2.generate(attention_mask=input['attention_mask'],input_ids=input['input_ids'],do_sample=True,num_return_sequences=3,temperature=0.9,output_scores=True,max_length=len(input[0])+2,min_length=1,num_beams=2,top_k=1)\n",
        "\n",
        "# print(\"#########################################################\\n\\n\")\n",
        "\n",
        "# words=[]\n",
        "# for i in range(len(output)):\n",
        "#   words.append(t2.batch_decode(output)[i][len(text)+1:])\n",
        "# print(np.unique(words))\n",
        "# end=time.time()\n",
        "# print(\"Time taken:\",end-start)"
      ],
      "metadata": {
        "colab": {
          "base_uri": "https://localhost:8080/"
        },
        "id": "CaN4pxlp9Ag5",
        "outputId": "bd4c113b-5715-40d0-8845-89c44b3f576c"
      },
      "execution_count": null,
      "outputs": [
        {
          "output_type": "stream",
          "name": "stderr",
          "text": [
            "Setting `pad_token_id` to `eos_token_id`:50256 for open-end generation.\n"
          ]
        },
        {
          "output_type": "stream",
          "name": "stdout",
          "text": [
            "#########################################################\n",
            "\n",
            "\n",
            "['but you']\n",
            "Time taken: 0.8114805221557617\n"
          ]
        }
      ]
    },
    {
      "cell_type": "markdown",
      "source": [
        "**GPT2 Medium** **1.52GB  335M**"
      ],
      "metadata": {
        "id": "iCmv58sElyTC"
      }
    },
    {
      "cell_type": "code",
      "source": [
        "m7=AutoModelForCausalLM.from_pretrained('gpt2-medium')\n",
        "t7=AutoTokenizer.from_pretrained(\"gpt2-medium\")"
      ],
      "metadata": {
        "id": "K-ljchG1l2JC"
      },
      "execution_count": null,
      "outputs": []
    },
    {
      "cell_type": "code",
      "source": [
        "text=\"You want to predict the results,store them, so that the team\"\n",
        "tokens=t7(text,return_tensors='pt')\n",
        "varied_text7,outputs={},[]\n",
        "for i in range(3,len(tokens['input_ids'][0])):\n",
        "  max_length=len(tokens['input_ids'][0][0:i])+1\n",
        "  mask=tokens['attention_mask'][0][0:i].reshape(1,i)\n",
        "  ids=tokens['input_ids'][0][0:i].reshape(1,i)\n",
        "  x=m7.generate(attention_mask=mask,input_ids=ids,do_sample=True,num_return_sequences=3,temperature=0.9,output_scores=False,max_length=max_length,min_length=1, num_beams=2,top_k=1)\n",
        "  a=t7.batch_decode(ids)\n",
        "  b=np.unique(t7.batch_decode(x))[0][len(a[0]):]\n",
        "  p=''\n",
        "  for j in a:\n",
        "    p=p+j+' '\n",
        "  varied_text7[p]=b\n",
        "  # max_length=len(tokens['input_ids'][0:i])+2\n",
        "  # output.append(tokenizer.batch_decode(model.generate(attention_mask=tokens['attention_mask'],input_ids=tokens['input_ids'],do_sample=True,num_return_sequences=3,temperature=0.9,output_scores=True,max_length=max_length,min_length=1,num_beams=2,top_k=50)))"
      ],
      "metadata": {
        "colab": {
          "base_uri": "https://localhost:8080/"
        },
        "id": "rhVIOYGZEklm",
        "outputId": "37d4f76a-9b24-4636-ce8d-1294c2a87fa3"
      },
      "execution_count": null,
      "outputs": [
        {
          "output_type": "stream",
          "name": "stderr",
          "text": [
            "Setting `pad_token_id` to `eos_token_id`:50256 for open-end generation.\n",
            "Setting `pad_token_id` to `eos_token_id`:50256 for open-end generation.\n",
            "Setting `pad_token_id` to `eos_token_id`:50256 for open-end generation.\n",
            "Setting `pad_token_id` to `eos_token_id`:50256 for open-end generation.\n",
            "Setting `pad_token_id` to `eos_token_id`:50256 for open-end generation.\n",
            "Setting `pad_token_id` to `eos_token_id`:50256 for open-end generation.\n",
            "Setting `pad_token_id` to `eos_token_id`:50256 for open-end generation.\n",
            "Setting `pad_token_id` to `eos_token_id`:50256 for open-end generation.\n",
            "Setting `pad_token_id` to `eos_token_id`:50256 for open-end generation.\n",
            "Setting `pad_token_id` to `eos_token_id`:50256 for open-end generation.\n",
            "Setting `pad_token_id` to `eos_token_id`:50256 for open-end generation.\n"
          ]
        }
      ]
    },
    {
      "cell_type": "code",
      "source": [
        "varied_text7"
      ],
      "metadata": {
        "colab": {
          "base_uri": "https://localhost:8080/"
        },
        "id": "ESXSDr5Kmw0P",
        "outputId": "5be041d9-e8ed-4217-ac58-59ba0246b8dc"
      },
      "execution_count": null,
      "outputs": [
        {
          "output_type": "execute_result",
          "data": {
            "text/plain": [
              "{'You want to ': ' know',\n",
              " 'You want to predict ': ' the',\n",
              " 'You want to predict the ': ' future',\n",
              " 'You want to predict the results ': ' of',\n",
              " 'You want to predict the results, ': ' you',\n",
              " 'You want to predict the results,store ': ' the',\n",
              " 'You want to predict the results,store them ': ' in',\n",
              " 'You want to predict the results,store them, ': ' and',\n",
              " 'You want to predict the results,store them, so ': ' you',\n",
              " 'You want to predict the results,store them, so that ': ' you',\n",
              " 'You want to predict the results,store them, so that the ': ' next'}"
            ]
          },
          "metadata": {},
          "execution_count": 9
        }
      ]
    },
    {
      "cell_type": "code",
      "source": [
        "import pandas as pd\n",
        "data=pd.read_csv(\"nwp.csv\")\n",
        "data['gpt-medium']=varied_text7.values()\n",
        "data.to_csv('nwp.csv',index=False)"
      ],
      "metadata": {
        "id": "bbU7rRRTpwAI"
      },
      "execution_count": null,
      "outputs": []
    },
    {
      "cell_type": "markdown",
      "source": [
        "**bigscience/bloom-560m** **1.12GB**"
      ],
      "metadata": {
        "id": "i7zvO5HcDyjb"
      }
    },
    {
      "cell_type": "code",
      "source": [
        "m3=AutoModelForCausalLM.from_pretrained('bigscience/bloom-560m')\n",
        "t3=AutoTokenizer.from_pretrained(\"bigscience/bloom-560m\")"
      ],
      "metadata": {
        "colab": {
          "base_uri": "https://localhost:8080/",
          "height": 113,
          "referenced_widgets": [
            "e33bdf5916ce4509b2659cb0f30cbd58",
            "4969b933d98d42cb9eda5e8dd4e0bede",
            "786a9368db424abf99f106c36342c6e6",
            "6caa51999bda4edc85488e9c8715370c",
            "1f9073ade19f4081a00efef52826ffda",
            "ce028480db014673a7d4e5d21fdb9a55",
            "1105c9f373f64b0db9d89e2f9bd488cf",
            "dd2261cb99c148628bd54c2efe01fff7",
            "0247f991ae70472abfb12643a5c63db0",
            "2cf8f96d6e7c4b3a86abdf69294c666a",
            "f8654a773e3f4676944cf3197b7c5e80",
            "131750e9b96641f982f31f00a4ac76b3",
            "36c2256b3e844151a57f1a587615b856",
            "e05b11960b5248aeb731a08531c7def2",
            "b994716f4980479197223358b8eb8313",
            "89934f6337f84165b8dcfc8cdfc2ee91",
            "af6580e781684d788577b348920d9282",
            "3f659d76251346d083d723d0f9b393d4",
            "bda5e5dfe4db45cfbd55aee7e4daf922",
            "9f82d7ff5fb2438d993580ec1d016476",
            "1cedb497947b4fa78da3f9386e090b9e",
            "e391f35e1184445dbb5c65b576b757de",
            "62960e7702584c2da9aadc8aede21581",
            "12810181ea8249d2ac3496a2f30f7d90",
            "2e4c0ba767db43e3a0765ae72141cc96",
            "43b802b8b4294a8baa339b12bc2dfa4a",
            "08d0414ab0e4497e93d4c711612dce17",
            "8336815c23144c16b61aee02ca50f9d7",
            "179fee1726114bae997efd4c1c964f32",
            "621874281e084df3b0ccbdd1696a0a27",
            "3f4e3235d5274c2f82bc82bca927808e",
            "97fc00dbee5e4cddb91fd5138b6d5f32",
            "6c63e8fb50b4457287ee8af24016d7f5"
          ]
        },
        "id": "SBx9DHmNDxvX",
        "outputId": "ff7a981d-4743-41df-b2a9-c2ce8fc92979"
      },
      "execution_count": null,
      "outputs": [
        {
          "output_type": "display_data",
          "data": {
            "text/plain": [
              "Downloading (…)okenizer_config.json:   0%|          | 0.00/222 [00:00<?, ?B/s]"
            ],
            "application/vnd.jupyter.widget-view+json": {
              "version_major": 2,
              "version_minor": 0,
              "model_id": "e33bdf5916ce4509b2659cb0f30cbd58"
            }
          },
          "metadata": {}
        },
        {
          "output_type": "display_data",
          "data": {
            "text/plain": [
              "Downloading tokenizer.json:   0%|          | 0.00/14.5M [00:00<?, ?B/s]"
            ],
            "application/vnd.jupyter.widget-view+json": {
              "version_major": 2,
              "version_minor": 0,
              "model_id": "131750e9b96641f982f31f00a4ac76b3"
            }
          },
          "metadata": {}
        },
        {
          "output_type": "display_data",
          "data": {
            "text/plain": [
              "Downloading (…)cial_tokens_map.json:   0%|          | 0.00/85.0 [00:00<?, ?B/s]"
            ],
            "application/vnd.jupyter.widget-view+json": {
              "version_major": 2,
              "version_minor": 0,
              "model_id": "62960e7702584c2da9aadc8aede21581"
            }
          },
          "metadata": {}
        }
      ]
    },
    {
      "cell_type": "code",
      "source": [
        "text=\"You want to predict the results,store them, so that the team\"\n",
        "tokens=t3(text,return_tensors='pt')\n",
        "varied_text3,outputs={},[]\n",
        "for i in range(3,len(tokens['input_ids'][0])):\n",
        "  max_length=len(tokens['input_ids'][0][0:i])+1\n",
        "  mask=tokens['attention_mask'][0][0:i].reshape(1,i)\n",
        "  ids=tokens['input_ids'][0][0:i].reshape(1,i)\n",
        "  x=m3.generate(attention_mask=mask,input_ids=ids,do_sample=True,num_return_sequences=3,temperature=0.9,output_scores=False,max_length=max_length,min_length=1, num_beams=2,top_k=1)\n",
        "  a=t3.batch_decode(ids)\n",
        "  b=np.unique(t3.batch_decode(x))[0][len(a[0]):]\n",
        "  p=''\n",
        "  for j in a:\n",
        "    p=p+j+' '\n",
        "  varied_text3[p]=b\n",
        "  # max_length=len(tokens['input_ids'][0:i])+2\n",
        "  # output.append(tokenizer.batch_decode(model.generate(attention_mask=tokens['attention_mask'],input_ids=tokens['input_ids'],do_sample=True,num_return_sequences=3,temperature=0.9,output_scores=True,max_length=max_length,min_length=1,num_beams=2,top_k=50)))"
      ],
      "metadata": {
        "id": "xUpUF39-lAMw"
      },
      "execution_count": null,
      "outputs": []
    },
    {
      "cell_type": "code",
      "source": [
        "varied_text3"
      ],
      "metadata": {
        "colab": {
          "base_uri": "https://localhost:8080/"
        },
        "id": "0yHAgU5snlm1",
        "outputId": "3384e186-c183-48c6-c00d-5fd7ab502651"
      },
      "execution_count": null,
      "outputs": [
        {
          "output_type": "execute_result",
          "data": {
            "text/plain": [
              "{'You want to ': ' know',\n",
              " 'You want to predict ': ' the',\n",
              " 'You want to predict the ': ' future',\n",
              " 'You want to predict the results ': ' of',\n",
              " 'You want to predict the results, ': ' you',\n",
              " 'You want to predict the results,store ': ' them',\n",
              " 'You want to predict the results,store them ': ' in',\n",
              " 'You want to predict the results,store them, ': 'and',\n",
              " 'You want to predict the results,store them, so ': ' you',\n",
              " 'You want to predict the results,store them, so that ': ' you',\n",
              " 'You want to predict the results,store them, so that the ': ' user'}"
            ]
          },
          "metadata": {},
          "execution_count": 4
        }
      ]
    },
    {
      "cell_type": "code",
      "source": [],
      "metadata": {
        "id": "HanyxgCrn6MR"
      },
      "execution_count": null,
      "outputs": []
    },
    {
      "cell_type": "code",
      "source": [
        "data=pd.DataFrame()\n",
        "data['real']=['You','want','to','predict','the','results','store','them','so','that','the ']"
      ],
      "metadata": {
        "id": "pbuQckG_n-ZY"
      },
      "execution_count": null,
      "outputs": []
    },
    {
      "cell_type": "code",
      "source": [
        "import pandas as pd\n",
        "data=pd.read_csv(\"nwp.csv\")\n",
        "data['big\\bloom']=varied_text3.values()\n",
        "data.to_csv(\"nwp.csv\",index=False)"
      ],
      "metadata": {
        "id": "7mJKryI3oOId"
      },
      "execution_count": null,
      "outputs": []
    },
    {
      "cell_type": "code",
      "source": [
        "# t3.pad_token_id=t3.eos_token_id\n",
        "# text='You want to predict the results,store them,'# so that the team'"
      ],
      "metadata": {
        "id": "NQk292XaDxyz"
      },
      "execution_count": null,
      "outputs": []
    },
    {
      "cell_type": "code",
      "source": [
        "# start=time.time()\n",
        "# input=t3(text,return_tensors='pt')\n",
        "# output=m3.generate(attention_mask=input['attention_mask'],input_ids=input['input_ids'],do_sample=True,num_return_sequences=3,temperature=0.1,output_scores=True,max_length=len(input[0])+2,min_length=1,num_beams=2,top_k=5)\n",
        "\n",
        "# print(\"#########################################################\\n\\n\")\n",
        "\n",
        "# words=[]\n",
        "# for i in range(len(output)):\n",
        "#   words.append(t3.batch_decode(output)[i][len(text):])\n",
        "# print(np.unique(words))\n",
        "# end=time.time()\n",
        "# print(\"Time taken:\",end-start)"
      ],
      "metadata": {
        "colab": {
          "base_uri": "https://localhost:8080/"
        },
        "id": "QfDMs_s4Dx14",
        "outputId": "7174c570-e5de-4540-940d-8a297c9776d7"
      },
      "execution_count": null,
      "outputs": [
        {
          "output_type": "stream",
          "name": "stdout",
          "text": [
            "#########################################################\n",
            "\n",
            "\n",
            "['and then']\n",
            "Time taken: 5.597779989242554\n"
          ]
        }
      ]
    },
    {
      "cell_type": "markdown",
      "source": [
        "**EleutherAI/gpt-neo-1.3B** **5.31GB**"
      ],
      "metadata": {
        "id": "HM0hwi7gkeu2"
      }
    },
    {
      "cell_type": "code",
      "source": [
        "m5=AutoModelForCausalLM.from_pretrained('EleutherAI/gpt-neo-1.3B')\n",
        "t5=AutoTokenizer.from_pretrained(\"EleutherAI/gpt-neo-1.3B\")"
      ],
      "metadata": {
        "colab": {
          "base_uri": "https://localhost:8080/",
          "height": 209,
          "referenced_widgets": [
            "fc50bca6b9dc406faadf2accb3be4c37",
            "910b09e0e5b24421a522f28bcbcbc755",
            "85fa66b6fd934c1cb2441297eb321078",
            "90b52c7bc1594784b968385235776aed",
            "f954562afd1c406b94d44e65140ee783",
            "acb52836535d446da57b4c2603b421f2",
            "063e5153104e46db962a9d733556fb83",
            "99e281ca5e68432cb2bd31f34b9dc656",
            "f0760aad875b4506ae94d6eb93e83545",
            "f9959406b12146058b58456e694d219c",
            "22c10e3e6e924729861083d5de5b263c",
            "c1e89bae2435460486ab2439f14cfc87",
            "d82aadad0c76459ebd8d5a0850f85e3f",
            "2f71d0bb95cf4c67bbb5b3a662f9e37b",
            "7fa1b2fb132a494f8376567f735d28b0",
            "0acd3ae8749b4c249acc5ae55a75d1c7",
            "5b5cdf338e7342b880c6fb3bce14da75",
            "7fd7649774c8418d842f6881e30cfe3a",
            "e6e067c650dc4e479b52f5cf32b7e4b8",
            "a380da6be4214a9b81c34d313b51957f",
            "b411bf9c37ed46e19a8ee0c418a59518",
            "8af6c76ba9354eb19e917392dcf56233",
            "e2cb8476f7314dd0951417dbd4fe75fc",
            "ab1d3be4f03e481896b235153bd0c3af",
            "3d70e62fe3b447018377f3f4c398dca6",
            "18a7044c1037459f8c84e134242ed446",
            "0489a0b80703406d98399fee18ef508d",
            "4e5e2396317848aab0185b6b0bda461d",
            "d483cbed50d84e0ea396d3813747096f",
            "5f7456b05fdc4ed9a182563a2969a9d2",
            "7a584f5afb9e41b9984520ea70ddaedf",
            "0f361718a66b4735a4d4031329050c2a",
            "5154830e911b4a53822680cb1f180552",
            "53430f81663649c9bbc047316e5de9d0",
            "be91994d44a342498cceefc28e415d92",
            "19ba7b94472f4b069395c316831a753b",
            "b938c1f5c73844f493cd9292429882cf",
            "dd73722b966c469b9b41756b7370f87b",
            "c7a7f05823c2495ba6591572f360d6ce",
            "019b61cd96b2470a99e212334c97cf46",
            "1a2e0ab1007d4aceb52787b3638fb877",
            "4aef91bc4a7c463bba20948398e930bc",
            "fee7ed53eab4410580eb24edc9b9cbce",
            "4dab369d3a9e4b42b4ac1b301c50f484",
            "cf79fc80dac440838145a764a2c8a247",
            "42570bf8eebb4949ad7071563451c3b1",
            "36bb729cfbd844089794ccbff4fe4feb",
            "6d027c445bc14f4d8fd58ba17d6d0770",
            "3a1e7f66642842a891ccfc0af198b263",
            "a1b2c056dfe142af9f4240ae02041043",
            "ef1d0803c5d8477894a4bf76923d2a84",
            "9f877638b5fc4692949545fecdf8fdf4",
            "83c1870358f44dda81b88db48c65bed6",
            "bf5035c45f9445d583cb710a2a0159a1",
            "5ac4b56c51bf4caa9cc285e9e33dc6fc",
            "a35b8e1cca76481b85ae74a6c12f221b",
            "3e549639d0e24fe5882e89488732fc4a",
            "d6056a9a995b409b9cdce1f152a097cf",
            "10a327002d084c2a8ff455eaad6799a1",
            "de1b2b1d2cdf4b92bcf4f9766e74437c",
            "b27a113541e640658e10182809464436",
            "77e3236a511440bc9023929e7a7d35de",
            "b3d1719ca2e24502afb0bfc2c195e302",
            "79fc4ed6135147e184ffe2ed4b001648",
            "09c64efe6c0940bba402015ce122401d",
            "8d782b77795f4cc1a63c971728f38ddc"
          ]
        },
        "id": "mQKLxn_SkiXw",
        "outputId": "1e51d969-9558-49ba-8add-899bf25e34da"
      },
      "execution_count": 5,
      "outputs": [
        {
          "output_type": "display_data",
          "data": {
            "text/plain": [
              "Downloading (…)lve/main/config.json:   0%|          | 0.00/1.35k [00:00<?, ?B/s]"
            ],
            "application/vnd.jupyter.widget-view+json": {
              "version_major": 2,
              "version_minor": 0,
              "model_id": "fc50bca6b9dc406faadf2accb3be4c37"
            }
          },
          "metadata": {}
        },
        {
          "output_type": "display_data",
          "data": {
            "text/plain": [
              "Downloading pytorch_model.bin:   0%|          | 0.00/5.31G [00:00<?, ?B/s]"
            ],
            "application/vnd.jupyter.widget-view+json": {
              "version_major": 2,
              "version_minor": 0,
              "model_id": "c1e89bae2435460486ab2439f14cfc87"
            }
          },
          "metadata": {}
        },
        {
          "output_type": "display_data",
          "data": {
            "text/plain": [
              "Downloading (…)okenizer_config.json:   0%|          | 0.00/200 [00:00<?, ?B/s]"
            ],
            "application/vnd.jupyter.widget-view+json": {
              "version_major": 2,
              "version_minor": 0,
              "model_id": "e2cb8476f7314dd0951417dbd4fe75fc"
            }
          },
          "metadata": {}
        },
        {
          "output_type": "display_data",
          "data": {
            "text/plain": [
              "Downloading (…)olve/main/vocab.json:   0%|          | 0.00/798k [00:00<?, ?B/s]"
            ],
            "application/vnd.jupyter.widget-view+json": {
              "version_major": 2,
              "version_minor": 0,
              "model_id": "53430f81663649c9bbc047316e5de9d0"
            }
          },
          "metadata": {}
        },
        {
          "output_type": "display_data",
          "data": {
            "text/plain": [
              "Downloading (…)olve/main/merges.txt:   0%|          | 0.00/456k [00:00<?, ?B/s]"
            ],
            "application/vnd.jupyter.widget-view+json": {
              "version_major": 2,
              "version_minor": 0,
              "model_id": "cf79fc80dac440838145a764a2c8a247"
            }
          },
          "metadata": {}
        },
        {
          "output_type": "display_data",
          "data": {
            "text/plain": [
              "Downloading (…)cial_tokens_map.json:   0%|          | 0.00/90.0 [00:00<?, ?B/s]"
            ],
            "application/vnd.jupyter.widget-view+json": {
              "version_major": 2,
              "version_minor": 0,
              "model_id": "a35b8e1cca76481b85ae74a6c12f221b"
            }
          },
          "metadata": {}
        }
      ]
    },
    {
      "cell_type": "code",
      "source": [
        "text=\"You want to predict the results,store them, so that the team\"\n",
        "tokens=t5(text,return_tensors='pt')\n",
        "varied_text5,outputs={},[]\n",
        "for i in range(3,len(tokens['input_ids'][0])):\n",
        "  max_length=len(tokens['input_ids'][0][0:i])+1\n",
        "  mask=tokens['attention_mask'][0][0:i].reshape(1,i)\n",
        "  ids=tokens['input_ids'][0][0:i].reshape(1,i)\n",
        "  x=m5.generate(attention_mask=mask,input_ids=ids,do_sample=True,num_return_sequences=3,temperature=0.9,output_scores=False,max_length=max_length,min_length=1, num_beams=2,top_k=1)\n",
        "  a=t5.batch_decode(ids)\n",
        "  b=np.unique(t5.batch_decode(x))[0][len(a[0]):]\n",
        "  p=''\n",
        "  for j in a:\n",
        "    p=p+j+' '\n",
        "  varied_text5[p]=b\n",
        "  # max_length=len(tokens['input_ids'][0:i])+2\n",
        "  # output.append(tokenizer.batch_decode(model.generate(attention_mask=tokens['attention_mask'],input_ids=tokens['input_ids'],do_sample=True,num_return_sequences=3,temperature=0.9,output_scores=True,max_length=max_length,min_length=1,num_beams=2,top_k=50)))"
      ],
      "metadata": {
        "colab": {
          "base_uri": "https://localhost:8080/"
        },
        "id": "W40V6VZBkiar",
        "outputId": "8ce925af-5b1e-4efa-b5cf-6ff3659ae8c5"
      },
      "execution_count": 6,
      "outputs": [
        {
          "output_type": "stream",
          "name": "stderr",
          "text": [
            "Setting `pad_token_id` to `eos_token_id`:50256 for open-end generation.\n",
            "Setting `pad_token_id` to `eos_token_id`:50256 for open-end generation.\n",
            "Setting `pad_token_id` to `eos_token_id`:50256 for open-end generation.\n",
            "Setting `pad_token_id` to `eos_token_id`:50256 for open-end generation.\n",
            "Setting `pad_token_id` to `eos_token_id`:50256 for open-end generation.\n",
            "Setting `pad_token_id` to `eos_token_id`:50256 for open-end generation.\n",
            "Setting `pad_token_id` to `eos_token_id`:50256 for open-end generation.\n",
            "Setting `pad_token_id` to `eos_token_id`:50256 for open-end generation.\n",
            "Setting `pad_token_id` to `eos_token_id`:50256 for open-end generation.\n",
            "Setting `pad_token_id` to `eos_token_id`:50256 for open-end generation.\n",
            "Setting `pad_token_id` to `eos_token_id`:50256 for open-end generation.\n"
          ]
        }
      ]
    },
    {
      "cell_type": "code",
      "source": [
        "import pandas as pd\n",
        "data=pd.read_csv(\"nwp.csv\")\n",
        "data['gpt-1.3B']=varied_text5.values()\n",
        "data.to_csv(\"nwp.csv\",index=False)"
      ],
      "metadata": {
        "id": "7hDyNSB8l-cT"
      },
      "execution_count": 7,
      "outputs": []
    },
    {
      "cell_type": "markdown",
      "source": [
        "**xlnet-base-cased** **467MB**\n"
      ],
      "metadata": {
        "id": "bsXpZSRGHpp8"
      }
    },
    {
      "cell_type": "code",
      "source": [
        "m8=AutoModelForCausalLM.from_pretrained('xlnet-base-cased')\n",
        "t8=AutoTokenizer.from_pretrained('xlnet-base-cased')"
      ],
      "metadata": {
        "colab": {
          "base_uri": "https://localhost:8080/",
          "height": 177,
          "referenced_widgets": [
            "8b969926f1d04827802a71ec08da3312",
            "41d27f4c7f874f43a57e56601c4a8b70",
            "7a16f419435641eeac308812414545f4",
            "fbf4e98212a049518cfc35e8dd362842",
            "6995afa2544a434e8edb80c1d2a94072",
            "550d2dc3120c40c3806fea1d7325d165",
            "29e6f6cd708349d8b5f00d3a90ec30a8",
            "f41e13f4ff624a24a62d2acb69e1bbd5",
            "93daa2f093da44f5a0849762ffcfb9c5",
            "f7e607fa028648fbb8ec492211e9f440",
            "9b7320366eb74d8ea6900cae79ed0a53",
            "511d424a61134628958d4d96788f7aef",
            "cb644659d14a4a7b8500fdecd4d51015",
            "93a512625e1a4d5a989f97174a6c89e0",
            "871d9e329f054ba080d70a7d6ae7aed3",
            "f46117c9f4bb41489a5027b9d2d58d95",
            "d6662e26184240f6a1e3ab9e8dffb86c",
            "092a0e9d0bd848f48f30e0f5273869fa",
            "057589631223482094360f148e81ceb3",
            "c271cbd3fcc341db8c1f63ab18f1b316",
            "876c30ba9ad04ef5977ae0616c65b78e",
            "000b87b0636f41cfbbb78078371735b8",
            "5126a24694014a708eb2d68c6419189c",
            "bc619ea6f2264a93bcda8d42fda20799",
            "cae95fc3707640e68df575db5d445f5a",
            "f116a9b9b0ec468a941ec352da67b7f2",
            "e534c86d78eb4512a12f9eee420a0593",
            "0e7f35c0879d4107a19cd892cb0c8752",
            "32a20958f87349c2901f80ffcc0e3892",
            "97d72cd869b24319beb25fac917cbf19",
            "bcdca3e152a54102bf1c13858960e8fd",
            "d5bf69d2b1c14f06a1c0368ecdb7fd9b",
            "ef5bd67b6dba4b40990fe057b59910a4",
            "5bc7254db99043b9a8a6eddfb82fd8c5",
            "be5286f85be3487593c0c09852c278ef",
            "2d02b6cb2d7348b1b0dde9f4d8c1ed79",
            "77485e6acfbc4934bf0ef4636d64c15b",
            "bc90047d44274888b4d1711d63770836",
            "abe5896b489b4c51adea2ababccb0bdc",
            "e37041ed0f8a45a38530307de3b69222",
            "f7cbf7da85414cf4bc8ab0c6b949574a",
            "1e05f0153c604f5d955d91225da0482a",
            "20b6048b47e64d6788e0ee9098f14ab9",
            "9e03edd8d5b842268fdb36277ff4c91d",
            "011e7fd2a914443d8814b6a7abb1d241",
            "6b01691a1a29445780f51ce35fa54900",
            "4f568074f76a40d88f6a39f82633f928",
            "5330c85348ee44af866e8780243a9c72",
            "5f90d8cb74bb41dba990486b706d86c7",
            "c8603084c6414ddcb7ed3db4cbe3a069",
            "f1b87c90ae4a4d06983c7f85cf05392f",
            "4353ea6b206a4da3af729fcae034c290",
            "96ea830b53b74a049d83b34245f23ad6",
            "b68240091715472d92fd2548d72e37b6",
            "fc536adb27f54e64b2fda15c0d48658c"
          ]
        },
        "id": "1KSOl_qKHomh",
        "outputId": "36023eaa-083d-452d-c0ea-725aa0a9decb"
      },
      "execution_count": 8,
      "outputs": [
        {
          "output_type": "display_data",
          "data": {
            "text/plain": [
              "Downloading (…)lve/main/config.json:   0%|          | 0.00/760 [00:00<?, ?B/s]"
            ],
            "application/vnd.jupyter.widget-view+json": {
              "version_major": 2,
              "version_minor": 0,
              "model_id": "8b969926f1d04827802a71ec08da3312"
            }
          },
          "metadata": {}
        },
        {
          "output_type": "display_data",
          "data": {
            "text/plain": [
              "Downloading pytorch_model.bin:   0%|          | 0.00/467M [00:00<?, ?B/s]"
            ],
            "application/vnd.jupyter.widget-view+json": {
              "version_major": 2,
              "version_minor": 0,
              "model_id": "511d424a61134628958d4d96788f7aef"
            }
          },
          "metadata": {}
        },
        {
          "output_type": "display_data",
          "data": {
            "text/plain": [
              "Downloading (…)neration_config.json:   0%|          | 0.00/137 [00:00<?, ?B/s]"
            ],
            "application/vnd.jupyter.widget-view+json": {
              "version_major": 2,
              "version_minor": 0,
              "model_id": "5126a24694014a708eb2d68c6419189c"
            }
          },
          "metadata": {}
        },
        {
          "output_type": "display_data",
          "data": {
            "text/plain": [
              "Downloading (…)ve/main/spiece.model:   0%|          | 0.00/798k [00:00<?, ?B/s]"
            ],
            "application/vnd.jupyter.widget-view+json": {
              "version_major": 2,
              "version_minor": 0,
              "model_id": "5bc7254db99043b9a8a6eddfb82fd8c5"
            }
          },
          "metadata": {}
        },
        {
          "output_type": "display_data",
          "data": {
            "text/plain": [
              "Downloading (…)/main/tokenizer.json:   0%|          | 0.00/1.38M [00:00<?, ?B/s]"
            ],
            "application/vnd.jupyter.widget-view+json": {
              "version_major": 2,
              "version_minor": 0,
              "model_id": "011e7fd2a914443d8814b6a7abb1d241"
            }
          },
          "metadata": {}
        }
      ]
    },
    {
      "cell_type": "code",
      "source": [
        "text=\"You want to predict the results,store them, so that the team\"\n",
        "symbols=[\",\",'.','-','/',\"#\",\"!\",\"&\",\"~\"]\n",
        "tokens=t8(text,return_tensors='pt')\n",
        "varied_text8,outputs={},[]\n",
        "for i in range(3,len(tokens['input_ids'][0])):\n",
        "  max_length=len(tokens['input_ids'][0][0:i])+1\n",
        "  mask=tokens['attention_mask'][0][0:i].reshape(1,i)\n",
        "  ids=tokens['input_ids'][0][0:i].reshape(1,i)\n",
        "  x=m8.generate(attention_mask=mask,input_ids=ids,do_sample=True,num_return_sequences=3,temperature=0.9,output_scores=False,max_length=max_length,min_length=1, num_beams=4,top_k=50)\n",
        "  a=t8.batch_decode(ids)\n",
        "  p=''\n",
        "  for j in a:\n",
        "    p=p+j+' '\n",
        "  for i in t8.batch_decode(x):\n",
        "    for j[len(a[0]):].split() in i:\n",
        "      if(j in symbols):\n",
        "        pass\n",
        "      else:\n",
        "        varied_text8[p]=b\n",
        "  # max_length=len(tokens['input_ids'][0:i])+2\n",
        "  # output.append(tokenizer.batch_decode(model.generate(attention_mask=tokens['attention_mask'],input_ids=tokens['input_ids'],do_sample=True,num_return_sequences=3,temperature=0.9,output_scores=True,max_length=max_length,min_length=1,num_beams=2,top_k=50)))"
      ],
      "metadata": {
        "id": "8_rFttFKINz5"
      },
      "execution_count": 31,
      "outputs": []
    },
    {
      "cell_type": "code",
      "source": [
        "for i in b:\n",
        "  for j in i.split():\n",
        "    if(j in symbols):\n",
        "      pass\n",
        "    else:\n",
        "      varied_text8[p]=b"
      ],
      "metadata": {
        "colab": {
          "base_uri": "https://localhost:8080/"
        },
        "id": "6Kjotp0DKBCT",
        "outputId": "32c84cd2-bffd-439f-d3d2-bec73895002c"
      },
      "execution_count": 25,
      "outputs": [
        {
          "output_type": "execute_result",
          "data": {
            "text/plain": [
              "['You want to predict the results,store them, so that the team<sep> will',\n",
              " 'You want to predict the results,store them, so that the team<sep> will',\n",
              " 'You want to predict the results,store them, so that the team<sep> will',\n",
              " 'You want to predict the results,store them, so that the team<sep> will',\n",
              " 'You want to predict the results,store them, so that the team<sep> will']"
            ]
          },
          "metadata": {},
          "execution_count": 25
        }
      ]
    },
    {
      "cell_type": "code",
      "source": [
        "varied_text8"
      ],
      "metadata": {
        "colab": {
          "base_uri": "https://localhost:8080/"
        },
        "id": "ziR8-c0iRZad",
        "outputId": "f0e98db2-1f7b-432a-b6ec-ef220db7265a"
      },
      "execution_count": 30,
      "outputs": [
        {
          "output_type": "execute_result",
          "data": {
            "text/plain": [
              "{}"
            ]
          },
          "metadata": {},
          "execution_count": 30
        }
      ]
    },
    {
      "cell_type": "code",
      "source": [
        "import re\n",
        "re.sub('[^A-Za-z]','',t8.batch_decode(x)[0][len(a[0]):].split())"
      ],
      "metadata": {
        "colab": {
          "base_uri": "https://localhost:8080/"
        },
        "id": "IWA6JfGAJNzi",
        "outputId": "6a7d1e80-afd6-4c09-ec3b-e8f473ea12bb"
      },
      "execution_count": 14,
      "outputs": [
        {
          "output_type": "execute_result",
          "data": {
            "text/plain": [
              "['will']"
            ]
          },
          "metadata": {},
          "execution_count": 14
        }
      ]
    },
    {
      "cell_type": "code",
      "source": [
        "t8.batch_decode(x)[0][len(a[0]):]"
      ],
      "metadata": {
        "colab": {
          "base_uri": "https://localhost:8080/",
          "height": 37
        },
        "id": "jlfJrTuwJ4i1",
        "outputId": "965c9052-c59c-4afc-da78-aaf86afdaa6d"
      },
      "execution_count": 15,
      "outputs": [
        {
          "output_type": "execute_result",
          "data": {
            "text/plain": [
              "' will'"
            ],
            "application/vnd.google.colaboratory.intrinsic+json": {
              "type": "string"
            }
          },
          "metadata": {},
          "execution_count": 15
        }
      ]
    },
    {
      "cell_type": "code",
      "source": [
        "varied_text8"
      ],
      "metadata": {
        "colab": {
          "base_uri": "https://localhost:8080/"
        },
        "id": "s7nuh-xEIuwp",
        "outputId": "4df97429-9f74-4d11-88df-17d12a7e55e8"
      },
      "execution_count": 11,
      "outputs": [
        {
          "output_type": "execute_result",
          "data": {
            "text/plain": [
              "{'You want to ': ' want',\n",
              " 'You want to predict ': ' to',\n",
              " 'You want to predict the ': ' the',\n",
              " 'You want to predict the results ': ' results',\n",
              " 'You want to predict the results, ': ',',\n",
              " 'You want to predict the results,store ': ' you',\n",
              " 'You want to predict the results,store them ': ' down',\n",
              " 'You want to predict the results,store them, ': ' or',\n",
              " 'You want to predict the results,store them, so ': ' you',\n",
              " 'You want to predict the results,store them, so that ': ' you',\n",
              " 'You want to predict the results,store them, so that the ': ' so',\n",
              " 'You want to predict the results,store them, so that the team ': '-',\n",
              " 'You want to predict the results,store them, so that the team<sep> ': ' will'}"
            ]
          },
          "metadata": {},
          "execution_count": 11
        }
      ]
    },
    {
      "cell_type": "code",
      "source": [
        "import pandas as pd\n",
        "data=pd.read_csv(\"nwp.csv\")\n",
        "data['xlnet-base-cased']=varied_text8.values().T\n",
        "data.to_csv(\"nwp.csv\",index=False)"
      ],
      "metadata": {
        "id": "BUhz904pIhTy"
      },
      "execution_count": null,
      "outputs": []
    },
    {
      "cell_type": "markdown",
      "source": [
        "**ai-forever/mGPT**  **3.45GB**"
      ],
      "metadata": {
        "id": "eGMYSqRHJ6Gg"
      }
    },
    {
      "cell_type": "code",
      "source": [
        "m4=AutoModelForCausalLM.from_pretrained('ai-forever/mGPT')\n",
        "t4=AutoTokenizer.from_pretrained('ai-forever/mGPT')"
      ],
      "metadata": {
        "colab": {
          "base_uri": "https://localhost:8080/",
          "height": 81,
          "referenced_widgets": [
            "312311f3a42e47c88a124029a9ad98f7",
            "232c74411a3c4f8b97ff832f28a63111",
            "a44bede3d9494440a85c6a221ed5ffe2",
            "08479e6371b44b93ad4aa9da14c1867a",
            "b3e4eebb4b2640339e0bf06a82e3eae3",
            "17226c057d11419db0dd515c7a75c973",
            "923af9ef9d23488e926f68e27237cdb1",
            "7add01cb4e4b4cce8df6bf030d28cab4",
            "946d22ebc25c4a9e9b2375bfed7e5046",
            "dbec0081d88d4db1becb620e4eeadb2b",
            "d8a0cedce70b4668bfc63a161dc5c88a",
            "fc622188f0e54e54839de187f78f1ca7",
            "7284b7d8608a4ac391dd3cbbe5aa8176",
            "f37e59e58e1b423cae5b51c9e945818d",
            "c562f3fcd56a454a9f5399fef119e342",
            "29574e2fd20c4011a8325c543abb8774",
            "678cf1f6f9984d5384bd037d6e4d602c",
            "624012df34b74c01839c906c8d0ecc28",
            "aa53a8613336415dba1d732cf3c32ab4",
            "fd646a8e09114bf4b26aa9ecc986537c",
            "c4aa703f528a494080f5b35d2630f34c",
            "84aa6173dde446988e9d9f2fbd67a4d8"
          ]
        },
        "id": "JdwmSSL5JWTa",
        "outputId": "5b0e36fb-5517-4fca-ddbc-d5733d7c30b5"
      },
      "execution_count": null,
      "outputs": [
        {
          "output_type": "display_data",
          "data": {
            "text/plain": [
              "Downloading (…)olve/main/vocab.json:   0%|          | 0.00/1.89M [00:00<?, ?B/s]"
            ],
            "application/vnd.jupyter.widget-view+json": {
              "version_major": 2,
              "version_minor": 0,
              "model_id": "312311f3a42e47c88a124029a9ad98f7"
            }
          },
          "metadata": {}
        },
        {
          "output_type": "display_data",
          "data": {
            "text/plain": [
              "Downloading (…)olve/main/merges.txt:   0%|          | 0.00/1.20M [00:00<?, ?B/s]"
            ],
            "application/vnd.jupyter.widget-view+json": {
              "version_major": 2,
              "version_minor": 0,
              "model_id": "fc622188f0e54e54839de187f78f1ca7"
            }
          },
          "metadata": {}
        }
      ]
    },
    {
      "cell_type": "code",
      "source": [
        "text=\"You want to predict the results,store them, so that the team\"\n",
        "tokens=t4(text,return_tensors='pt')\n",
        "varied_text3,outputs={},[]\n",
        "for i in range(3,len(tokens['input_ids'][0])):\n",
        "  max_length=len(tokens['input_ids'][0][0:i])+1\n",
        "  mask=tokens['attention_mask'][0][0:i].reshape(1,i)\n",
        "  ids=tokens['input_ids'][0][0:i].reshape(1,i)\n",
        "  x=m4.generate(attention_mask=mask,input_ids=ids,do_sample=True,num_return_sequences=3,temperature=0.9,output_scores=False,max_length=max_length,min_length=1, num_beams=2,top_k=1)\n",
        "  a=t4.batch_decode(ids)\n",
        "  b=np.unique(t4.batch_decode(x))[0][len(a[0]):]\n",
        "  p=''\n",
        "  for j in a:\n",
        "    p=p+j+' '\n",
        "  varied_text3[p]=b\n",
        "  # max_length=len(tokens['input_ids'][0:i])+2\n",
        "  # output.append(tokenizer.batch_decode(model.generate(attention_mask=tokens['attention_mask'],input_ids=tokens['input_ids'],do_sample=True,num_return_sequences=3,temperature=0.9,output_scores=True,max_length=max_length,min_length=1,num_beams=2,top_k=50)))"
      ],
      "metadata": {
        "id": "YWcU5AWZlNs6"
      },
      "execution_count": null,
      "outputs": []
    },
    {
      "cell_type": "code",
      "source": [
        "# t4.pad_token_id=t4.eos_token_id\n",
        "# text='You want to predict the results,store them,'# so that the team'"
      ],
      "metadata": {
        "id": "E4AHoJOcJWWj"
      },
      "execution_count": null,
      "outputs": []
    },
    {
      "cell_type": "code",
      "source": [
        "# start=time.time()\n",
        "# input=t4(text,return_tensors='pt')\n",
        "# output=m4.generate(attention_mask=input['attention_mask'],input_ids=input['input_ids'],do_sample=True,num_return_sequences=3,temperature=0.1,output_scores=True,max_length=len(input[0])+2,min_length=1,num_beams=2,top_k=5)\n",
        "\n",
        "# print(\"#########################################################\\n\\n\")\n",
        "\n",
        "# words=[]\n",
        "# for i in range(len(output)):\n",
        "#   words.append(t4.batch_decode(output)[i][len(text):])\n",
        "# print(np.unique(words))\n",
        "# end=time.time()\n",
        "# print(\"Time taken:\",end-start)"
      ],
      "metadata": {
        "colab": {
          "base_uri": "https://localhost:8080/"
        },
        "id": "rCzX4OqYJWZ7",
        "outputId": "3d78cde2-85c1-4f16-c62a-30b6158e685c"
      },
      "execution_count": null,
      "outputs": [
        {
          "output_type": "stream",
          "name": "stderr",
          "text": [
            "Setting `pad_token_id` to `eos_token_id`:50256 for open-end generation.\n"
          ]
        },
        {
          "output_type": "stream",
          "name": "stdout",
          "text": [
            "#########################################################\n",
            "\n",
            "\n",
            "[' and then']\n",
            "Time taken: 6.951680898666382\n"
          ]
        }
      ]
    },
    {
      "cell_type": "code",
      "source": [
        "#preprocessing required,\n",
        "#remove white spaces in the end or begin\n",
        "#remove special numbers or symbols"
      ],
      "metadata": {
        "id": "pnwYY8lBh5ey"
      },
      "execution_count": null,
      "outputs": []
    },
    {
      "cell_type": "code",
      "source": [
        "from tensorflow.keras.layers import Embedding,Dense,LSTM,Flatten,Bidirectional\n",
        "from tensorflow.keras.models import Sequential"
      ],
      "metadata": {
        "id": "9FrUMyTa8IA7"
      },
      "execution_count": null,
      "outputs": []
    },
    {
      "cell_type": "code",
      "source": [
        "#glove embedding weight matrix\n",
        "!wget http://nlp.stanford.edu/data/glove.6B.zip\n",
        "!unzip glove*.zip\n",
        "!ls\n",
        "!pwd"
      ],
      "metadata": {
        "colab": {
          "base_uri": "https://localhost:8080/"
        },
        "id": "dwNfCvVkAbMa",
        "outputId": "d248af4c-5fd3-4be5-c492-59e16e1034dd"
      },
      "execution_count": null,
      "outputs": [
        {
          "output_type": "stream",
          "name": "stdout",
          "text": [
            "--2023-04-12 09:00:58--  http://nlp.stanford.edu/data/glove.6B.zip\n",
            "Resolving nlp.stanford.edu (nlp.stanford.edu)... 171.64.67.140\n",
            "Connecting to nlp.stanford.edu (nlp.stanford.edu)|171.64.67.140|:80... connected.\n",
            "HTTP request sent, awaiting response... 302 Found\n",
            "Location: https://nlp.stanford.edu/data/glove.6B.zip [following]\n",
            "--2023-04-12 09:00:58--  https://nlp.stanford.edu/data/glove.6B.zip\n",
            "Connecting to nlp.stanford.edu (nlp.stanford.edu)|171.64.67.140|:443... connected.\n",
            "HTTP request sent, awaiting response... 301 Moved Permanently\n",
            "Location: https://downloads.cs.stanford.edu/nlp/data/glove.6B.zip [following]\n",
            "--2023-04-12 09:00:58--  https://downloads.cs.stanford.edu/nlp/data/glove.6B.zip\n",
            "Resolving downloads.cs.stanford.edu (downloads.cs.stanford.edu)... 171.64.64.22\n",
            "Connecting to downloads.cs.stanford.edu (downloads.cs.stanford.edu)|171.64.64.22|:443... connected.\n",
            "HTTP request sent, awaiting response... 200 OK\n",
            "Length: 862182613 (822M) [application/zip]\n",
            "Saving to: ‘glove.6B.zip’\n",
            "\n",
            "glove.6B.zip        100%[===================>] 822.24M  5.01MB/s    in 2m 38s  \n",
            "\n",
            "2023-04-12 09:03:37 (5.19 MB/s) - ‘glove.6B.zip’ saved [862182613/862182613]\n",
            "\n",
            "Archive:  glove.6B.zip\n",
            "  inflating: glove.6B.50d.txt        \n",
            "  inflating: glove.6B.100d.txt       \n",
            "  inflating: glove.6B.200d.txt       \n",
            "  inflating: glove.6B.300d.txt       \n",
            "glove.6B.100d.txt  glove.6B.300d.txt  glove.6B.zip\n",
            "glove.6B.200d.txt  glove.6B.50d.txt   sample_data\n",
            "/content\n"
          ]
        }
      ]
    },
    {
      "cell_type": "code",
      "source": [
        "embeddings_index={}\n",
        "f=open('./glove.6B.50d.txt',encoding='utf-8')\n",
        "for line in f:\n",
        "  values=line.split()\n",
        "  word=values[0]\n",
        "  coeffs=values[1:]\n",
        "  embeddings_index[word]=coeffs"
      ],
      "metadata": {
        "id": "p9A2KbkyA8v3"
      },
      "execution_count": null,
      "outputs": []
    },
    {
      "cell_type": "code",
      "source": [
        "import pandas as pd\n",
        "import numpy as np"
      ],
      "metadata": {
        "id": "lGYMDwpvDFUK"
      },
      "execution_count": null,
      "outputs": []
    },
    {
      "cell_type": "code",
      "source": [
        "#input data prep\n",
        "wd=[]\n",
        "with open('./embed-test.txt','rb') as f:\n",
        "   data = f.read().decode('iso-8859-1')"
      ],
      "metadata": {
        "id": "Ry_mslcsAbPO"
      },
      "execution_count": null,
      "outputs": []
    },
    {
      "cell_type": "code",
      "source": [
        "data"
      ],
      "metadata": {
        "colab": {
          "base_uri": "https://localhost:8080/",
          "height": 161
        },
        "id": "ksx79UMBFjAL",
        "outputId": "9438fa99-4515-4823-bd4d-00f0d650648f"
      },
      "execution_count": null,
      "outputs": [
        {
          "output_type": "execute_result",
          "data": {
            "text/plain": [
              "'Group 1: \\r\\n\\r\\nFor Each Option Story: \\r\\n\\r\\n1.a) Simple, logical and rational problems: The problem is categorized as \\x93Simple, logical and rational (there exists a known process/formula to solve the problem\\x94, i.e; the solution to the problem can be found by following the known methods/formula that are available. For example, will it rain tomorrow, which team might win the tournament, ensure that your business problem precisely falls under one of these buckets. If your business problem statement has a much larger scope, you are better off dividing the problem into smaller parts and solving it one at a time. The efficiency of the solution can be increased by collecting historical data on similar problems and analyzing them thoroughly. As a result, the derived solution would greatly benefit the end-users and aid them in their responsibilities. \\r\\n\\r\\n1.b) Complex, logical and rational (there is no known process/formula): The problem is categorized as \"Complex, logical and rational but not the First Principle\", i.e.; the problem makes sense and is reasonable to consider but there is no known way to solve it yet. For example, will a machine fail in the next 1 hour, will a customer churn next month, classify whether the given input images are classified correctly, ensure that your business problem precisely falls under one of these buckets. If your business problem statement has a much larger scope, you are better off dividing the problem into smaller parts and solving it one at a time. AI/ML systems can automate most of the human work or provide very powerful decision-making. Focus on collecting historical data for business problems. As a result, a solution must be derived through further analysis. The proposed solution will benefit the end-users and aid them in their responsibilities. \\r\\n\\r\\n1.c) Emotional, strategic, legal, and ethical: The problem is classified as \"emotional, strategic, legal, and ethical,\" which means that the solution must be created with an eye towards the emotional, strategic, legal, and ethical stances that would assist the company develop rather than get it into problems. There shouldn\\'t be any emotional influences on the decision-making process while adopting or developing any strategy to solve the problem. Emotional effects lead people to prioritize their sentiments and intuition over rationality, which is detrimental to any organization. Take the example of firing a worker. On the other hand, a strategic approach entails assessing the current situation, spotting potential opportunities and risks, and selecting a course of action that is in line with the organization\\'s goals and objectives, just as in the case of customer churn, where data is used to make informed decisions. The issue and its resolution shouldn\\'t raise any legal questions that could get the company into trouble. For instance, giving equal consideration during the recruiting process to all job applicants, regardless of caste, gender, or age. Whatever ideals, morals, or principles that you or society may hold yourself and your organization to are ethical practices. Any action that would conflict with this collection of actions would raise ethical concerns. An ethical dilemma arises, for instance, when a person\\'s race or ethnicity is considered to recommend a certain product or a higher price. These procedures are required to arrive at the best possible solution to the issue. The end-users would so considerably benefit from and be helped in their duties by the derived solution. \\r\\n\\r\\n \\r\\n\\r\\n3.a) Our application assists our employee/customer take a better decision: The end user of the application will use this AI/ML model for decision support or automation. As the business problem is used to \\x93assist your employee/customer take a better decision\\x94, it comes under the decision support category. Decision support applications assist humans/teams who will decide what to do with the result/solution. While working on a decision support application one should focus on explain ability or accuracy of the application. If you prioritize explainability, the AI/ML model focuses on how well it can explain its answers. If you prioritize accuracy, the model focuses on minimizing total error by finding the right balance between bias and variance, for example, \\r\\n\\r\\n                   \\r\\n\\r\\n3.b) Our application automates the task: The end user of the application will use this AI/ML model for decision support or automation. Automation helps the business to operate efficiently and will reduce the workload on employees who will be required to monitor the process and suggest further changes if required. \\r\\n\\r\\n                 \\r\\n\\r\\n \\r\\n\\r\\n5.1.a) Predict a Future Behavior: As this model will be used for predicting future behavior. In this, we define a relationship between a discrete target variable and several independent variables using classification strategy. For instance, identifying a sample email as spam or not.   \\r\\n\\r\\n5.1.b) Predict a Future Value: As this model will be used for predicting future value. This can be considered as regression. In this we need to find the association between a continuous target variable and multiple independent variables is described by regression. For example, predicting house prices, a continuous attribute, is a regression problem. \\r\\n\\r\\n \\r\\n\\r\\n5.2.a) What happened in the past: The data used in this problem is time series data. This is the series of data points that are indexed using time order. Time series works on known history of target values. \\r\\n\\r\\n5.2.b) Decisions taken in the past: The data used in this problem is causal data. This is the data that is collected with the aim of establishing a cause-and-effect relationship between variables. Causal data is used to determine whether changes in one variable directly influence changes in another variable. \\r\\n\\r\\n5.2.c) Hybrid: The data used in this problem is hybrid data, which is a combination of various data types such as datetime, integer, float, category, object, and string.    \\r\\n\\r\\n \\r\\n\\r\\n5.3.a) Rare event: We must understand the problem\\'s frequency of occurrence for better comprehension. By its definition, it can be precisely determined that it is a rare event that deviates from typical patterns and is regarded as an anomaly. Further, an anomaly is an uncommon event that deviates from regular patterns. Extreme class imbalance is discovered in the discrete target variable of such problems, that lead to the development of a unique technique called anomaly detection method. The method is useful in these circumstances. \\r\\n\\r\\n5.2.b) Regular event: We must understand the problem\\'s frequency of occurrence for better comprehension. As you selected it\\x92s a regular event. When the target variable is discrete and class balance is maintained, such an event is termed Regular Event. \\r\\n\\r\\n \\r\\n\\r\\n5.3.a) Do you want to learn any insights present in your data? - Yes \\r\\n\\r\\nAs you want to learn insight from your data which is unsupervised learning. Datasets under this methodology contain only independent variables and no dependent variable. These algorithms discover hidden patterns without human intervention. Here we are dealing clustering problem, Clustering is an unsupervised learning methodology used on datasets with unlabeled data where similar datapoints are grouped and clusters are formed. \\r\\n\\r\\n5.4.a) Do you have several options for a solution and want help in picking the best option? - Yes \\r\\n\\r\\nAs you have several options and you want to pick the best option from them, this can be achieved using the recommendation system. This uses data to suggest or recommend products to consumers based on various criteria, including past purchases, search history, and demographic information. For example, e-commerce marketplaces and streaming applications use recommendation systems. \\r\\n\\r\\n \\r\\n\\r\\n6.a) A human expert decides: The current method of handling the issue involves a human expert who decides based on the information at hand and their prior experience in similar circumstances. This group includes decisions that are motivated by emotions and values. To solve the problem, the human expert may follows several essential steps such as gathering relevant data or information, examining it to understand the underlying factors contributing to the problem, creating effective solutions, putting the solution into action, measuring its effectiveness, refining it to improve results, and sharing the results of implementation and evaluation with stakeholders are all critical steps in problem-solving. \\r\\n\\r\\n> The current method of handling the issue involves a human expert who decides based on the information at hand and their prior experience in similar circumstances. This group includes decisions that are motivated by emotions and values. An illustration would be a product expert who examines manufactured goods before releasing them onto the market.  \\r\\n\\r\\n6.b) We have an existing data science model that does the required work: As you mentioned, you already have existing AI/ML model for prediction, this means we can improve your AI/ML model prediction using below steps:  \\r\\n\\r\\nCollect more data samples \\r\\n\\r\\nExploratory Data Analysis and Data cleaning is recommended before re-training/ training the AI/ML model. \\r\\n\\r\\nTrain the AI/ML model and finetune the hyperparameter.  \\r\\n\\r\\nIf the error rate is higher on the re-training/training AI/ML models, then experimenting with a different AI/ML model is recommended. \\r\\n\\r\\n6.c) We are doing this for the first time; so, no known solution: Since the company is tackling the issue for the first time, there isn\\'t a currently known answer to it. When a problem initially occurs, is unique or particularly different, and is still in its infancy, it is said to be the first of its kind. For instance, a potential issue that can surface in a young business developing a novel AI product. Solving a problem for the first time using an ML/AI model can be challenging due to several factors. These include a lack of data, selecting the appropriate model, avoiding overfitting or underfitting, interpretability, and ethical considerations. Careful consideration of these challenges can help ensure that the model is effective, accurate, and ethical, and that it provides meaningful solutions to complex problems. \\r\\n\\r\\n \\r\\n\\r\\n> Since the company is tackling the issue for the first time, there isn\\'t a current answer, thus there isn\\'t one either. When a problem initially occurs, is unique or particularly different, and is still in its infancy, it is said to be the first of its kind. For instance, a potential issue that can surface in a young business developing a novel AI product \\r\\n\\r\\n*************************************************************************************Group 3: \\r\\n\\r\\nSize of Data: \\r\\n\\r\\nBig Data: Big Data refers to large and complex datasets that require advanced data processing tools and techniques such as Hadoop(software framework that is used to store and process large and complex datasets), NoSQL databases(type of database that is designed to handle unstructured and semi-structured data and able to scale up), MapReduce(programming model that is used to process large datasets in parallel across distributed clusters of computers), data lakes(used to store large datasets in their raw and unprocessed form), and stream processing(can process and analyze high velocity data). It is characterized by its volume(refers to the sheer size of the dataset), velocity(refers to the speed at which the data is generated and needs to be processed), and variety(refers to the diverse and complex nature of the data), and typically includes data from various sources such as social media, sensors, and transactional systems. For example, social media data, such as Twitter feeds, Facebook posts, and Instagram images.  \\r\\n\\r\\nSkill and Infrastructure: To handle Big data you need distributed file systems like Hadoop and Spark, NoSQL databases like MongoDB and Cassandra, and data warehousing solutions like Amazon Redshift and Google BigQuery. And to handle big data one should have skill like data wrangling, data cleaning, statistical analysis, machine learning, and programming languages like Python, R, and SQL are essential and knowledge regarding cloud computing, data visualization, and data security and compliance is necessary. \\r\\n\\r\\nMedium Data: Medium Data refers to data sets that are smaller and less complex than Big Data but still require specialized tools and techniques to process and analyze. Medium Data is typically generated by businesses and organizations and may include customer data, marketing data, and financial data. For example: Customer data, such as demographic information, purchasing history, and website behavior  \\r\\n\\r\\nSkill and Infrastructure: Essential tools for handling medium-sized data include traditional relational databases like MySQL and PostgreSQL, as well as data processing and visualization tools like Tableau, Microsoft Excel, and Google Sheets are required. And skills needed to handle this kind of data are data cleaning and wrangling, basic statistical analysis, and programming languages like SQL and Python. \\r\\n\\r\\nSmall Data: Small Data refers to datasets that are relatively small and easy to manage using traditional data processing tools and techniques such as. Small Data is typically generated by individuals and small businesses and may include personal data, project data, and sales data. For example: Personal data, such as contact lists, calendar appointments, and fitness tracking data \\r\\n\\r\\nSkill and Infrastructure: Essential tools for working with small data include statistical software like SPSS and SAS, spreadsheets like Microsoft Excel or Google Sheets, and databases like Microsoft Access or MySQL. And skills needed to handle this kind of data are data cleaning and wrangling, basic statistical analysis, and programming languages like SQL and Python. \\r\\n\\r\\n \\r\\n\\r\\nType of Data: \\r\\n\\r\\nStructured: Structured data refers to data that is highly organized and follows a specific format or schema. Structured data is typically stored in databases or spreadsheets and can be easily processed and analyzed using traditional data analysis tools and techniques. Structured data is characterized by its consistency and predictability, which makes it easier to extract meaning from it. For example: Sales data, such as customer names, dates of purchase, and product information \\r\\n\\r\\nSkill and Infrastructure: To handle structured data effectively. One needs to have a solid understanding of SQL, which is the standard language used to query and manipulate structured data. Additionally, you should be proficient in using tools such as Excel and Google Sheets to analyze and visualize data. And Knowledge of data warehousing tools like Oracle, IBM DB2, and Microsoft SQL Server can also be helpful. Knowledge regarding data modeling, database design, and data normalization concepts is essential. And also one should be proficiency in programming languages like Python, R, or Java can be useful when working with large amounts of structured data. \\r\\n\\r\\nUnstructured or Mildly Hybrid: Unstructured data refers to data that has no pre-defined format or structure. Unstructured data is typically generated by humans and is often in the form of text, audio, or video. Unstructured data can be challenging to process and analyze using traditional data analysis tools, as it requires natural language processing and machine learning techniques to extract meaning from it. For example: Video and audio data, such as recorded interviews and phone calls. \\r\\n\\r\\nSkill and Infrastructure: To handle unstructured data effectively, one need to have a solid understanding of programming languages like Python, Java, or R. Additionally, you should be proficient in using tools such as Apache Hadoop, Apache Spark to process, analyze, and manage unstructured data. Knowledge of NoSQL databases like MongoDB, Cassandra, and Couchbase can also be helpful, as they are designed to store and manage unstructured data. And familiarity with natural language processing (NLP) techniques and machine learning algorithms can be useful when working with unstructured data sources like text, images, and videos. \\r\\n\\r\\nHybrid or Complex: Hybrid data refers to data that contains both structured and unstructured data elements. Hybrid data can be generated by a variety of sources, including IoT devices, social media platforms, and web applications. Hybrid data requires specialized tools and techniques to process and analyze, as it often contains a mix of text, numerical data, and multimedia content. For example: Customer feedback data, such as survey responses and social media comments. \\r\\n\\r\\nSkill and Infrastructure: To handle hybrid data, you need to have a solid understanding of both structured and unstructured data, as well as the tools and skills required to work with them. Some of the essential tools are data integration tools such as Apache Kafka, Apache NiFi, and Talend. Natural Language Processing (NLP) tools such as NLTK, Spacy, and Gensim. Machine learning tools Examples: scikit-learn, TensorFlow, and PyTorch. Data visualization tools examples include Tableau, Power BI, and QlikView. To effectively handle hybrid data, you need to have a strong understanding of data governance, data security, and compliance requirements. \\r\\n\\r\\n \\r\\n\\r\\nNature of Data: \\r\\n\\r\\nCausal: Causal data refers to data that shows a cause-and-effect relationship between two or more variables. In other words, changes in one variable cause changes in another variable. Causal data is typically collected through experiments or observational studies and is used to make predictions and understand the underlying mechanisms of a system. For example: A marketing campaign that measures the effect of a new advertisement on sales \\r\\n\\r\\nSkill and Infrastructure: To handle causal data effectively, a strong understanding of statistics and causal inference is essential, as this will enable you to identify causal relationships within the data. In addition, you need to have knowledge about Python packages like \"causal inference\" or \"DoWhy\". \\r\\n\\r\\nTime Series: Time series data refers to data that is collected over time at regular intervals. Time series data is used to analyze trends and patterns in data, as well as to make predictions about future values. Time series data is often used in finance, economics, and environmental science. For example: Stock market prices over time. \\r\\n\\r\\nSkill and Infrastructure: To handle time series data effectively, you will need expertise in data cleaning and preprocessing, as time series data often requires special treatment to handle missing values, outliers, and other anomalies. And you need to use specialized tools for time series analysis, such as R or Python packages like \"statsmodels\" or \"prophet\". You will also need to have experience with statistical modeling techniques, such as ARIMA or exponential smoothing, as well as familiarity with machine learning algorithms that can be used for time series forecasting, such as random forests or neural networks. \\r\\n\\r\\nHybrid: A hybrid of causal and time series data refers to data that combines both causal and time series elements. This type of data is often used to understand the impact of a specific event or intervention over time. For example, a study that measures the impact of a new drug on patient outcomes over time is a hybrid of causal and time series data. This type of data is often used in fields such as public health, environmental science, and economics. For example: A study that measures the impact of a new environmental policy on air pollution levels over time \\r\\n\\r\\nSkill and Infrastructure: Handling hybrid data that combines causal and time series components can require a range of tools and skills. In addition to the statistical and causal inference expertise needed to analyze causal data, you may also need to have a deep understanding of time series analysis and forecasting. This could involve using tools such as ARIMA or other time series forecasting models. \\r\\n\\r\\n \\r\\n\\r\\n \\r\\n\\r\\nThe above image is static (need to make dynamic) \\r\\n\\r\\n \\r\\n\\r\\nCloud Storage (in USD) \\r\\n\\r\\nOn-premises (in USD) \\r\\n\\r\\n \\r\\n\\r\\n \\r\\n\\r\\n \\r\\n\\r\\n \\r\\n\\r\\n \\r\\n\\r\\n \\r\\n\\r\\n \\r\\n\\r\\n \\r\\n\\r\\n \\r\\n\\r\\n \\r\\n\\r\\nSecurity and Compliance Costs (in USD) \\r\\n\\r\\n \\r\\n\\r\\n \\r\\n\\r\\n \\r\\n\\r\\n \\r\\n\\r\\n \\r\\n\\r\\nStaffing Costs (in USD) \\r\\n\\r\\n \\r\\n\\r\\n \\r\\n\\r\\n \\r\\n\\r\\n \\r\\n\\r\\n \\r\\n\\r\\n \\r\\n\\r\\n \\r\\n\\r\\nRole/Manpower \\r\\n\\r\\nSkills \\r\\n\\r\\nTools \\r\\n\\r\\n \\r\\n\\r\\n \\r\\n\\r\\n \\r\\n\\r\\n \\r\\n\\r\\n \\r\\n\\r\\n \\r\\n\\r\\n \\r\\n\\r\\n \\r\\n\\r\\n \\r\\n\\r\\n \\r\\n\\r\\n************************************************************************************* \\r\\n\\r\\n '"
            ],
            "application/vnd.google.colaboratory.intrinsic+json": {
              "type": "string"
            }
          },
          "metadata": {},
          "execution_count": 16
        }
      ]
    },
    {
      "cell_type": "code",
      "source": [
        "data=data.replace('\\r',' ')\n",
        "data=data.replace('\\n',' ')"
      ],
      "metadata": {
        "id": "y8yO2esEF1d1"
      },
      "execution_count": null,
      "outputs": []
    },
    {
      "cell_type": "code",
      "source": [
        "import re\n",
        "data=re.sub('/','or',data)\n",
        "data=re.sub('[^A-Za-z]',' ',data)\n",
        "words=data.split(\" \")"
      ],
      "metadata": {
        "id": "DDhL7BH0GKfP"
      },
      "execution_count": null,
      "outputs": []
    },
    {
      "cell_type": "code",
      "source": [
        "words[1]==''"
      ],
      "metadata": {
        "colab": {
          "base_uri": "https://localhost:8080/"
        },
        "id": "HunOUOnEHcaY",
        "outputId": "630ea92b-db10-443b-d137-1d479727e51c"
      },
      "execution_count": null,
      "outputs": [
        {
          "output_type": "execute_result",
          "data": {
            "text/plain": [
              "True"
            ]
          },
          "metadata": {},
          "execution_count": 36
        }
      ]
    },
    {
      "cell_type": "code",
      "source": [
        "cleaned=[]\n",
        "for i in words:\n",
        "  if(i!=''):\n",
        "    cleaned.append(i)"
      ],
      "metadata": {
        "id": "J6lc3BaAHT8n"
      },
      "execution_count": null,
      "outputs": []
    },
    {
      "cell_type": "code",
      "source": [
        "from tensorflow.keras.preprocessing.text import Tokenizer"
      ],
      "metadata": {
        "id": "P8KgDL_kKRwG"
      },
      "execution_count": null,
      "outputs": []
    },
    {
      "cell_type": "code",
      "source": [
        "t=Tokenizer()\n",
        "t.fit_on_texts(cleaned)\n",
        "tokens=t.texts_to_sequences(cleaned)"
      ],
      "metadata": {
        "id": "ENjsK9-YM1xf"
      },
      "execution_count": null,
      "outputs": []
    },
    {
      "cell_type": "code",
      "source": [
        "#EMbedding _matrix: this is a mtrix of the words present in the input data,whose token ids and relations are retrieved from glove:"
      ],
      "metadata": {
        "id": "eU1urNgLAbV7"
      },
      "execution_count": null,
      "outputs": []
    },
    {
      "cell_type": "code",
      "source": [
        "size_of_vocabulary=len(np.unique(cleaned))+1\n",
        "embedding_matrix=np.zeros((size_of_vocabulary,50))\n",
        "\n",
        "\n",
        "for i in t.word_index.items():\n",
        "  if(i in embeddings_index.keys()):\n",
        "    val=embeddings_index.get(i)\n",
        "    if(val is not None):\n",
        "      embedding_matrix[i]=val"
      ],
      "metadata": {
        "id": "-D4kMHl6Hzes"
      },
      "execution_count": null,
      "outputs": []
    },
    {
      "cell_type": "code",
      "source": [
        "x2,y2=[],[]\n",
        "x3,y3=[],[]\n",
        "x4,y4=[],[]\n",
        "for i in range(len(tokens)):\n",
        "  if(i+3<len(tokens)):\n",
        "    x2.append(tokens[i:i+2])\n",
        "    y2.append(tokens[i+2])\n",
        "  if(i+4<len(tokens)):\n",
        "    x3.append(tokens[i:i+3])\n",
        "    y3.append(tokens[i+3])\n",
        "  if(i+5<len(tokens)):\n",
        "    x4.append(tokens[i:i+4])\n",
        "    y4.append(tokens[i+4])"
      ],
      "metadata": {
        "id": "Ihzto6oMNrSE"
      },
      "execution_count": null,
      "outputs": []
    },
    {
      "cell_type": "code",
      "source": [
        "import tensorflow as tf\n",
        "x2=tf.convert_to_tensor(x2)\n",
        "y2=tf.convert_to_tensor(y2)"
      ],
      "metadata": {
        "id": "t2sne4xgQsa0"
      },
      "execution_count": null,
      "outputs": []
    },
    {
      "cell_type": "code",
      "source": [
        "x2=np.reshape(x2,(3116,2))\n",
        "y2=np.reshape(y2,(3116,1))"
      ],
      "metadata": {
        "id": "AlFkyyX5Ua-N"
      },
      "execution_count": null,
      "outputs": []
    },
    {
      "cell_type": "code",
      "source": [],
      "metadata": {
        "colab": {
          "base_uri": "https://localhost:8080/"
        },
        "id": "nF01iFnEcOhE",
        "outputId": "e3955cc4-1622-4cf6-d3dc-a4a28ce7f7e4"
      },
      "execution_count": null,
      "outputs": [
        {
          "output_type": "execute_result",
          "data": {
            "text/plain": [
              "array([405, 164], dtype=int32)"
            ]
          },
          "metadata": {},
          "execution_count": 247
        }
      ]
    },
    {
      "cell_type": "code",
      "source": [
        "x2.shape"
      ],
      "metadata": {
        "colab": {
          "base_uri": "https://localhost:8080/"
        },
        "id": "Jg2Vio2uX_C-",
        "outputId": "a04f8c6b-9dcd-4df6-f303-9093260fc512"
      },
      "execution_count": null,
      "outputs": [
        {
          "output_type": "execute_result",
          "data": {
            "text/plain": [
              "(3116, 2)"
            ]
          },
          "metadata": {},
          "execution_count": 33
        }
      ]
    },
    {
      "cell_type": "code",
      "source": [
        "y2.shape"
      ],
      "metadata": {
        "colab": {
          "base_uri": "https://localhost:8080/"
        },
        "id": "S64ZCjghXDYz",
        "outputId": "cbc4c814-00af-48b8-d90b-0b4734ee1d43"
      },
      "execution_count": null,
      "outputs": [
        {
          "output_type": "execute_result",
          "data": {
            "text/plain": [
              "TensorShape([3116, 1])"
            ]
          },
          "metadata": {},
          "execution_count": 27
        }
      ]
    },
    {
      "cell_type": "code",
      "source": [
        "#x2=np.reshape(x2,(x2.shape[0],x2.shape[2],x2.shape[1]))\n",
        "y2=np.reshape(y2,(y2.shape[0],1,y2.shape[1]))"
      ],
      "metadata": {
        "id": "p4nnWh3eSfCW"
      },
      "execution_count": null,
      "outputs": []
    },
    {
      "cell_type": "code",
      "source": [
        "model=Sequential()\n",
        "model.add(Embedding(size_of_vocabulary,50,weights=[embedding_matrix],input_length=2,trainable=True))\n",
        "# model.add(Bidirectional(LSTM(60,activation='sigmoid',return_sequences=True)))\n",
        "# model.add(Bidirectional(LSTM(25,activation='tanh',return_sequences=True)))\n",
        "model.add(Flatten())\n",
        "model.add(Dense(50,activation='gelu'))\n",
        "model.add(Dense(1,activation='softmax'))\n",
        "\n",
        "model.summary()"
      ],
      "metadata": {
        "colab": {
          "base_uri": "https://localhost:8080/"
        },
        "id": "YoIAn2gT_ooU",
        "outputId": "a837340c-707e-446f-fdde-49d23c3d15bc"
      },
      "execution_count": null,
      "outputs": [
        {
          "output_type": "stream",
          "name": "stdout",
          "text": [
            "Model: \"sequential_4\"\n",
            "_________________________________________________________________\n",
            " Layer (type)                Output Shape              Param #   \n",
            "=================================================================\n",
            " embedding_4 (Embedding)     (None, 2, 50)             45550     \n",
            "                                                                 \n",
            " flatten_4 (Flatten)         (None, 100)               0         \n",
            "                                                                 \n",
            " dense_4 (Dense)             (None, 50)                5050      \n",
            "                                                                 \n",
            " dense_5 (Dense)             (None, 1)                 51        \n",
            "                                                                 \n",
            "=================================================================\n",
            "Total params: 50,651\n",
            "Trainable params: 50,651\n",
            "Non-trainable params: 0\n",
            "_________________________________________________________________\n"
          ]
        }
      ]
    },
    {
      "cell_type": "code",
      "source": [
        "embedding_layer = model.layers[0]\n",
        "embedding_matrix = embedding_layer.get_weights()[0]"
      ],
      "metadata": {
        "id": "aVY-WFYW33XM"
      },
      "execution_count": null,
      "outputs": []
    },
    {
      "cell_type": "code",
      "source": [
        "embedding_matrix"
      ],
      "metadata": {
        "id": "UKeDlFaF35a0"
      },
      "execution_count": null,
      "outputs": []
    },
    {
      "cell_type": "code",
      "source": [
        "model.compile(optimizer='adam',loss='categorical_crossentropy',metrics=['acc'])"
      ],
      "metadata": {
        "id": "DobV6AVPAjWS"
      },
      "execution_count": null,
      "outputs": []
    },
    {
      "cell_type": "code",
      "source": [
        "model.fit(x=x2,y=y2,validation_split=0.05,epochs=10,batch_size=10)"
      ],
      "metadata": {
        "colab": {
          "base_uri": "https://localhost:8080/"
        },
        "id": "Qfw5Mnn6Thaa",
        "outputId": "9a24115b-7f78-4918-fd0a-43a37c6821d6"
      },
      "execution_count": null,
      "outputs": [
        {
          "output_type": "stream",
          "name": "stdout",
          "text": [
            "Epoch 1/10\n",
            "296/296 [==============================] - 2s 3ms/step - loss: 0.0000e+00 - acc: 0.0524 - val_loss: 0.0000e+00 - val_acc: 0.0513\n",
            "Epoch 2/10\n",
            "296/296 [==============================] - 1s 2ms/step - loss: 0.0000e+00 - acc: 0.0524 - val_loss: 0.0000e+00 - val_acc: 0.0513\n",
            "Epoch 3/10\n",
            "296/296 [==============================] - 1s 2ms/step - loss: 0.0000e+00 - acc: 0.0524 - val_loss: 0.0000e+00 - val_acc: 0.0513\n",
            "Epoch 4/10\n",
            "296/296 [==============================] - 1s 2ms/step - loss: 0.0000e+00 - acc: 0.0524 - val_loss: 0.0000e+00 - val_acc: 0.0513\n",
            "Epoch 5/10\n",
            "296/296 [==============================] - 1s 2ms/step - loss: 0.0000e+00 - acc: 0.0524 - val_loss: 0.0000e+00 - val_acc: 0.0513\n",
            "Epoch 6/10\n",
            "296/296 [==============================] - 1s 4ms/step - loss: 0.0000e+00 - acc: 0.0524 - val_loss: 0.0000e+00 - val_acc: 0.0513\n",
            "Epoch 7/10\n",
            "296/296 [==============================] - 0s 1ms/step - loss: 0.0000e+00 - acc: 0.0524 - val_loss: 0.0000e+00 - val_acc: 0.0513\n",
            "Epoch 8/10\n",
            "296/296 [==============================] - 0s 1ms/step - loss: 0.0000e+00 - acc: 0.0524 - val_loss: 0.0000e+00 - val_acc: 0.0513\n",
            "Epoch 9/10\n",
            "296/296 [==============================] - 0s 1ms/step - loss: 0.0000e+00 - acc: 0.0524 - val_loss: 0.0000e+00 - val_acc: 0.0513\n",
            "Epoch 10/10\n",
            "296/296 [==============================] - 0s 2ms/step - loss: 0.0000e+00 - acc: 0.0524 - val_loss: 0.0000e+00 - val_acc: 0.0513\n"
          ]
        },
        {
          "output_type": "execute_result",
          "data": {
            "text/plain": [
              "<keras.callbacks.History at 0x7f4823b54070>"
            ]
          },
          "metadata": {},
          "execution_count": 44
        }
      ]
    },
    {
      "cell_type": "code",
      "source": [],
      "metadata": {
        "id": "bGkT1XdBTsoX"
      },
      "execution_count": null,
      "outputs": []
    }
  ]
}